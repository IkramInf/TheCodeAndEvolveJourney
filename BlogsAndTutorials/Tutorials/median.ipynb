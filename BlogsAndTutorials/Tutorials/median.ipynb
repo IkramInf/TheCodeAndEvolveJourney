{
 "cells": [
  {
   "cell_type": "markdown",
   "id": "8ad11465-65b7-4a01-af53-26d272236703",
   "metadata": {},
   "source": [
    "# Median"
   ]
  },
  {
   "cell_type": "code",
   "execution_count": 2,
   "id": "5793a309-2304-49f5-b549-2a18caab0ff0",
   "metadata": {},
   "outputs": [
    {
     "name": "stdout",
     "output_type": "stream",
     "text": [
      "[65, 72, 75, 77, 78, 79, 80, 81, 82, 84, 85, 86, 87, 88, 89, 90, 91, 92, 94, 95]\n"
     ]
    }
   ],
   "source": [
    "data_even = [65, 72, 75, 77, 78, 79, 80, 81, 82, 84, 85, 86, 87, 88, 89, 90, 91, 92, 94, 95]\n",
    "print(data_even)\n"
   ]
  },
  {
   "cell_type": "code",
   "execution_count": 12,
   "id": "c59b3a10-405f-4db4-90fb-09584e0e247a",
   "metadata": {},
   "outputs": [
    {
     "data": {
      "text/plain": [
       "20"
      ]
     },
     "execution_count": 12,
     "metadata": {},
     "output_type": "execute_result"
    }
   ],
   "source": [
    "n1 = len(data_even)\n",
    "n1"
   ]
  },
  {
   "cell_type": "code",
   "execution_count": 18,
   "id": "6a4469ef-121f-4e47-9948-0a647a06b7ce",
   "metadata": {},
   "outputs": [
    {
     "name": "stdout",
     "output_type": "stream",
     "text": [
      "[65, 72, 75, 77, 78, 79, 80, 81, 82, 84, 85, 86, 87, 88, 89, 90, 91, 92, 94, 95]\n"
     ]
    }
   ],
   "source": [
    "data = sorted(data_even)\n",
    "print(data)\n"
   ]
  },
  {
   "cell_type": "code",
   "execution_count": 20,
   "id": "90a99606-16ec-4add-92db-7aa82fe5a33d",
   "metadata": {},
   "outputs": [
    {
     "data": {
      "text/plain": [
       "10"
      ]
     },
     "execution_count": 20,
     "metadata": {},
     "output_type": "execute_result"
    }
   ],
   "source": [
    "m = n1 // 2\n",
    "m"
   ]
  },
  {
   "cell_type": "code",
   "execution_count": 22,
   "id": "e99a501c-7125-4271-9207-26b0066f05ff",
   "metadata": {},
   "outputs": [
    {
     "name": "stdout",
     "output_type": "stream",
     "text": [
      "median:  84.5\n"
     ]
    }
   ],
   "source": [
    "median = (data[m-1] + data[m]) / 2\n",
    "print(\"median: \", median)\n"
   ]
  },
  {
   "cell_type": "code",
   "execution_count": null,
   "id": "21b26a6f-b4be-44ac-a85a-75a634d75826",
   "metadata": {},
   "outputs": [],
   "source": []
  },
  {
   "cell_type": "code",
   "execution_count": 8,
   "id": "84949aaf-467f-46c1-aabc-962eff1e98b6",
   "metadata": {},
   "outputs": [
    {
     "name": "stdout",
     "output_type": "stream",
     "text": [
      "[65, 72, 75, 77, 78, 79, 80, 81, 82, 84, 99, 85, 86, 87, 88, 89, 90, 91, 92, 94, 95]\n"
     ]
    }
   ],
   "source": [
    "data_odd = [65, 72, 75, 77, 78, 79, 80, 81, 82, 84, 99, 85, 86, 87, 88, 89, 90, 91, 92, 94, 95]\n",
    "print(data_odd)\n"
   ]
  },
  {
   "cell_type": "code",
   "execution_count": 24,
   "id": "1628a2a2-12be-4e43-b913-4a6d920cf35f",
   "metadata": {},
   "outputs": [
    {
     "data": {
      "text/plain": [
       "21"
      ]
     },
     "execution_count": 24,
     "metadata": {},
     "output_type": "execute_result"
    }
   ],
   "source": [
    "n2 = len(data_odd)\n",
    "n2"
   ]
  },
  {
   "cell_type": "code",
   "execution_count": 26,
   "id": "6bea06ca-8e51-42c7-8aaf-77d8feab1609",
   "metadata": {},
   "outputs": [
    {
     "name": "stdout",
     "output_type": "stream",
     "text": [
      "[65, 72, 75, 77, 78, 79, 80, 81, 82, 84, 85, 86, 87, 88, 89, 90, 91, 92, 94, 95]\n"
     ]
    }
   ],
   "source": [
    "data = sorted(data)\n",
    "print(data)\n"
   ]
  },
  {
   "cell_type": "code",
   "execution_count": 28,
   "id": "fec65b41-4ebb-4ed7-a952-bdc24086978c",
   "metadata": {},
   "outputs": [
    {
     "data": {
      "text/plain": [
       "10"
      ]
     },
     "execution_count": 28,
     "metadata": {},
     "output_type": "execute_result"
    }
   ],
   "source": [
    "m = n2 // 2\n",
    "m"
   ]
  },
  {
   "cell_type": "code",
   "execution_count": 30,
   "id": "40a18491-64c2-44e5-af4e-df991b0cc225",
   "metadata": {},
   "outputs": [
    {
     "name": "stdout",
     "output_type": "stream",
     "text": [
      "median:  85\n"
     ]
    }
   ],
   "source": [
    "median = data[m]\n",
    "print(\"median: \", median)\n"
   ]
  },
  {
   "cell_type": "code",
   "execution_count": 32,
   "id": "87f30ed1-33a1-4de8-a772-ac8e2951a7ae",
   "metadata": {},
   "outputs": [
    {
     "name": "stdout",
     "output_type": "stream",
     "text": [
      "median:  85\n"
     ]
    }
   ],
   "source": [
    "median = (data[m-1] + data[m]) / 2 if n2 % 2 == 0 else data[m]\n",
    "print(\"median: \", median)\n"
   ]
  },
  {
   "cell_type": "code",
   "execution_count": null,
   "id": "38d27343-cb67-49e4-b13a-fda2aa9d1599",
   "metadata": {},
   "outputs": [],
   "source": []
  }
 ],
 "metadata": {
  "kernelspec": {
   "display_name": "Python 3 (ipykernel)",
   "language": "python",
   "name": "python3"
  },
  "language_info": {
   "codemirror_mode": {
    "name": "ipython",
    "version": 3
   },
   "file_extension": ".py",
   "mimetype": "text/x-python",
   "name": "python",
   "nbconvert_exporter": "python",
   "pygments_lexer": "ipython3",
   "version": "3.12.4"
  }
 },
 "nbformat": 4,
 "nbformat_minor": 5
}
