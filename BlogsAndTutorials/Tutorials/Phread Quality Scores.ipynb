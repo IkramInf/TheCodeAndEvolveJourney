{
 "cells": [
  {
   "cell_type": "markdown",
   "id": "13e7537f-c373-4e87-8864-6a25ee0c9f58",
   "metadata": {},
   "source": [
    "# Phred Quality Scores\n",
    "\n",
    "- <span style=\"font-size: 1.5em;\">Phred+33 (! to I)</span>\n",
    "- <span style=\"font-size: 1.5em;\">Phred+64 (@ to h)</span>\n",
    "\n",
    "<span style=\"font-size: 1.5em;\">\n",
    "<b>Formula:</b></br> $\\text{Phred quality score } Q = -10\\log_{10}p $ </br>\n",
    "$ \\implies \\text{probability of error } p = 10 ^ {\\frac{Q}{-10}} $\n",
    "</span>\n"
   ]
  },
  {
   "cell_type": "code",
   "execution_count": 2,
   "id": "4a537477-27ff-483f-8b4f-257a3b1caa95",
   "metadata": {},
   "outputs": [
    {
     "name": "stdout",
     "output_type": "stream",
     "text": [
      "ASCII 0: \u0000\n",
      "ASCII 1: \u0001\n",
      "ASCII 2: \u0002\n",
      "ASCII 3: \u0003\n",
      "ASCII 4: \u0004\n",
      "ASCII 5: \u0005\n",
      "ASCII 6: \u0006\n",
      "ASCII 7: \u0007\n",
      "ASCII 8:\n",
      "ASCII 9: \t\n",
      "ASCII 10: \n",
      "\n",
      "ASCII 11: \u000b",
      "\n",
      "ASCII 12: \f",
      "\n",
      "ASCII 13: \n",
      "ASCII 14: \u000e\n",
      "ASCII 15: \u000f\n",
      "ASCII 16: \u0010\n",
      "ASCII 17: \u0011\n",
      "ASCII 18: \u0012\n",
      "ASCII 19: \u0013\n",
      "ASCII 20: \u0014\n",
      "ASCII 21: \u0015\n",
      "ASCII 22: \u0016\n",
      "ASCII 23: \u0017\n",
      "ASCII 24: \u0018\n",
      "ASCII 25: \u0019\n",
      "ASCII 26: \u001a\n",
      "ASCII 27: \u001b\n",
      "ASCII 28: \u001c",
      "\n",
      "ASCII 29: \u001d",
      "\n",
      "ASCII 30: \u001e",
      "\n",
      "ASCII 31: \u001f\n",
      "ASCII 32:  \n",
      "ASCII 33: !\n",
      "ASCII 34: \"\n",
      "ASCII 35: #\n",
      "ASCII 36: $\n",
      "ASCII 37: %\n",
      "ASCII 38: &\n",
      "ASCII 39: '\n",
      "ASCII 40: (\n",
      "ASCII 41: )\n",
      "ASCII 42: *\n",
      "ASCII 43: +\n",
      "ASCII 44: ,\n",
      "ASCII 45: -\n",
      "ASCII 46: .\n",
      "ASCII 47: /\n",
      "ASCII 48: 0\n",
      "ASCII 49: 1\n",
      "ASCII 50: 2\n",
      "ASCII 51: 3\n",
      "ASCII 52: 4\n",
      "ASCII 53: 5\n",
      "ASCII 54: 6\n",
      "ASCII 55: 7\n",
      "ASCII 56: 8\n",
      "ASCII 57: 9\n",
      "ASCII 58: :\n",
      "ASCII 59: ;\n",
      "ASCII 60: <\n",
      "ASCII 61: =\n",
      "ASCII 62: >\n",
      "ASCII 63: ?\n",
      "ASCII 64: @\n",
      "ASCII 65: A\n",
      "ASCII 66: B\n",
      "ASCII 67: C\n",
      "ASCII 68: D\n",
      "ASCII 69: E\n",
      "ASCII 70: F\n",
      "ASCII 71: G\n",
      "ASCII 72: H\n",
      "ASCII 73: I\n",
      "ASCII 74: J\n",
      "ASCII 75: K\n",
      "ASCII 76: L\n",
      "ASCII 77: M\n",
      "ASCII 78: N\n",
      "ASCII 79: O\n",
      "ASCII 80: P\n",
      "ASCII 81: Q\n",
      "ASCII 82: R\n",
      "ASCII 83: S\n",
      "ASCII 84: T\n",
      "ASCII 85: U\n",
      "ASCII 86: V\n",
      "ASCII 87: W\n",
      "ASCII 88: X\n",
      "ASCII 89: Y\n",
      "ASCII 90: Z\n",
      "ASCII 91: [\n",
      "ASCII 92: \\\n",
      "ASCII 93: ]\n",
      "ASCII 94: ^\n",
      "ASCII 95: _\n",
      "ASCII 96: `\n",
      "ASCII 97: a\n",
      "ASCII 98: b\n",
      "ASCII 99: c\n",
      "ASCII 100: d\n",
      "ASCII 101: e\n",
      "ASCII 102: f\n",
      "ASCII 103: g\n",
      "ASCII 104: h\n",
      "ASCII 105: i\n",
      "ASCII 106: j\n",
      "ASCII 107: k\n",
      "ASCII 108: l\n",
      "ASCII 109: m\n",
      "ASCII 110: n\n",
      "ASCII 111: o\n",
      "ASCII 112: p\n",
      "ASCII 113: q\n",
      "ASCII 114: r\n",
      "ASCII 115: s\n",
      "ASCII 116: t\n",
      "ASCII 117: u\n",
      "ASCII 118: v\n",
      "ASCII 119: w\n",
      "ASCII 120: x\n",
      "ASCII 121: y\n",
      "ASCII 122: z\n",
      "ASCII 123: {\n",
      "ASCII 124: |\n",
      "ASCII 125: }\n",
      "ASCII 126: ~\n",
      "ASCII 127: \n"
     ]
    }
   ],
   "source": [
    "# Print all 128 ASCII characters\n",
    "for i in range(128):\n",
    "    print(f\"ASCII {i}: {chr(i)}\")\n"
   ]
  },
  {
   "cell_type": "markdown",
   "id": "7ac32718-1f61-4e8a-a299-5b991de70061",
   "metadata": {},
   "source": [
    "<span style=\"font-size: 1.25em;\">\n",
    "Why we can't see ASCII characters from 0 to 32 and 127?</br>\n",
    "They are non-printable i.e., these characters do not correspond to symbols or letters that can be displayed on the screen. Instead, they were meant to control devices, perform actions, or convey non-textual information.</br>\n",
    "e.g., NUL, TAB, ESC, DEL etc.\n",
    "</span>\n"
   ]
  },
  {
   "cell_type": "code",
   "execution_count": 4,
   "id": "3a3a8884-9975-40f5-888f-f0c083c510ce",
   "metadata": {},
   "outputs": [
    {
     "data": {
      "text/plain": [
       "0.7943282347242815"
      ]
     },
     "execution_count": 4,
     "metadata": {},
     "output_type": "execute_result"
    }
   ],
   "source": [
    "prob_error = lambda Q: 10 ** (Q / (-10))\n",
    "\n",
    "# call the function\n",
    "Q = 1\n",
    "prob_error(Q)\n"
   ]
  },
  {
   "cell_type": "code",
   "execution_count": 5,
   "id": "a63a30e2-e6b1-4320-9175-19a7397f2dcb",
   "metadata": {},
   "outputs": [
    {
     "name": "stdout",
     "output_type": "stream",
     "text": [
      "Phred  Prob of   Phred+33  Phred+64\n",
      "score   Error     Ascii     Ascii  \n",
      "  0    1.00000     !         @    \n",
      "  1    0.79433     \"         A    \n",
      "  2    0.63096     #         B    \n",
      "  3    0.50119     $         C    \n",
      "  4    0.39811     %         D    \n",
      "  5    0.31623     &         E    \n",
      "  6    0.25119     '         F    \n",
      "  7    0.19953     (         G    \n",
      "  8    0.15849     )         H    \n",
      "  9    0.12589     *         I    \n",
      " 10    0.10000     +         J    \n",
      " 11    0.07943     ,         K    \n",
      " 12    0.06310     -         L    \n",
      " 13    0.05012     .         M    \n",
      " 14    0.03981     /         N    \n",
      " 15    0.03162     0         O    \n",
      " 16    0.02512     1         P    \n",
      " 17    0.01995     2         Q    \n",
      " 18    0.01585     3         R    \n",
      " 19    0.01259     4         S    \n",
      " 20    0.01000     5         T    \n",
      " 21    0.00794     6         U    \n",
      " 22    0.00631     7         V    \n",
      " 23    0.00501     8         W    \n",
      " 24    0.00398     9         X    \n",
      " 25    0.00316     :         Y    \n",
      " 26    0.00251     ;         Z    \n",
      " 27    0.00200     <         [    \n",
      " 28    0.00158     =         \\    \n",
      " 29    0.00126     >         ]    \n",
      " 30    0.00100     ?         ^    \n",
      " 31    0.00079     @         _    \n",
      " 32    0.00063     A         `    \n",
      " 33    0.00050     B         a    \n",
      " 34    0.00040     C         b    \n",
      " 35    0.00032     D         c    \n",
      " 36    0.00025     E         d    \n",
      " 37    0.00020     F         e    \n",
      " 38    0.00016     G         f    \n",
      " 39    0.00013     H         g    \n",
      " 40    0.00010     I         h    \n"
     ]
    }
   ],
   "source": [
    "# Header for the table\n",
    "print(\"{0:^5}  {1:^8}  {2:^8}  {3:^8}\".format(\"Phred\", \"Prob of\", \"Phred+33\", \"Phred+64\"))\n",
    "print(\"{0:^5}  {1:^8}  {2:^8}  {3:^8}\".format(\"score\", \"Error\", \"Ascii\", \"Ascii\"))\n",
    "\n",
    "# Print each Phred score with its corresponding values\n",
    "for phred in range(0, 41):\n",
    "    print(\"{0:^5}  {1:03.5f}  {2:^8}  {3:^8}\".format(phred, prob_error(phred), chr(phred + 33), chr(phred + 64)))\n"
   ]
  },
  {
   "cell_type": "code",
   "execution_count": null,
   "id": "7bfc1082-8379-4b51-983d-16b01d22cac7",
   "metadata": {},
   "outputs": [],
   "source": []
  },
  {
   "cell_type": "code",
   "execution_count": 6,
   "id": "d2c8ef92-927c-4cda-a4e2-5ec8a8671010",
   "metadata": {},
   "outputs": [
    {
     "name": "stdout",
     "output_type": "stream",
     "text": [
      "#AAAFFJJFJJFJJJJF-FFFJJFJJJJFJJJJFJJFAFJF-FFJFJFJJJJ7A<FFJJJFAJF<<-JJJFJJF----FA--7-A-7------7A-7----7FJ----7---7-7A-AF-#A<---7---7A-F)-7AA<--77-)--)-\n"
     ]
    }
   ],
   "source": [
    "with open(\"sequence.fastq\", \"r\") as input_file:\n",
    "    quality_ascii = input_file.readlines()[-1].strip()\n",
    "\n",
    "print(quality_ascii)\n"
   ]
  },
  {
   "cell_type": "code",
   "execution_count": 24,
   "id": "a5e6b0b5-449d-4f1a-90f6-a1d28a3fc675",
   "metadata": {},
   "outputs": [
    {
     "data": {
      "text/plain": [
       "65"
      ]
     },
     "execution_count": 24,
     "metadata": {},
     "output_type": "execute_result"
    }
   ],
   "source": [
    "ord('A')"
   ]
  },
  {
   "cell_type": "code",
   "execution_count": 26,
   "id": "8bb56472-50b5-4c5e-addd-d79364998ae0",
   "metadata": {},
   "outputs": [
    {
     "data": {
      "text/plain": [
       "'A'"
      ]
     },
     "execution_count": 26,
     "metadata": {},
     "output_type": "execute_result"
    }
   ],
   "source": [
    "chr(65)"
   ]
  },
  {
   "cell_type": "code",
   "execution_count": 7,
   "id": "c129797b-86eb-4139-a0d6-9ad8e4bfa8c5",
   "metadata": {},
   "outputs": [
    {
     "name": "stdout",
     "output_type": "stream",
     "text": [
      "[2, 32, 32, 32, 37, 37, 41, 41, 37, 41, 41, 37, 41, 41, 41, 41, 37, 12, 37, 37, 37, 41, 41, 37, 41, 41, 41, 41, 37, 41, 41, 41, 41, 37, 41, 41, 37, 32, 37, 41, 37, 12, 37, 37, 41, 37, 41, 37, 41, 41, 41, 41, 22, 32, 27, 37, 37, 41, 41, 41, 37, 32, 41, 37, 27, 27, 12, 41, 41, 41, 37, 41, 41, 37, 12, 12, 12, 12, 37, 32, 12, 12, 22, 12, 32, 12, 22, 12, 12, 12, 12, 12, 12, 22, 32, 12, 22, 12, 12, 12, 12, 22, 37, 41, 12, 12, 12, 12, 22, 12, 12, 12, 22, 12, 22, 32, 12, 32, 37, 12, 2, 32, 27, 12, 12, 12, 22, 12, 12, 12, 22, 32, 12, 37, 8, 12, 22, 32, 32, 27, 12, 12, 22, 22, 12, 8, 12, 12, 8, 12]\n"
     ]
    }
   ],
   "source": [
    "quality_scores = [ord(qual) - 33 for qual in quality_ascii]\n",
    "print(quality_scores)\n"
   ]
  },
  {
   "cell_type": "code",
   "execution_count": null,
   "id": "944a422f-0e9f-4b95-9a17-8f0603bc541c",
   "metadata": {},
   "outputs": [],
   "source": []
  },
  {
   "cell_type": "code",
   "execution_count": 8,
   "id": "f5526990-c8ad-4acf-bd73-7cc3ce62de16",
   "metadata": {},
   "outputs": [],
   "source": [
    "from Bio import SeqIO"
   ]
  },
  {
   "cell_type": "code",
   "execution_count": 9,
   "id": "03a87103-2ceb-4829-805e-c6e472b71d12",
   "metadata": {},
   "outputs": [
    {
     "name": "stdout",
     "output_type": "stream",
     "text": [
      "[2, 32, 32, 32, 37, 37, 41, 41, 37, 41, 41, 37, 41, 41, 41, 41, 37, 12, 37, 37, 37, 41, 41, 37, 41, 41, 41, 41, 37, 41, 41, 41, 41, 37, 41, 41, 37, 32, 37, 41, 37, 12, 37, 37, 41, 37, 41, 37, 41, 41, 41, 41, 22, 32, 27, 37, 37, 41, 41, 41, 37, 32, 41, 37, 27, 27, 12, 41, 41, 41, 37, 41, 41, 37, 12, 12, 12, 12, 37, 32, 12, 12, 22, 12, 32, 12, 22, 12, 12, 12, 12, 12, 12, 22, 32, 12, 22, 12, 12, 12, 12, 22, 37, 41, 12, 12, 12, 12, 22, 12, 12, 12, 22, 12, 22, 32, 12, 32, 37, 12, 2, 32, 27, 12, 12, 12, 22, 12, 12, 12, 22, 32, 12, 37, 8, 12, 22, 32, 32, 27, 12, 12, 22, 22, 12, 8, 12, 12, 8, 12]\n"
     ]
    }
   ],
   "source": [
    "quality_scores_bp = SeqIO.read(\"sequence.fastq\", \"fastq\").letter_annotations['phred_quality']\n",
    "print(quality_scores_bp)\n"
   ]
  },
  {
   "cell_type": "code",
   "execution_count": null,
   "id": "411f2942-19c8-4fb2-97a8-8cbf9f6c1476",
   "metadata": {},
   "outputs": [],
   "source": []
  },
  {
   "cell_type": "code",
   "execution_count": 28,
   "id": "3c560709-344f-4166-a7bc-2a50daa56c55",
   "metadata": {},
   "outputs": [
    {
     "name": "stdout",
     "output_type": "stream",
     "text": [
      "Quality Scores are same.\n"
     ]
    }
   ],
   "source": [
    "if quality_scores == quality_scores_bp:\n",
    "    print(\"Quality Scores are same.\")\n",
    "else:\n",
    "    print(\"Quality Scores aren't same!\")\n"
   ]
  },
  {
   "cell_type": "code",
   "execution_count": 32,
   "id": "e93562a3-e185-4c7d-ab2f-dcc057eb1308",
   "metadata": {},
   "outputs": [
    {
     "name": "stdout",
     "output_type": "stream",
     "text": [
      "#AAAFFJJFJJFJJJJF-FFFJJFJJJJFJJJJFJJFAFJF-FFJFJFJJJJ7A<FFJJJFAJF<<-JJJFJJF----FA--7-A-7------7A-7----7FJ----7---7-7A-AF-#A<---7---7A-F)-7AA<--77-)--)-\n"
     ]
    }
   ],
   "source": [
    "# to Phred33\n",
    "\n",
    "phred33 = [chr(qual+33) for qual in quality_scores]\n",
    "print(\"\".join(phred33))\n"
   ]
  },
  {
   "cell_type": "code",
   "execution_count": 34,
   "id": "68ffe2b9-4d6a-4608-a8d8-faa27d104007",
   "metadata": {},
   "outputs": [
    {
     "name": "stdout",
     "output_type": "stream",
     "text": [
      "B```eeiieiieiiiieLeeeiieiiiieiiiieiie`eieLeeieieiiiiV`[eeiiie`ie[[LiiieiieLLLLe`LLVL`LVLLLLLLV`LVLLLLVeiLLLLVLLLVLV`L`eLB`[LLLVLLLV`LeHLV``[LLVVLHLLHL\n"
     ]
    }
   ],
   "source": [
    "# to Phred64\n",
    "\n",
    "phred64 = [chr(qual+64) for qual in quality_scores]\n",
    "print(\"\".join(phred64))\n"
   ]
  },
  {
   "cell_type": "code",
   "execution_count": null,
   "id": "eb7424ec-4bd1-4f5e-ad29-8936fcefe969",
   "metadata": {},
   "outputs": [],
   "source": []
  }
 ],
 "metadata": {
  "kernelspec": {
   "display_name": "Python 3 (ipykernel)",
   "language": "python",
   "name": "python3"
  },
  "language_info": {
   "codemirror_mode": {
    "name": "ipython",
    "version": 3
   },
   "file_extension": ".py",
   "mimetype": "text/x-python",
   "name": "python",
   "nbconvert_exporter": "python",
   "pygments_lexer": "ipython3",
   "version": "3.12.4"
  }
 },
 "nbformat": 4,
 "nbformat_minor": 5
}
