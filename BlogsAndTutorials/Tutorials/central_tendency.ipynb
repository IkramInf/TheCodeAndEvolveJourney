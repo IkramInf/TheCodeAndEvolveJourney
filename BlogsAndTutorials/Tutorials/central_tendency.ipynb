{
 "cells": [
  {
   "cell_type": "markdown",
   "id": "b250d9b8-a60d-47af-95e7-5205751a6be8",
   "metadata": {},
   "source": [
    "# 1. Central Tendency"
   ]
  },
  {
   "cell_type": "code",
   "execution_count": 6,
   "id": "e667d700-885b-47fa-b5c4-9e7fe144a999",
   "metadata": {},
   "outputs": [
    {
     "name": "stdout",
     "output_type": "stream",
     "text": [
      "[65, 78, 82, 91, 87, 90, 72, 95, 88, 85, 80, 75, 92, 86, 77, 89, 79, 84, 94, 81]\n"
     ]
    }
   ],
   "source": [
    "data = [65, 78, 82, 91, 87, 90, 72, 95, 88, 85, 80, 75, 92, 86, 77, 89, 79, 84, 94, 81]\n",
    "print(data)\n"
   ]
  },
  {
   "cell_type": "markdown",
   "id": "5bd8ce7f-fc53-4909-8ecb-245e52d8b386",
   "metadata": {},
   "source": [
    "## 1.1 Mean"
   ]
  },
  {
   "cell_type": "code",
   "execution_count": 8,
   "id": "0cc5a40c-ce39-461e-89ea-8f5fe20a2a4e",
   "metadata": {},
   "outputs": [
    {
     "name": "stdout",
     "output_type": "stream",
     "text": [
      "20\n"
     ]
    }
   ],
   "source": [
    "N = len(data)\n",
    "print(N)\n"
   ]
  },
  {
   "cell_type": "code",
   "execution_count": 10,
   "id": "a89e51eb-9a00-4e59-930a-e6b58b3d77c6",
   "metadata": {},
   "outputs": [
    {
     "name": "stdout",
     "output_type": "stream",
     "text": [
      "83.5\n"
     ]
    }
   ],
   "source": [
    "SUM = sum(data)\n",
    "mean = SUM / N\n",
    "print(mean)\n"
   ]
  },
  {
   "cell_type": "markdown",
   "id": "ac105276-88da-417f-bcea-ae664e69f4df",
   "metadata": {},
   "source": [
    "## 1.2 Median"
   ]
  },
  {
   "cell_type": "code",
   "execution_count": 12,
   "id": "366fdeaa-9ec4-43be-9504-1728e2c70506",
   "metadata": {},
   "outputs": [
    {
     "name": "stdout",
     "output_type": "stream",
     "text": [
      "[65, 72, 75, 77, 78, 79, 80, 81, 82, 84, 85, 86, 87, 88, 89, 90, 91, 92, 94, 95]\n"
     ]
    }
   ],
   "source": [
    "sorted_data = sorted(data)\n",
    "print(sorted_data)\n"
   ]
  },
  {
   "cell_type": "code",
   "execution_count": 14,
   "id": "74206aff-e6a6-44c5-9fb1-c0c8ec0c3945",
   "metadata": {},
   "outputs": [
    {
     "data": {
      "text/plain": [
       "10"
      ]
     },
     "execution_count": 14,
     "metadata": {},
     "output_type": "execute_result"
    }
   ],
   "source": [
    "m = N // 2\n",
    "m"
   ]
  },
  {
   "cell_type": "code",
   "execution_count": 16,
   "id": "e66855d3-8c06-464d-ac3a-05fa388b47a2",
   "metadata": {},
   "outputs": [
    {
     "name": "stdout",
     "output_type": "stream",
     "text": [
      "84.5\n"
     ]
    }
   ],
   "source": [
    "median = (sorted_data[m-1] + sorted_data[m]) / 2\n",
    "print(median)\n"
   ]
  },
  {
   "cell_type": "code",
   "execution_count": null,
   "id": "5e3d13e6-945b-4a08-8805-8b15c8ff1b26",
   "metadata": {},
   "outputs": [],
   "source": []
  },
  {
   "cell_type": "markdown",
   "id": "41e53662-4861-425b-ab1f-29a28e245cde",
   "metadata": {},
   "source": [
    "## 1.3 Mode"
   ]
  },
  {
   "cell_type": "code",
   "execution_count": 20,
   "id": "c1396320-3185-419d-98fa-594d20341f0c",
   "metadata": {},
   "outputs": [],
   "source": [
    "new_data = [65, 78, 82, 91, 80, 90, 72, 95, 88, 85, 80, 75, 92, 86, 77, 80, 79, 84, 94, 81]"
   ]
  },
  {
   "cell_type": "code",
   "execution_count": 22,
   "id": "0169fece-2c34-4922-bb40-f95289345cf4",
   "metadata": {},
   "outputs": [
    {
     "name": "stdout",
     "output_type": "stream",
     "text": [
      "{65: 1, 78: 1, 82: 1, 91: 1, 80: 3, 90: 1, 72: 1, 95: 1, 88: 1, 85: 1, 75: 1, 92: 1, 86: 1, 77: 1, 79: 1, 84: 1, 94: 1, 81: 1}\n"
     ]
    }
   ],
   "source": [
    "mode_dict = {}\n",
    "for num in new_data:\n",
    "    mode_dict[num] = mode_dict.get(num, 0) + 1\n",
    "print(mode_dict)\n"
   ]
  },
  {
   "cell_type": "code",
   "execution_count": 30,
   "id": "d1b4c8a0-4d85-4cf0-92cb-82ae2472665f",
   "metadata": {},
   "outputs": [
    {
     "name": "stdout",
     "output_type": "stream",
     "text": [
      "80\n"
     ]
    }
   ],
   "source": [
    "mode = sorted(mode_dict.items(), key=lambda x: x[1], reverse=True)[0][0]\n",
    "print(mode)\n"
   ]
  },
  {
   "cell_type": "code",
   "execution_count": null,
   "id": "4632178c-4f81-4bda-a8e0-7c8751972493",
   "metadata": {},
   "outputs": [],
   "source": []
  }
 ],
 "metadata": {
  "kernelspec": {
   "display_name": "Python 3 (ipykernel)",
   "language": "python",
   "name": "python3"
  },
  "language_info": {
   "codemirror_mode": {
    "name": "ipython",
    "version": 3
   },
   "file_extension": ".py",
   "mimetype": "text/x-python",
   "name": "python",
   "nbconvert_exporter": "python",
   "pygments_lexer": "ipython3",
   "version": "3.12.4"
  }
 },
 "nbformat": 4,
 "nbformat_minor": 5
}
