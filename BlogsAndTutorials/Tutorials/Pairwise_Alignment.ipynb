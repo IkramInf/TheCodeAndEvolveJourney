{
 "cells": [
  {
   "cell_type": "markdown",
   "id": "1f31756b-54f5-44a6-88ad-22448db9d88e",
   "metadata": {},
   "source": [
    "# Needleman-Wunsch Algorithm (Global Alignment)\n",
    "- Used for aligning two sequences over their entire length.\n",
    "- It guarantees the best global alignment but may introduce gaps to align the full sequence.\n",
    "\n",
    "# Smith-Waterman Algorithm (Local Alignment)\n",
    "- Used to find the best matching local subsequence between two sequences.\n",
    "- This algorithm is ideal for finding highly conserved regions within larger sequences.\n"
   ]
  },
  {
   "cell_type": "code",
   "execution_count": 72,
   "id": "933d8ed1-8a4d-4061-aed5-b0d524a1c55d",
   "metadata": {},
   "outputs": [],
   "source": [
    "from Bio import Align\n",
    "from Bio.Align import substitution_matrices\n"
   ]
  },
  {
   "cell_type": "code",
   "execution_count": 74,
   "id": "45d7d365-f5df-4f61-bf6f-b15c11fc770a",
   "metadata": {},
   "outputs": [],
   "source": [
    "dna_seq1 = \"ATGCTACTGA\"\n",
    "dna_seq2 = \"ATGCGTAC\"\n",
    "\n",
    "protein_seq1 = \"MKVLGTAPEVKQ\"\n",
    "protein_seq2 = \"MKVLGTK\"\n"
   ]
  },
  {
   "cell_type": "code",
   "execution_count": 22,
   "id": "c6728f3a-44e2-4fce-807e-d852d697ba76",
   "metadata": {},
   "outputs": [],
   "source": [
    "match_score = 2\n",
    "mismatch_score = -1\n",
    "gap_score = -2\n"
   ]
  },
  {
   "cell_type": "code",
   "execution_count": 82,
   "id": "ff65aa78-69fc-4721-b0a6-05455a9bdaf2",
   "metadata": {},
   "outputs": [
    {
     "name": "stdout",
     "output_type": "stream",
     "text": [
      "target            0 ATGC-TAC 7\n",
      "                  0 ||||-||| 8\n",
      "query             0 ATGCGTAC 8\n",
      "\n",
      "Alignment score: 12.0\n",
      "\n",
      "\n"
     ]
    }
   ],
   "source": [
    "# Create an aligner object\n",
    "aligner = Align.PairwiseAligner()\n",
    "\n",
    "# Set the alignment parameters\n",
    "aligner.mode = \"local\"\n",
    "aligner.match_score = match_score\n",
    "aligner.mismatch_score = mismatch_score\n",
    "aligner.gap_score = gap_score\n",
    "\n",
    "# Perform the alignment\n",
    "alignments = aligner.align(dna_seq1, dna_seq2)\n",
    "\n",
    "# Print the alignment result\n",
    "for alignment in alignments:\n",
    "    print(alignment)\n",
    "    print(f\"Alignment score: {alignment.score}\\n\\n\")\n"
   ]
  },
  {
   "cell_type": "code",
   "execution_count": 84,
   "id": "2258c479-04fb-4e40-b770-c8819041de58",
   "metadata": {},
   "outputs": [
    {
     "name": "stdout",
     "output_type": "stream",
     "text": [
      "['BENNER22', 'BENNER6', 'BENNER74', 'BLASTN', 'BLASTP', 'BLOSUM45', 'BLOSUM50', 'BLOSUM62', 'BLOSUM80', 'BLOSUM90', 'DAYHOFF', 'FENG', 'GENETIC', 'GONNET1992', 'HOXD70', 'JOHNSON', 'JONES', 'LEVIN', 'MCLACHLAN', 'MDM78', 'MEGABLAST', 'NUC.4.4', 'PAM250', 'PAM30', 'PAM70', 'RAO', 'RISLER', 'SCHNEIDER', 'STR', 'TRANS']\n"
     ]
    }
   ],
   "source": [
    "names = substitution_matrices.load()\n",
    "print(names)\n"
   ]
  },
  {
   "cell_type": "code",
   "execution_count": 88,
   "id": "501478fe-be6c-408d-a50a-d27027b91425",
   "metadata": {},
   "outputs": [
    {
     "name": "stdout",
     "output_type": "stream",
     "text": [
      "target            0 MKVLGT 6\n",
      "                  0 |||||| 6\n",
      "query             0 MKVLGT 6\n",
      "\n",
      "Alignment score: 29.0\n",
      "\n",
      "\n"
     ]
    }
   ],
   "source": [
    "# Create an aligner object\n",
    "aligner = Align.PairwiseAligner()\n",
    "\n",
    "# Set the alignment parameters\n",
    "aligner.mode = \"local\"\n",
    "aligner.gap_score = gap_score\n",
    "aligner.substitution_matrix = substitution_matrices.load(\"BLOSUM62\")\n",
    "\n",
    "# Perform the alignment\n",
    "alignments = aligner.align(protein_seq1, protein_seq2)\n",
    "\n",
    "# Print the alignment result\n",
    "for alignment in alignments:\n",
    "    print(alignment)\n",
    "    print(f\"Alignment score: {alignment.score}\\n\\n\")\n"
   ]
  },
  {
   "cell_type": "code",
   "execution_count": 92,
   "id": "936dc630-a3a4-46c9-9765-42a48b4dc9aa",
   "metadata": {},
   "outputs": [
    {
     "name": "stdout",
     "output_type": "stream",
     "text": [
      "target            0 ATGC-TAC 7\n",
      "                  0 ||||-||| 8\n",
      "query             0 ATGCGTAC 8\n",
      "\n",
      "Alignment score: 33.0\n",
      "\n",
      "\n"
     ]
    }
   ],
   "source": [
    "# Create an aligner object\n",
    "aligner = Align.PairwiseAligner()\n",
    "\n",
    "# Set the alignment parameters\n",
    "aligner.mode = \"local\"\n",
    "aligner.gap_score = gap_score\n",
    "aligner.substitution_matrix = substitution_matrices.load(\"NUC.4.4\")\n",
    "\n",
    "# Perform the alignment\n",
    "alignments = aligner.align(dna_seq1, dna_seq2)\n",
    "\n",
    "# Print the alignment result\n",
    "for alignment in alignments:\n",
    "    print(alignment)\n",
    "    print(f\"Alignment score: {alignment.score}\\n\\n\")\n"
   ]
  },
  {
   "cell_type": "code",
   "execution_count": null,
   "id": "405cdff3-0716-4b36-9416-4f5c70a975cc",
   "metadata": {},
   "outputs": [],
   "source": []
  }
 ],
 "metadata": {
  "kernelspec": {
   "display_name": "Python 3 (ipykernel)",
   "language": "python",
   "name": "python3"
  },
  "language_info": {
   "codemirror_mode": {
    "name": "ipython",
    "version": 3
   },
   "file_extension": ".py",
   "mimetype": "text/x-python",
   "name": "python",
   "nbconvert_exporter": "python",
   "pygments_lexer": "ipython3",
   "version": "3.12.4"
  }
 },
 "nbformat": 4,
 "nbformat_minor": 5
}
