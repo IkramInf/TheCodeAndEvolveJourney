{
 "cells": [
  {
   "cell_type": "code",
   "execution_count": 4,
   "id": "5435531c-1acc-4f3e-8582-c8f840247bb4",
   "metadata": {},
   "outputs": [
    {
     "name": "stdout",
     "output_type": "stream",
     "text": [
      "908\n",
      "829\n"
     ]
    }
   ],
   "source": [
    "with open(\"rosalind_tree.txt\", \"r\") as fi:\n",
    "    n = int(fi.readline())\n",
    "    edges = len(fi.read().strip().splitlines())\n",
    "\n",
    "print(n)\n",
    "print(edges)\n"
   ]
  },
  {
   "cell_type": "code",
   "execution_count": 6,
   "id": "87ea5334-7436-46b7-93fb-18206139754b",
   "metadata": {},
   "outputs": [
    {
     "data": {
      "text/plain": [
       "78"
      ]
     },
     "execution_count": 6,
     "metadata": {},
     "output_type": "execute_result"
    }
   ],
   "source": [
    "n - 1 - 829"
   ]
  },
  {
   "cell_type": "code",
   "execution_count": 8,
   "id": "eb864114-786e-4cb6-b282-35c11f8e7bf4",
   "metadata": {},
   "outputs": [
    {
     "name": "stdout",
     "output_type": "stream",
     "text": [
      "78\n"
     ]
    }
   ],
   "source": [
    "minimum_edges = n - (edges + 1)\n",
    "print(minimum_edges)\n"
   ]
  },
  {
   "cell_type": "code",
   "execution_count": null,
   "id": "5ac63d2c-c643-4a6f-a9e1-148d6e778454",
   "metadata": {},
   "outputs": [],
   "source": []
  }
 ],
 "metadata": {
  "kernelspec": {
   "display_name": "Python 3 (ipykernel)",
   "language": "python",
   "name": "python3"
  },
  "language_info": {
   "codemirror_mode": {
    "name": "ipython",
    "version": 3
   },
   "file_extension": ".py",
   "mimetype": "text/x-python",
   "name": "python",
   "nbconvert_exporter": "python",
   "pygments_lexer": "ipython3",
   "version": "3.12.4"
  }
 },
 "nbformat": 4,
 "nbformat_minor": 5
}
