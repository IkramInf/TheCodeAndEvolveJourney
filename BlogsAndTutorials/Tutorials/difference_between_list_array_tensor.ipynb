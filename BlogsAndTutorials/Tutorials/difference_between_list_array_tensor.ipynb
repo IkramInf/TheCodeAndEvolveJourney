{
 "cells": [
  {
   "cell_type": "markdown",
   "id": "5fc64417-ee75-4d19-86ab-3505dbe01faa",
   "metadata": {},
   "source": [
    "__Characteristics__:\n",
    "- Heterogeneity\n",
    "- Size\n",
    "- Dimensionality\n",
    "- Optimized computations"
   ]
  },
  {
   "cell_type": "markdown",
   "id": "de9930b6-85ab-4fc5-a7af-0a09f0233ff7",
   "metadata": {},
   "source": [
    "# List"
   ]
  },
  {
   "cell_type": "code",
   "execution_count": 42,
   "id": "fe71a51e-06c5-4d0e-9f3e-51e844270938",
   "metadata": {},
   "outputs": [
    {
     "data": {
      "text/plain": [
       "[1, 2, 'three', 4.0, [5, 6]]"
      ]
     },
     "execution_count": 42,
     "metadata": {},
     "output_type": "execute_result"
    }
   ],
   "source": [
    "list1 = [1, 2, 'three', 4.0, [5, 6]]\n",
    "list1\n"
   ]
  },
  {
   "cell_type": "code",
   "execution_count": 44,
   "id": "38a9167a-8f5d-47fe-997a-bf781a8fa490",
   "metadata": {},
   "outputs": [
    {
     "data": {
      "text/plain": [
       "[1, 2, 'three', 4.0, [5, 6], 10]"
      ]
     },
     "execution_count": 44,
     "metadata": {},
     "output_type": "execute_result"
    }
   ],
   "source": [
    "list1.append(10)\n",
    "list1\n"
   ]
  },
  {
   "cell_type": "code",
   "execution_count": 46,
   "id": "2ea4422e-d114-4863-903b-7e4a215a6958",
   "metadata": {},
   "outputs": [
    {
     "data": {
      "text/plain": [
       "[[1, 2, 3], [4, 5, 6], [7, 8, 9]]"
      ]
     },
     "execution_count": 46,
     "metadata": {},
     "output_type": "execute_result"
    }
   ],
   "source": [
    "list2 = [[1, 2, 3], [4, 5, 6], [7, 8, 9]]\n",
    "list2\n"
   ]
  },
  {
   "cell_type": "code",
   "execution_count": null,
   "id": "f0e0e1c2-b821-4881-ab99-6272d888cb07",
   "metadata": {},
   "outputs": [],
   "source": []
  },
  {
   "cell_type": "markdown",
   "id": "1a2b9d63-f57f-40f7-babf-852c5361c3e4",
   "metadata": {},
   "source": [
    "# Array"
   ]
  },
  {
   "cell_type": "code",
   "execution_count": 48,
   "id": "bc5b9e29-67ff-4e6f-874b-85cc70eb205b",
   "metadata": {},
   "outputs": [],
   "source": [
    "import numpy as np"
   ]
  },
  {
   "cell_type": "code",
   "execution_count": 38,
   "id": "08ecf244-3534-461b-b059-3b444297c213",
   "metadata": {},
   "outputs": [],
   "source": [
    "#[func for func in dir(np) if not func.startswith(\"_\")]\n"
   ]
  },
  {
   "cell_type": "code",
   "execution_count": 50,
   "id": "87e6b337-0c6d-49f0-9aff-fc14f575a618",
   "metadata": {},
   "outputs": [
    {
     "data": {
      "text/plain": [
       "array([[1, 2, 3],\n",
       "       [4, 5, 6],\n",
       "       [7, 8, 9]])"
      ]
     },
     "execution_count": 50,
     "metadata": {},
     "output_type": "execute_result"
    }
   ],
   "source": [
    "arr1 = np.array(list2)\n",
    "arr1\n"
   ]
  },
  {
   "cell_type": "code",
   "execution_count": 52,
   "id": "2dc1c233-afc6-4ec9-b5e3-643eef805eee",
   "metadata": {},
   "outputs": [
    {
     "ename": "ValueError",
     "evalue": "setting an array element with a sequence. The requested array has an inhomogeneous shape after 1 dimensions. The detected shape was (6,) + inhomogeneous part.",
     "output_type": "error",
     "traceback": [
      "\u001b[0;31m---------------------------------------------------------------------------\u001b[0m",
      "\u001b[0;31mValueError\u001b[0m                                Traceback (most recent call last)",
      "Cell \u001b[0;32mIn[52], line 1\u001b[0m\n\u001b[0;32m----> 1\u001b[0m arr2 \u001b[38;5;241m=\u001b[39m \u001b[43mnp\u001b[49m\u001b[38;5;241;43m.\u001b[39;49m\u001b[43marray\u001b[49m\u001b[43m(\u001b[49m\u001b[43mlist1\u001b[49m\u001b[43m)\u001b[49m\n\u001b[1;32m      2\u001b[0m arr2\n",
      "\u001b[0;31mValueError\u001b[0m: setting an array element with a sequence. The requested array has an inhomogeneous shape after 1 dimensions. The detected shape was (6,) + inhomogeneous part."
     ]
    }
   ],
   "source": [
    "arr2 = np.array(list1)\n",
    "arr2\n"
   ]
  },
  {
   "cell_type": "code",
   "execution_count": null,
   "id": "fc45ed61-5acc-44ce-b823-7b0dde1daaed",
   "metadata": {},
   "outputs": [],
   "source": []
  },
  {
   "cell_type": "markdown",
   "id": "bfdf7c10-0320-44ba-8c9f-b239cd6e1795",
   "metadata": {},
   "source": [
    "# Tensor"
   ]
  },
  {
   "cell_type": "code",
   "execution_count": 54,
   "id": "f8835cc6-21fa-4c58-be5e-b2b355cbba0d",
   "metadata": {},
   "outputs": [],
   "source": [
    "import torch\n"
   ]
  },
  {
   "cell_type": "code",
   "execution_count": 40,
   "id": "cb881947-ba77-46a7-b3ff-42851f935ab1",
   "metadata": {},
   "outputs": [],
   "source": [
    "#[func for func in dir(torch) if not func.startswith(\"_\")]\n"
   ]
  },
  {
   "cell_type": "code",
   "execution_count": 56,
   "id": "bef2cc64-6197-410a-915b-06504858fcea",
   "metadata": {},
   "outputs": [
    {
     "data": {
      "text/plain": [
       "tensor([[1, 2, 3],\n",
       "        [4, 5, 6],\n",
       "        [7, 8, 9]])"
      ]
     },
     "execution_count": 56,
     "metadata": {},
     "output_type": "execute_result"
    }
   ],
   "source": [
    "t1 = torch.tensor(list2)\n",
    "t1\n"
   ]
  },
  {
   "cell_type": "code",
   "execution_count": 58,
   "id": "12de137e-f975-4bcf-b3d4-eaeab0a7dd8b",
   "metadata": {},
   "outputs": [
    {
     "ename": "TypeError",
     "evalue": "new(): invalid data type 'str'",
     "output_type": "error",
     "traceback": [
      "\u001b[0;31m---------------------------------------------------------------------------\u001b[0m",
      "\u001b[0;31mTypeError\u001b[0m                                 Traceback (most recent call last)",
      "Cell \u001b[0;32mIn[58], line 1\u001b[0m\n\u001b[0;32m----> 1\u001b[0m t1 \u001b[38;5;241m=\u001b[39m \u001b[43mtorch\u001b[49m\u001b[38;5;241;43m.\u001b[39;49m\u001b[43mtensor\u001b[49m\u001b[43m(\u001b[49m\u001b[43mlist1\u001b[49m\u001b[43m)\u001b[49m\n\u001b[1;32m      2\u001b[0m t1\n",
      "\u001b[0;31mTypeError\u001b[0m: new(): invalid data type 'str'"
     ]
    }
   ],
   "source": [
    "t1 = torch.tensor(list1)\n",
    "t1"
   ]
  },
  {
   "cell_type": "code",
   "execution_count": 60,
   "id": "d72dcac7-076c-484e-818d-772c8e802d0a",
   "metadata": {},
   "outputs": [
    {
     "data": {
      "text/plain": [
       "tensor(3., requires_grad=True)"
      ]
     },
     "execution_count": 60,
     "metadata": {},
     "output_type": "execute_result"
    }
   ],
   "source": [
    "x = torch.tensor(3.0, requires_grad=True)\n",
    "x\n"
   ]
  },
  {
   "cell_type": "code",
   "execution_count": 62,
   "id": "60ff1efd-a74a-4618-b67e-59cf50b68b4e",
   "metadata": {},
   "outputs": [],
   "source": [
    "y = 4 * x ** 3\n",
    "# 12x^2\n",
    "y.backward()\n"
   ]
  },
  {
   "cell_type": "code",
   "execution_count": 64,
   "id": "902378e1-7ef7-407f-a8f3-d00b9fe3a0c1",
   "metadata": {},
   "outputs": [
    {
     "data": {
      "text/plain": [
       "tensor(108.)"
      ]
     },
     "execution_count": 64,
     "metadata": {},
     "output_type": "execute_result"
    }
   ],
   "source": [
    "x.grad\n"
   ]
  },
  {
   "cell_type": "markdown",
   "id": "a2ec78fe-dcc8-4fdd-bd88-a5bc196a4499",
   "metadata": {},
   "source": [
    "# Table 1: Difference between List, Array and Tensor\n",
    "\n",
    "| Feature                        | **Python List**             | **NumPy Array**                  | **PyTorch Tensor**               |\n",
    "|---------------------------------|-----------------------------|----------------------------------|----------------------------------|\n",
    "| **Type of Data**                | Any data type (heterogeneous)| Single data type (homogeneous)   | Single data type (homogeneous)   |\n",
    "| **Dimension Support**           | 1D only                     | Multi-dimensional (1D, 2D, 3D+)  | Multi-dimensional (1D, 2D, 3D+)  |\n",
    "| **Element-wise Operations**     | No                          | Yes                              | Yes                              |\n",
    "| **Matrix Operations**           | No                          | Yes                              | Yes                              |\n",
    "| **GPU Acceleration**            | No                          | No                               | Yes (with CUDA)                  |\n",
    "| **Automatic Differentiation**   | No                          | No                               | Yes (for backpropagation)        |\n",
    "| **Dynamic Resizing**            | Yes                         | No                               | No                               |\n",
    "| **Speed**                       | Slower for numerical tasks  | Optimized for numerical tasks    | Highly optimized for numerical tasks, especially on GPUs |\n",
    "| **Use Case**                    | General-purpose data storage| Scientific computing, data analysis | Machine learning, deep learning  |\n"
   ]
  },
  {
   "cell_type": "code",
   "execution_count": null,
   "id": "c421c771-eb48-43ea-adfa-23a32205f425",
   "metadata": {},
   "outputs": [],
   "source": []
  }
 ],
 "metadata": {
  "kernelspec": {
   "display_name": "Python 3 (ipykernel)",
   "language": "python",
   "name": "python3"
  },
  "language_info": {
   "codemirror_mode": {
    "name": "ipython",
    "version": 3
   },
   "file_extension": ".py",
   "mimetype": "text/x-python",
   "name": "python",
   "nbconvert_exporter": "python",
   "pygments_lexer": "ipython3",
   "version": "3.12.4"
  }
 },
 "nbformat": 4,
 "nbformat_minor": 5
}
