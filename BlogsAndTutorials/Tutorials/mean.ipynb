{
 "cells": [
  {
   "cell_type": "markdown",
   "id": "ce4c87cd-a872-4deb-b0c7-c7d7796018b3",
   "metadata": {},
   "source": [
    "# Mean"
   ]
  },
  {
   "cell_type": "code",
   "execution_count": 4,
   "id": "ae49c0a5-1fc3-41a8-a283-760133ce41d2",
   "metadata": {},
   "outputs": [
    {
     "name": "stdout",
     "output_type": "stream",
     "text": [
      "[65, 72, 75, 77, 78, 79, 80, 81, 82, 84, 85, 86, 87, 88, 89, 90, 91, 92, 94, 95]\n"
     ]
    }
   ],
   "source": [
    "data = [65, 72, 75, 77, 78, 79, 80, 81, 82, 84, 85, 86, 87, 88, 89, 90, 91, 92, 94, 95]\n",
    "print(data)\n"
   ]
  },
  {
   "cell_type": "code",
   "execution_count": 6,
   "id": "389133ea-7c2d-4783-a14e-fd6eaca1a2fb",
   "metadata": {},
   "outputs": [
    {
     "name": "stdout",
     "output_type": "stream",
     "text": [
      "mean:  83.5\n"
     ]
    }
   ],
   "source": [
    "mean = sum(data) / len(data)\n",
    "print(\"mean: \", mean)\n"
   ]
  },
  {
   "cell_type": "code",
   "execution_count": null,
   "id": "b4f7ab3f-b9fd-498a-b21a-6dfdad7b72bc",
   "metadata": {},
   "outputs": [],
   "source": []
  }
 ],
 "metadata": {
  "kernelspec": {
   "display_name": "Python 3 (ipykernel)",
   "language": "python",
   "name": "python3"
  },
  "language_info": {
   "codemirror_mode": {
    "name": "ipython",
    "version": 3
   },
   "file_extension": ".py",
   "mimetype": "text/x-python",
   "name": "python",
   "nbconvert_exporter": "python",
   "pygments_lexer": "ipython3",
   "version": "3.12.4"
  }
 },
 "nbformat": 4,
 "nbformat_minor": 5
}
