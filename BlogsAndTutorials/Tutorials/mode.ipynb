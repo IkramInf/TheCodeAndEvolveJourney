{
 "cells": [
  {
   "cell_type": "markdown",
   "id": "79d85e66-39ae-4d74-ac44-a635090cf884",
   "metadata": {},
   "source": [
    "# Mode"
   ]
  },
  {
   "cell_type": "code",
   "execution_count": 4,
   "id": "8353252a-4a64-4155-a02d-5c4035a73589",
   "metadata": {},
   "outputs": [
    {
     "name": "stdout",
     "output_type": "stream",
     "text": [
      "[96, 62, 87, 90, 96, 60, 73, 89, 91, 77, 70, 62, 93, 91, 80, 64, 75, 83, 62, 79]\n"
     ]
    }
   ],
   "source": [
    "data = [96, 62, 87, 90, 96, 60, 73, 89, 91, 77, 70, 62, 93, 91, 80, 64, 75, 83, 62, 79]\n",
    "print(data)\n"
   ]
  },
  {
   "cell_type": "code",
   "execution_count": 6,
   "id": "ed18dabb-1d88-4b66-9c5c-c338b024ac00",
   "metadata": {},
   "outputs": [
    {
     "name": "stdout",
     "output_type": "stream",
     "text": [
      "Mode:  62\n"
     ]
    }
   ],
   "source": [
    "mode = max(set(data), key=data.count)\n",
    "print(\"Mode: \", mode)\n"
   ]
  },
  {
   "cell_type": "code",
   "execution_count": null,
   "id": "4199f036-5586-4465-8bd7-05f238120c3f",
   "metadata": {},
   "outputs": [],
   "source": []
  }
 ],
 "metadata": {
  "kernelspec": {
   "display_name": "Python 3 (ipykernel)",
   "language": "python",
   "name": "python3"
  },
  "language_info": {
   "codemirror_mode": {
    "name": "ipython",
    "version": 3
   },
   "file_extension": ".py",
   "mimetype": "text/x-python",
   "name": "python",
   "nbconvert_exporter": "python",
   "pygments_lexer": "ipython3",
   "version": "3.12.4"
  }
 },
 "nbformat": 4,
 "nbformat_minor": 5
}
