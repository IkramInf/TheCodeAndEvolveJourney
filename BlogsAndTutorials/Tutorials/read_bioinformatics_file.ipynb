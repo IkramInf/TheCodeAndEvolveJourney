{
 "cells": [
  {
   "cell_type": "markdown",
   "id": "3f206db5-6854-434d-aa85-4347c83679d2",
   "metadata": {},
   "source": [
    "# Bio.SeqIO\n",
    "\n",
    "File Formats\n",
    "------------\n",
    "When specifying the file format, use lowercase strings.  The same format names are also used in Bio.AlignIO and include the following:\n",
    "\n",
    "- abi     - Applied Biosystem's sequencing trace format\n",
    "- abi-trim - Same as \"abi\" but with quality trimming with Mott's algorithm\n",
    "- ace     - Reads the contig sequences from an ACE assembly file.\n",
    "- cif-atom - Uses Bio.PDB.MMCIFParser to determine the (partial) protein\n",
    "          sequence as it appears in the structure based on the atomic coordinates.\n",
    "- cif-seqres - Reads a macromolecular Crystallographic Information File\n",
    "          (mmCIF) file to determine the complete protein sequence as defined by the\n",
    "          _pdbx_poly_seq_scheme records.\n",
    "- **clustal** - A format for multiple sequence alignments, starting with a \"CLUSTAL\"\n",
    "                header and aligned sequences in fixed-width blocks.\n",
    "- **embl**    - The EMBL flat file format. Uses Bio.GenBank internally.\n",
    "- **fasta**   - The generic sequence file format where each record starts with\n",
    "          an identifier line starting with a \">\" character, followed by\n",
    "          lines of sequence.\n",
    "- fasta-2line - Stricter interpretation of the FASTA format using exactly\n",
    "          two lines per record (no line wrapping).\n",
    "- **fastq**   - A \"FASTA like\" format used by Sanger which also stores PHRED\n",
    "          sequence quality values (with an ASCII offset of 33).\n",
    "- fastq-sanger - An alias for \"fastq\" for consistency with BioPerl and EMBOSS\n",
    "- fastq-solexa - Original Solexa/Illumnia variant of the FASTQ format which\n",
    "          encodes Solexa quality scores (not PHRED quality scores) with an\n",
    "          ASCII offset of 64.\n",
    "- fastq-illumina - Solexa/Illumina 1.3 to 1.7 variant of the FASTQ format\n",
    "          which encodes PHRED quality scores with an ASCII offset of 64\n",
    "          (not 33). Note as of version 1.8 of the CASAVA pipeline Illumina\n",
    "          will produce FASTQ files using the standard Sanger encoding.\n",
    "- gck     - Gene Construction Kit's format.\n",
    "- **genbank** - The GenBank or GenPept flat file format.\n",
    "- gb      - An alias for \"genbank\", for consistency with NCBI Entrez Utilities\n",
    "- gfa1     - Graphical Fragment Assemblyv versions 1.x. Only segment lines\n",
    "          are parsed and all linkage information is ignored.\n",
    "- gfa2    - Graphical Fragment Assembly version 2.0. Only segment lines are\n",
    "          parsed and all linkage information is ignored.\n",
    "- ig      - The IntelliGenetics file format, apparently the same as the\n",
    "          MASE alignment format.\n",
    "- imgt    - An EMBL like format from IMGT where the feature tables are more\n",
    "          indented to allow for longer feature types.\n",
    "- nib     - UCSC's nib file format for nucleotide sequences, which uses one\n",
    "          nibble (4 bits) to represent each nucleotide, and stores two nucleotides in\n",
    "          one byte.\n",
    "- pdb-seqres -  Reads a Protein Data Bank (PDB) file to determine the\n",
    "          complete protein sequence as it appears in the header (no dependencies).\n",
    "- pdb-atom - Uses Bio.PDB to determine the (partial) protein sequence as\n",
    "          it appears in the structure based on the atom coordinate section of the\n",
    "          file (requires NumPy for Bio.PDB).\n",
    "- phd     - Output from PHRED, used by PHRAP and CONSED for input.\n",
    "- pir     - A \"FASTA like\" format introduced by the National Biomedical\n",
    "          Research Foundation (NBRF) for the Protein Information Resource\n",
    "          (PIR) database, now part of UniProt.\n",
    "- seqxml  - SeqXML, simple XML format described in Schmitt et al (2011).\n",
    "- sff     - Standard Flowgram Format (SFF), typical output from Roche 454.\n",
    "- sff-trim - Standard Flowgram Format (SFF) with given trimming applied.\n",
    "- snapgene - SnapGene's native format.\n",
    "- swiss   - Plain text Swiss-Prot aka UniProt format.\n",
    "- tab     - Simple two column tab separated sequence files, where each\n",
    "          line holds a record's identifier and sequence. For example,\n",
    "          this is used as by Aligent's eArray software when saving\n",
    "          microarray probes in a minimal tab delimited text file.\n",
    "- qual    - A \"FASTA like\" format holding PHRED quality values from\n",
    "          sequencing DNA, but no actual sequences (usually provided\n",
    "          in separate FASTA files).\n",
    "- uniprot-xml - The UniProt XML format (replacement for the SwissProt plain\n",
    "          text format which we call \"swiss\")\n",
    "- xdna        - DNA Strider's and SerialCloner's native format."
   ]
  },
  {
   "cell_type": "code",
   "execution_count": 23,
   "id": "065ee930-3702-4c1b-a2e7-32b173978849",
   "metadata": {},
   "outputs": [],
   "source": [
    "from Bio import SeqIO\n"
   ]
  },
  {
   "cell_type": "markdown",
   "id": "5539e1ba-2181-4802-b469-c0214971a8aa",
   "metadata": {},
   "source": [
    "# FASTA"
   ]
  },
  {
   "cell_type": "code",
   "execution_count": 25,
   "id": "1c03f3b5-fea0-41f6-a9ca-82438a5f1ca2",
   "metadata": {},
   "outputs": [
    {
     "name": "stdout",
     "output_type": "stream",
     "text": [
      "ID: PA918075.1\n",
      "Sequence: CCACCACTTAAACGTGGATGTACTTGCTTTGAAACTAAAGAAGTAAGTGCTTCCATGTTTTGGTGATGG\n",
      "Description: PA918075.1 JP 2019517471-A/4: A Composition and Method of Using miR-302 Precursors as Anti-Cancer Drugs for Treating Human Lung Cancers\n"
     ]
    }
   ],
   "source": [
    "# Reading a FASTA file\n",
    "for record in SeqIO.parse(\"data/sequence.fasta\", \"fasta\"):\n",
    "    print(f\"ID: {record.id}\")\n",
    "    print(f\"Sequence: {record.seq}\")\n",
    "    print(f\"Description: {record.description}\")\n"
   ]
  },
  {
   "cell_type": "markdown",
   "id": "10047461-4033-4b99-9892-a9964fe69aaa",
   "metadata": {},
   "source": [
    "# FASTQ"
   ]
  },
  {
   "cell_type": "code",
   "execution_count": 27,
   "id": "78e5bab4-d229-4755-91c8-8aa2962717ee",
   "metadata": {},
   "outputs": [
    {
     "name": "stdout",
     "output_type": "stream",
     "text": [
      "ID: K00271:89:HHWWNBBXX:2:1101:23277:1068\n",
      "Sequence: NATCGGAAGAGCACACGTCTGAACTCCAGTCACCAGATCATCTCGTATGCCGTCTTCTGCTTGAAAAAAAAAAATCTCAGACAACAAATCACAGAGTTAAGTCAGTTTACCGCACAAACTNACCAAGTCGGCGAAACAGAAGGTGGCGAC\n",
      "Quality Scores: [2, 32, 32, 32, 37, 37, 41, 41, 37, 41, 41, 37, 41, 41, 41, 41, 37, 12, 37, 37, 37, 41, 41, 37, 41, 41, 41, 41, 37, 41, 41, 41, 41, 37, 41, 41, 37, 32, 37, 41, 37, 12, 37, 37, 41, 37, 41, 37, 41, 41, 41, 41, 22, 32, 27, 37, 37, 41, 41, 41, 37, 32, 41, 37, 27, 27, 12, 41, 41, 41, 37, 41, 41, 37, 12, 12, 12, 12, 37, 32, 12, 12, 22, 12, 32, 12, 22, 12, 12, 12, 12, 12, 12, 22, 32, 12, 22, 12, 12, 12, 12, 22, 37, 41, 12, 12, 12, 12, 22, 12, 12, 12, 22, 12, 22, 32, 12, 32, 37, 12, 2, 32, 27, 12, 12, 12, 22, 12, 12, 12, 22, 32, 12, 37, 8, 12, 22, 32, 32, 27, 12, 12, 22, 22, 12, 8, 12, 12, 8, 12]\n"
     ]
    }
   ],
   "source": [
    "# Reading a FASTQ file\n",
    "for record in SeqIO.parse(\"data/sequence.fastq\", \"fastq\"):\n",
    "    print(f\"ID: {record.id}\")\n",
    "    print(f\"Sequence: {record.seq}\")\n",
    "    print(f\"Quality Scores: {record.letter_annotations['phred_quality']}\")\n"
   ]
  },
  {
   "cell_type": "markdown",
   "id": "99e0e830-0d47-4124-a162-30af8605f7c2",
   "metadata": {},
   "source": [
    "# Genbank"
   ]
  },
  {
   "cell_type": "code",
   "execution_count": 8,
   "id": "7cb31541-7e59-4144-9e55-c37df6e6f696",
   "metadata": {},
   "outputs": [
    {
     "name": "stdout",
     "output_type": "stream",
     "text": [
      "ID: LT934502.1\n",
      "Sequence: ATGTCGCTCACGGTCGTCAGCATGGCGTGCGTTGGGTTCTTCTTGCTGCAGGGGGCCTGGCCACTCATGGGTGGTCAGGACAAACCCTTCCTGTCTGCCCGGCCCAGCACTGTGGTGCCTCGAGGAGGACACGTGGCTCTTCAGTGTCACTATCGTCGTGGGTTTAACAATTTCATGCTGTACAAAGAAGACAGAAGCCACGTTCCCATCTTCCACGGCAGAATATTCCAGGAGAGCTTCATCATGGGCCCTGTGACCCCAGCACATGCAGGGACCTACAGATGTCGGGGTTCACGCCCACACTCCCTCACTGGGTGGTCGGCACCCAGCAACCCCGTGGTGATCATGGTCACAGGAAACCACAGAAAACCTTCCCTCCTGGCCCACCCAGGGCCCCTGCTGAAATCAGGAGAGACAGTCATCCTGCAATGTTGGTCAGATGTCATGTTTGAGCACTTCTTTCTGCACAGAGAGGGGATCTCTGAGGACCCCTCACGCCTCGTTGGACAGATCCATGATGGGGTCTCCAAGGCCAACTTCTCCATCGGTCCCTTGATGCCTGTCCTTGCAGGAACCTACAGATGTTATGGTTCTGTTCCTCACTCCCCCTATCAGTTGTCAGCTCCCAGTGACCCCCTGGACATCGTGATCACAGGTCTATATGAGAAACCTTCTCTCTCAGCCCAGCCGGGCCCCACGGTTCAGGCAGGAGAGAACGTGACCTTGTCCTGTAGCTCCTGGAGCTCCTATGACATCTACCATCTGTCCAGGGAAGGGGAGGCCCATGAACGTAGGCTCCGTGCAGTGCCCAAGGTCAACAGAACATTCCAGGCAGACTTTCCTCTGGGCCCTGCCACCCACGGAGGGACCTACAGATGCTTCGGCTCTTTCCGTGCCCTGCCCTGCGTGTGGTCAAACTCAAGTGACCCACTGCTTGTTTCTGTCACAGGAAACCCTTCAAGTAGTTGGCCTTCACCCACAGAACCAAGCTCCAAATCTGGTATCTGCAGACACCTGCATGTTCTGATTGGGACCTCAGTGGTCATCTTCCTCTTCATCCTCCTCCTCTTCTTTCTCCTTTATCGCTGGTGCTCCAACAAAAAGAATGCTGCTGTAATGGACCAAGAGCCTGCGGGGGACAGAACAGTGAATAGGCAGGACTCTGATGAACAAGACCCTCAGGAGGTGATGTACGCACAGTTGGATCACTGCGTTTTCATACAGAGAAAAATCAGTCGCCCTTCTCAGAGGCCCAAGACACCCCTAACAGATACCAGCGTGTACACGGAACTTCCAAATGCTGAGCCCAGATCCAAAGTTGTCTCCTGCCCACGAGCACCACAGTCAGGTCTTGAGGGGGTTTTCTAG\n",
      "Annotations: {'molecule_type': 'mRNA', 'topology': 'linear', 'data_file_division': 'PRI', 'date': '01-DEC-2017', 'accessions': ['LT934502'], 'sequence_version': 1, 'keywords': [''], 'source': 'Homo sapiens (human)', 'organism': 'Homo sapiens', 'taxonomy': ['Eukaryota', 'Metazoa', 'Chordata', 'Craniata', 'Vertebrata', 'Euteleostomi', 'Mammalia', 'Eutheria', 'Euarchontoglires', 'Primates', 'Haplorrhini', 'Catarrhini', 'Hominidae', 'Homo'], 'references': [Reference(title='Direct Submission', ...)]}\n",
      "Feature: type: source\n",
      "location: [0:1368](+)\n",
      "qualifiers:\n",
      "    Key: db_xref, Value: ['taxon:9606']\n",
      "    Key: isolate, Value: ['human']\n",
      "    Key: mol_type, Value: ['mRNA']\n",
      "    Key: organism, Value: ['Homo sapiens']\n",
      "\n",
      "Feature: type: gene\n",
      "location: [0:1368](+)\n",
      "qualifiers:\n",
      "    Key: gene, Value: ['KIR3DL2']\n",
      "\n",
      "Feature: type: CDS\n",
      "location: [0:1368](+)\n",
      "qualifiers:\n",
      "    Key: allele, Value: ['KIR3DL2-011:01']\n",
      "    Key: codon_start, Value: ['1']\n",
      "    Key: gene, Value: ['KIR3DL2']\n",
      "    Key: product, Value: ['KIR3DL2 protein']\n",
      "    Key: protein_id, Value: ['SOH62259.1']\n",
      "    Key: translation, Value: ['MSLTVVSMACVGFFLLQGAWPLMGGQDKPFLSARPSTVVPRGGHVALQCHYRRGFNNFMLYKEDRSHVPIFHGRIFQESFIMGPVTPAHAGTYRCRGSRPHSLTGWSAPSNPVVIMVTGNHRKPSLLAHPGPLLKSGETVILQCWSDVMFEHFFLHREGISEDPSRLVGQIHDGVSKANFSIGPLMPVLAGTYRCYGSVPHSPYQLSAPSDPLDIVITGLYEKPSLSAQPGPTVQAGENVTLSCSSWSSYDIYHLSREGEAHERRLRAVPKVNRTFQADFPLGPATHGGTYRCFGSFRALPCVWSNSSDPLLVSVTGNPSSSWPSPTEPSSKSGICRHLHVLIGTSVVIFLFILLLFFLLYRWCSNKKNAAVMDQEPAGDRTVNRQDSDEQDPQEVMYAQLDHCVFIQRKISRPSQRPKTPLTDTSVYTELPNAEPRSKVVSCPRAPQSGLEGVF']\n",
      "\n"
     ]
    }
   ],
   "source": [
    "# Reading a GenBank file\n",
    "for record in SeqIO.parse(\"data/sequence.gb\", \"genbank\"):\n",
    "    print(f\"ID: {record.id}\")\n",
    "    print(f\"Sequence: {record.seq}\")\n",
    "    print(f\"Annotations: {record.annotations}\")\n",
    "    for feature in record.features:\n",
    "        print(f\"Feature: {feature}\")\n"
   ]
  },
  {
   "cell_type": "markdown",
   "id": "dc54b55b-77f2-4147-ae91-e7872e458ef3",
   "metadata": {},
   "source": [
    "# EMBL"
   ]
  },
  {
   "cell_type": "code",
   "execution_count": 10,
   "id": "bbb2f173-b86d-4438-9530-db16fcf1a94f",
   "metadata": {},
   "outputs": [
    {
     "name": "stdout",
     "output_type": "stream",
     "text": [
      "ID: PA918075.1\n",
      "Description: JP 2019517471-A/4: A Composition and Method of Using miR-302 Precursors as Anti-Cancer Drugs for Treating Human Lung Cancers.\n",
      "Sequence: CCACCACTTAAACGTGGATGTACTTGCTTTGAAACTAAAGAAGTAAGTGCTTCCATGTTTTGGTGATGG\n",
      "Annotations: {'accessions': ['PA918075'], 'sequence_version': 1, 'topology': 'linear', 'molecule_type': 'RNA', 'data_file_division': 'XXX', 'keywords': ['JP 2019517471-A/4'], 'organism': 'Homo sapiens (human)', 'taxonomy': ['Eukaryota', 'Metazoa', 'Chordata', 'Craniata', 'Vertebrata', 'Euteleostomi', 'Mammalia', 'Eutheria', 'Euarchontoglires', 'Primates', 'Haplorrhini', 'Catarrhini', 'Hominidae', 'Homo'], 'references': [Reference(title='A Composition and Method of Using miR-302 Precursors as Anti-Cancer Drugs for Treating Human Lung Cancers', ...)]}\n",
      "Feature: source, Location: [0:69](+), Qualifiers: {'organism': ['Homo sapiens'], 'mol_type': ['unassigned RNA'], 'db_xref': ['taxon:9606']}\n"
     ]
    }
   ],
   "source": [
    "# Reading the EMBL file\n",
    "for record in SeqIO.parse(\"data/sequence.embl\", \"embl\"):\n",
    "    print(f\"ID: {record.id}\")\n",
    "    print(f\"Description: {record.description}\")\n",
    "    print(f\"Sequence: {record.seq}\")\n",
    "    print(f\"Annotations: {record.annotations}\")\n",
    "    for feature in record.features:\n",
    "        print(f\"Feature: {feature.type}, Location: {feature.location}, Qualifiers: {feature.qualifiers}\")\n"
   ]
  },
  {
   "cell_type": "markdown",
   "id": "5284c19e-2e64-4e91-ac60-9c16b5feb056",
   "metadata": {},
   "source": [
    "# CLUSTAL"
   ]
  },
  {
   "cell_type": "code",
   "execution_count": 29,
   "id": "7e5b8608-a6ed-41a2-9652-d0c90ddd8668",
   "metadata": {},
   "outputs": [
    {
     "name": "stdout",
     "output_type": "stream",
     "text": [
      "ID: NR_029653.1\n",
      "Sequence: CCACCACTTAAACGTGGTTGTACTTGCTTTAGACCTAAGAAAGTAAGTGCTTCCATGTTTTGGTGATGG\n",
      "ID: NR_049443.1\n",
      "Sequence: CCACCACTTAAACGTGGATGTACTTGCTTTGAAACTCAAAAAGTAAGTGCTTCCATGTTTTAGTGATGG\n",
      "ID: PA918075.1\n",
      "Sequence: CCACCACTTAAACGTGGATGTACTTGCTTTGAAACTAAAGAAGTAAGTGCTTCCATGTTTTGGTGATGG\n",
      "ID: NR_126584.1\n",
      "Sequence: CCACCACTTAAACGTGGATGTACTTGCTTTGAAACTAAAAAAGTAAGTGCTTCCATGTTTTGGTGATGG\n"
     ]
    }
   ],
   "source": [
    "from Bio import SeqIO\n",
    "\n",
    "# Reading a Clustal alignment file\n",
    "for record in SeqIO.parse(\"data/sequence_alignment.aln\", \"clustal\"):\n",
    "    print(f\"ID: {record.id}\")\n",
    "    print(f\"Sequence: {record.seq}\")\n"
   ]
  },
  {
   "cell_type": "code",
   "execution_count": null,
   "id": "7fe4b27d-b4de-48e1-ae3c-c98493f32600",
   "metadata": {},
   "outputs": [],
   "source": []
  },
  {
   "cell_type": "code",
   "execution_count": 31,
   "id": "5284d7b0-6cf7-4260-8724-a31bcb80d98f",
   "metadata": {},
   "outputs": [
    {
     "name": "stdout",
     "output_type": "stream",
     "text": [
      "ID: LT934502.1\n",
      "Sequence: ATGTCGCTCACGGTCGTCAGCATGGCGTGCGTTGGGTTCTTCTTGCTGCAGGGGGCCTGGCCACTCATGGGTGGTCAGGACAAACCCTTCCTGTCTGCCCGGCCCAGCACTGTGGTGCCTCGAGGAGGACACGTGGCTCTTCAGTGTCACTATCGTCGTGGGTTTAACAATTTCATGCTGTACAAAGAAGACAGAAGCCACGTTCCCATCTTCCACGGCAGAATATTCCAGGAGAGCTTCATCATGGGCCCTGTGACCCCAGCACATGCAGGGACCTACAGATGTCGGGGTTCACGCCCACACTCCCTCACTGGGTGGTCGGCACCCAGCAACCCCGTGGTGATCATGGTCACAGGAAACCACAGAAAACCTTCCCTCCTGGCCCACCCAGGGCCCCTGCTGAAATCAGGAGAGACAGTCATCCTGCAATGTTGGTCAGATGTCATGTTTGAGCACTTCTTTCTGCACAGAGAGGGGATCTCTGAGGACCCCTCACGCCTCGTTGGACAGATCCATGATGGGGTCTCCAAGGCCAACTTCTCCATCGGTCCCTTGATGCCTGTCCTTGCAGGAACCTACAGATGTTATGGTTCTGTTCCTCACTCCCCCTATCAGTTGTCAGCTCCCAGTGACCCCCTGGACATCGTGATCACAGGTCTATATGAGAAACCTTCTCTCTCAGCCCAGCCGGGCCCCACGGTTCAGGCAGGAGAGAACGTGACCTTGTCCTGTAGCTCCTGGAGCTCCTATGACATCTACCATCTGTCCAGGGAAGGGGAGGCCCATGAACGTAGGCTCCGTGCAGTGCCCAAGGTCAACAGAACATTCCAGGCAGACTTTCCTCTGGGCCCTGCCACCCACGGAGGGACCTACAGATGCTTCGGCTCTTTCCGTGCCCTGCCCTGCGTGTGGTCAAACTCAAGTGACCCACTGCTTGTTTCTGTCACAGGAAACCCTTCAAGTAGTTGGCCTTCACCCACAGAACCAAGCTCCAAATCTGGTATCTGCAGACACCTGCATGTTCTGATTGGGACCTCAGTGGTCATCTTCCTCTTCATCCTCCTCCTCTTCTTTCTCCTTTATCGCTGGTGCTCCAACAAAAAGAATGCTGCTGTAATGGACCAAGAGCCTGCGGGGGACAGAACAGTGAATAGGCAGGACTCTGATGAACAAGACCCTCAGGAGGTGATGTACGCACAGTTGGATCACTGCGTTTTCATACAGAGAAAAATCAGTCGCCCTTCTCAGAGGCCCAAGACACCCCTAACAGATACCAGCGTGTACACGGAACTTCCAAATGCTGAGCCCAGATCCAAAGTTGTCTCCTGCCCACGAGCACCACAGTCAGGTCTTGAGGGGGTTTTCTAG\n",
      "Annotations: {'molecule_type': 'mRNA', 'topology': 'linear', 'data_file_division': 'PRI', 'date': '01-DEC-2017', 'accessions': ['LT934502'], 'sequence_version': 1, 'keywords': [''], 'source': 'Homo sapiens (human)', 'organism': 'Homo sapiens', 'taxonomy': ['Eukaryota', 'Metazoa', 'Chordata', 'Craniata', 'Vertebrata', 'Euteleostomi', 'Mammalia', 'Eutheria', 'Euarchontoglires', 'Primates', 'Haplorrhini', 'Catarrhini', 'Hominidae', 'Homo'], 'references': [Reference(title='Direct Submission', ...)]}\n",
      "Feature: type: source\n",
      "location: [0:1368](+)\n",
      "qualifiers:\n",
      "    Key: db_xref, Value: ['taxon:9606']\n",
      "    Key: isolate, Value: ['human']\n",
      "    Key: mol_type, Value: ['mRNA']\n",
      "    Key: organism, Value: ['Homo sapiens']\n",
      "\n",
      "Feature: type: gene\n",
      "location: [0:1368](+)\n",
      "qualifiers:\n",
      "    Key: gene, Value: ['KIR3DL2']\n",
      "\n",
      "Feature: type: CDS\n",
      "location: [0:1368](+)\n",
      "qualifiers:\n",
      "    Key: allele, Value: ['KIR3DL2-011:01']\n",
      "    Key: codon_start, Value: ['1']\n",
      "    Key: gene, Value: ['KIR3DL2']\n",
      "    Key: product, Value: ['KIR3DL2 protein']\n",
      "    Key: protein_id, Value: ['SOH62259.1']\n",
      "    Key: translation, Value: ['MSLTVVSMACVGFFLLQGAWPLMGGQDKPFLSARPSTVVPRGGHVALQCHYRRGFNNFMLYKEDRSHVPIFHGRIFQESFIMGPVTPAHAGTYRCRGSRPHSLTGWSAPSNPVVIMVTGNHRKPSLLAHPGPLLKSGETVILQCWSDVMFEHFFLHREGISEDPSRLVGQIHDGVSKANFSIGPLMPVLAGTYRCYGSVPHSPYQLSAPSDPLDIVITGLYEKPSLSAQPGPTVQAGENVTLSCSSWSSYDIYHLSREGEAHERRLRAVPKVNRTFQADFPLGPATHGGTYRCFGSFRALPCVWSNSSDPLLVSVTGNPSSSWPSPTEPSSKSGICRHLHVLIGTSVVIFLFILLLFFLLYRWCSNKKNAAVMDQEPAGDRTVNRQDSDEQDPQEVMYAQLDHCVFIQRKISRPSQRPKTPLTDTSVYTELPNAEPRSKVVSCPRAPQSGLEGVF']\n",
      "\n"
     ]
    }
   ],
   "source": [
    "# Reading a GenBank file\n",
    "record = SeqIO.read(\"data/sequence.gb\", \"genbank\")\n",
    "\n",
    "print(f\"ID: {record.id}\")\n",
    "print(f\"Sequence: {record.seq}\")\n",
    "print(f\"Annotations: {record.annotations}\")\n",
    "for feature in record.features:\n",
    "    print(f\"Feature: {feature}\")\n"
   ]
  },
  {
   "cell_type": "code",
   "execution_count": null,
   "id": "c08c6b32-2eb8-49d6-96f1-39771dd19aff",
   "metadata": {},
   "outputs": [],
   "source": []
  }
 ],
 "metadata": {
  "kernelspec": {
   "display_name": "Python 3 (ipykernel)",
   "language": "python",
   "name": "python3"
  },
  "language_info": {
   "codemirror_mode": {
    "name": "ipython",
    "version": 3
   },
   "file_extension": ".py",
   "mimetype": "text/x-python",
   "name": "python",
   "nbconvert_exporter": "python",
   "pygments_lexer": "ipython3",
   "version": "3.12.4"
  }
 },
 "nbformat": 4,
 "nbformat_minor": 5
}
