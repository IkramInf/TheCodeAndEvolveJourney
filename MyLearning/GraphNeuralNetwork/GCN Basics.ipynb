{
 "cells": [
  {
   "cell_type": "code",
   "execution_count": 1,
   "id": "b8e387a2-f61a-44dd-a90b-acce3acb4c9c",
   "metadata": {},
   "outputs": [],
   "source": [
    "import torch\n",
    "import torch.nn.functional as F\n",
    "from torch_geometric.nn import GCNConv\n",
    "from sklearn.datasets import load_iris\n",
    "from sklearn.preprocessing import StandardScaler\n",
    "from sklearn.model_selection import train_test_split\n",
    "from torch_geometric.data import Data\n",
    "from sklearn.neighbors import kneighbors_graph\n"
   ]
  },
  {
   "cell_type": "code",
   "execution_count": 2,
   "id": "a030b5c9-ed59-41f3-b4d6-8d04a0088d4a",
   "metadata": {},
   "outputs": [
    {
     "name": "stdout",
     "output_type": "stream",
     "text": [
      "Data Shape:  torch.Size([150, 4])\n",
      "Target Shape:  torch.Size([150])\n"
     ]
    }
   ],
   "source": [
    "# Load iris dataset\n",
    "iris = load_iris()\n",
    "scaler = StandardScaler()\n",
    "X = torch.tensor(scaler.fit_transform(iris.data), dtype=torch.float)\n",
    "y = torch.tensor(iris.target, dtype=torch.long)\n",
    "print(\"Data Shape: \", X.shape)\n",
    "print(\"Target Shape: \", y.shape)\n"
   ]
  },
  {
   "cell_type": "code",
   "execution_count": 3,
   "id": "999eb8f8-25fc-4738-a182-a9156d121687",
   "metadata": {},
   "outputs": [
    {
     "data": {
      "text/plain": [
       "tensor([0, 1, 2])"
      ]
     },
     "execution_count": 3,
     "metadata": {},
     "output_type": "execute_result"
    }
   ],
   "source": [
    "torch.unique(y)\n"
   ]
  },
  {
   "cell_type": "code",
   "execution_count": 4,
   "id": "9ae719f7-f879-4025-b01f-46748091dc31",
   "metadata": {},
   "outputs": [
    {
     "name": "stderr",
     "output_type": "stream",
     "text": [
      "/tmp/ipykernel_22143/3847851584.py:3: UserWarning: Creating a tensor from a list of numpy.ndarrays is extremely slow. Please consider converting the list to a single numpy.ndarray with numpy.array() before converting to a tensor. (Triggered internally at /pytorch/torch/csrc/utils/tensor_new.cpp:254.)\n",
      "  edge_index = torch.tensor(knn_graph.nonzero(), dtype=torch.long)\n"
     ]
    }
   ],
   "source": [
    "# Create graph and edge indices\n",
    "knn_graph = kneighbors_graph(X, n_neighbors=5, mode='connectivity', include_self=True)\n",
    "edge_index = torch.tensor(knn_graph.nonzero(), dtype=torch.long)\n"
   ]
  },
  {
   "cell_type": "code",
   "execution_count": 5,
   "id": "2e094805-1cbb-4222-a27d-5fb7ac1cee13",
   "metadata": {},
   "outputs": [],
   "source": [
    "# Create Pytorch Geometric Data Object\n",
    "data = Data(x=X, edge_index=edge_index, y=y)\n"
   ]
  },
  {
   "cell_type": "code",
   "execution_count": 6,
   "id": "906c1a8f-b162-4b44-a173-2b4be68685dc",
   "metadata": {},
   "outputs": [
    {
     "data": {
      "text/plain": [
       "torch.Size([150, 4])"
      ]
     },
     "execution_count": 6,
     "metadata": {},
     "output_type": "execute_result"
    }
   ],
   "source": [
    "data.x.shape"
   ]
  },
  {
   "cell_type": "code",
   "execution_count": 7,
   "id": "9d69f42b-c2f5-4614-9f70-d641573a0a52",
   "metadata": {},
   "outputs": [
    {
     "data": {
      "text/plain": [
       "2"
      ]
     },
     "execution_count": 7,
     "metadata": {},
     "output_type": "execute_result"
    }
   ],
   "source": [
    "data.edge_index.size(0)"
   ]
  },
  {
   "cell_type": "code",
   "execution_count": 8,
   "id": "b8274ca1-48aa-43e3-83b8-1b4b1288dc4f",
   "metadata": {},
   "outputs": [
    {
     "data": {
      "text/plain": [
       "4"
      ]
     },
     "execution_count": 8,
     "metadata": {},
     "output_type": "execute_result"
    }
   ],
   "source": [
    "X.size(1)\n"
   ]
  },
  {
   "cell_type": "code",
   "execution_count": 9,
   "id": "4d2b0683-abd7-472d-892c-e4ccd162ae71",
   "metadata": {},
   "outputs": [],
   "source": [
    "# Train/Test splitting\n",
    "train_mask = torch.zeros(X.size(0), dtype=torch.bool)\n",
    "test_mask = torch.zeros(X.size(0), dtype=torch.bool)\n",
    "\n",
    "train_idx, test_idx = train_test_split(range(X.size(0)), test_size=0.3, stratify=y)\n",
    "train_mask[train_idx] = True\n",
    "test_mask[test_idx] = True\n",
    "\n",
    "data.train_mask = train_mask\n",
    "data.test_mask = test_mask\n"
   ]
  },
  {
   "cell_type": "code",
   "execution_count": 10,
   "id": "72aa13ea-30fe-46a2-afa4-03ebb568a67e",
   "metadata": {},
   "outputs": [
    {
     "data": {
      "text/plain": [
       "Data(x=[150, 4], edge_index=[2, 750], y=[150], train_mask=[150], test_mask=[150])"
      ]
     },
     "execution_count": 10,
     "metadata": {},
     "output_type": "execute_result"
    }
   ],
   "source": [
    "data"
   ]
  },
  {
   "cell_type": "code",
   "execution_count": 11,
   "id": "726896c7-bb7c-4685-8f04-93edafdddf4f",
   "metadata": {},
   "outputs": [],
   "source": [
    "# Define GCN Model\n",
    "class GCN(torch.nn.Module):\n",
    "    def __init__(self, in_channels, hidden_channels, out_channels):\n",
    "        super(GCN, self).__init__()\n",
    "        self.conv1 = GCNConv(in_channels, hidden_channels[0])\n",
    "        self.conv2 = GCNConv(hidden_channels[0], hidden_channels[1])\n",
    "        self.conv3 = GCNConv(hidden_channels[1], out_channels)\n",
    "\n",
    "    def forward(self, x, edge_index):\n",
    "        x = self.conv1(x, edge_index)\n",
    "        x = F.relu(x)\n",
    "        x = self.conv2(x, edge_index)\n",
    "        x = F.relu(x)\n",
    "        x = self.conv3(x, edge_index)\n",
    "        return x\n"
   ]
  },
  {
   "cell_type": "code",
   "execution_count": 12,
   "id": "93b719dd-f22f-4c7e-b2c4-36e910f46eef",
   "metadata": {},
   "outputs": [],
   "source": [
    "# Set up Model, Optmizer and Loss function\n",
    "device = torch.device(\"cuda\" if torch.cuda.is_available() else 'cpu')\n",
    "model = GCN(in_channels=4, hidden_channels=[16, 32], out_channels=3).to(device)\n",
    "data = data.to(device)\n",
    "\n",
    "optimizer = torch.optim.Adam(model.parameters(), lr=0.01)\n",
    "criterion = torch.nn.CrossEntropyLoss()\n"
   ]
  },
  {
   "cell_type": "code",
   "execution_count": 13,
   "id": "07be07d5-a1ae-474c-af06-c04e9e4c022d",
   "metadata": {
    "scrolled": true
   },
   "outputs": [
    {
     "name": "stdout",
     "output_type": "stream",
     "text": [
      "Epoch: 0 --> Loss: 1.4021\n",
      "Epoch: 10 --> Loss: 0.4173\n",
      "Epoch: 20 --> Loss: 0.2711\n",
      "Epoch: 30 --> Loss: 0.2043\n",
      "Epoch: 40 --> Loss: 0.1486\n",
      "Epoch: 50 --> Loss: 0.1159\n",
      "Epoch: 60 --> Loss: 0.1071\n",
      "Epoch: 70 --> Loss: 0.1027\n",
      "Epoch: 80 --> Loss: 0.0990\n",
      "Epoch: 90 --> Loss: 0.0968\n",
      "Epoch: 100 --> Loss: 0.0951\n",
      "Epoch: 110 --> Loss: 0.0935\n",
      "Epoch: 120 --> Loss: 0.0920\n",
      "Epoch: 130 --> Loss: 0.0904\n",
      "Epoch: 140 --> Loss: 0.0889\n",
      "Epoch: 150 --> Loss: 0.0874\n",
      "Epoch: 160 --> Loss: 0.0860\n",
      "Epoch: 170 --> Loss: 0.0845\n",
      "Epoch: 180 --> Loss: 0.0830\n",
      "Epoch: 190 --> Loss: 0.0815\n"
     ]
    }
   ],
   "source": [
    "# Training Loop\n",
    "model.train()\n",
    "for epoch in range(200):\n",
    "    optimizer.zero_grad()\n",
    "    out = model(data.x, data.edge_index)\n",
    "    loss = criterion(out[data.train_mask], data.y[data.train_mask])\n",
    "    loss.backward()\n",
    "    optimizer.step()\n",
    "\n",
    "    if epoch % 10 == 0:\n",
    "        print(f\"Epoch: {epoch} --> Loss: {loss.item():.4f}\")\n"
   ]
  },
  {
   "cell_type": "code",
   "execution_count": 14,
   "id": "fd27ab0b-f0e4-45f0-8bbc-bda17d0042de",
   "metadata": {},
   "outputs": [
    {
     "name": "stdout",
     "output_type": "stream",
     "text": [
      "Test Accuracy: 1.0000\n"
     ]
    }
   ],
   "source": [
    "# Evaluate model\n",
    "model.eval()\n",
    "pred = model(data.x, data.edge_index).argmax(dim=1)\n",
    "correct = pred[data.test_mask] == data.y[data.test_mask]\n",
    "acc = int(correct.sum()) / int(data.test_mask.sum())\n",
    "print(f\"Test Accuracy: {acc:.4f}\")\n"
   ]
  },
  {
   "cell_type": "code",
   "execution_count": null,
   "id": "4d8b2193-5f86-4d20-abde-34bfa8fdc7db",
   "metadata": {},
   "outputs": [],
   "source": []
  }
 ],
 "metadata": {
  "kernelspec": {
   "display_name": "Python 3 (ipykernel)",
   "language": "python",
   "name": "python3"
  },
  "language_info": {
   "codemirror_mode": {
    "name": "ipython",
    "version": 3
   },
   "file_extension": ".py",
   "mimetype": "text/x-python",
   "name": "python",
   "nbconvert_exporter": "python",
   "pygments_lexer": "ipython3",
   "version": "3.12.2"
  }
 },
 "nbformat": 4,
 "nbformat_minor": 5
}
