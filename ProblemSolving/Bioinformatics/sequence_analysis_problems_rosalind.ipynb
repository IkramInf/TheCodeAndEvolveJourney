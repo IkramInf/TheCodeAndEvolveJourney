{
 "cells": [
  {
   "cell_type": "markdown",
   "id": "efdfbc90-5100-4740-8baf-4f526580bb1d",
   "metadata": {},
   "source": [
    "# Problems: Sequence Analysis\n",
    "\n",
    "https://rosalind.info/problems/topics/sequence-analysis/"
   ]
  },
  {
   "cell_type": "markdown",
   "id": "df2238fc",
   "metadata": {},
   "source": [
    "__Various Pattern to find ORF and intron:<br>__\n",
    "- \"(ATG(?:.{3})+?)(?:TAA|TAG|TGA)\"  # multiple of 3  <br>\n",
    "- \"ATG.*?(?:TAA|TAG|TGA)\"  # not multiple of 3  <br>\n",
    "- \"GT.*?AG\"  # intron finding  <br>"
   ]
  },
  {
   "cell_type": "markdown",
   "id": "009f3bf6",
   "metadata": {},
   "source": [
    "## 1. GenBank Introduction\n",
    "https://rosalind.info/problems/gbk/"
   ]
  },
  {
   "cell_type": "code",
   "execution_count": 1,
   "id": "70ae43a6-f5e7-4fbb-aea4-2d039bc9079d",
   "metadata": {},
   "outputs": [],
   "source": [
    "from Bio import Entrez"
   ]
  },
  {
   "cell_type": "code",
   "execution_count": 5,
   "id": "2fa0dae7",
   "metadata": {},
   "outputs": [
    {
     "name": "stdout",
     "output_type": "stream",
     "text": [
      "18\n"
     ]
    }
   ],
   "source": [
    "# Define the search parameters\n",
    "genus = \"Pectinaria\"\n",
    "start_date = \"2006/05/07\"\n",
    "end_date = \"2008/04/06\"\n",
    "\n",
    "# Set the email for NCBI Entrez\n",
    "Entrez.email = \"your.email@example.com\"\n",
    "\n",
    "# Search the Nucleotide database\n",
    "handle = Entrez.esearch(db=\"nucleotide\", term=f\"{genus}[Organism]\",\n",
    "                        datetype=\"pdat\", mindate=start_date, maxdate=end_date)\n",
    "record = Entrez.read(handle)\n",
    "handle.close()\n",
    "\n",
    "# Get the count of entries\n",
    "entry_count = int(record[\"Count\"])\n",
    "print(entry_count)\n"
   ]
  },
  {
   "cell_type": "markdown",
   "id": "25812863-4bc8-41cd-863f-f953c53efb48",
   "metadata": {},
   "source": [
    "## 2. Data Formats\n",
    "\n",
    "https://rosalind.info/problems/frmt/\n",
    "\n",
    "To search for particular accession IDs, we can use the function __Bio.Entrez.efetch(db, rettype)__"
   ]
  },
  {
   "cell_type": "code",
   "execution_count": 6,
   "id": "c2069af7-3aeb-412f-acad-8e201a5a6a7a",
   "metadata": {},
   "outputs": [],
   "source": [
    "from Bio import Entrez\n",
    "from Bio import SeqIO"
   ]
  },
  {
   "cell_type": "code",
   "execution_count": 11,
   "id": "0b100045-87b8-4bf7-ab78-fdce000004a1",
   "metadata": {},
   "outputs": [
    {
     "name": "stdout",
     "output_type": "stream",
     "text": [
      "['JX469991', 'JX462669', 'JX308821', 'NM_001197168', 'NM_001251956', 'NM_002124', 'JQ712982', 'JX462666', 'FJ817486', 'NM_001081821']\n"
     ]
    }
   ],
   "source": [
    "with open(\"rosalind_frmt.txt\", \"r\") as fi:\n",
    "    accession_list = fi.read().strip().split()\n",
    "print(accession_list)"
   ]
  },
  {
   "cell_type": "code",
   "execution_count": 12,
   "id": "4f119bee-bc34-4f60-9977-c788b5fe4100",
   "metadata": {},
   "outputs": [],
   "source": [
    "Entrez.email = \"your_name@your_mail_server.com\"\n",
    "handle = Entrez.efetch(db=\"nucleotide\", id=accession_list, rettype=\"fasta\")\n",
    "records = {len(record.seq) : (record.description, str(record.seq)) for record in SeqIO.parse(handle, \"fasta\")}\n",
    "records = sorted(records.items(), key=lambda x:x[0])\n",
    "\n",
    "if records:\n",
    "    with open(\"output.fasta\", \"w\") as fw:\n",
    "        header = records[0][1][0]\n",
    "        seq = records[0][1][1]\n",
    "        fw.write(f\">{header}\\n{seq}\")\n"
   ]
  },
  {
   "cell_type": "markdown",
   "id": "3abf1cc4-7b21-4597-8d03-a79b7b9ab5cf",
   "metadata": {},
   "source": [
    "## 3. Protein Translation\n",
    "\n",
    "https://rosalind.info/problems/ptra/"
   ]
  },
  {
   "cell_type": "code",
   "execution_count": 55,
   "id": "badbb8c3-aeea-47f0-a8d6-2fa22a189164",
   "metadata": {},
   "outputs": [],
   "source": [
    "from Bio.Seq import translate"
   ]
  },
  {
   "cell_type": "code",
   "execution_count": 68,
   "id": "95c353cc-e45f-4b8e-b4ef-8afdaadae601",
   "metadata": {},
   "outputs": [
    {
     "name": "stdout",
     "output_type": "stream",
     "text": [
      "13\n"
     ]
    }
   ],
   "source": [
    "dna = \"ATGGCCATGGCGCCCAGAACTGAGATCAATAGTACCCGTATTAACGGGTGA\"\n",
    "protein = \"MAMAPRTEINSTRING\"\n",
    "\n",
    "with open(\"rosalind_ptra.txt\", \"r\") as fi:\n",
    "    dna = fi.readline().strip()\n",
    "    protein = fi.readline().strip()\n",
    "\n",
    "for index in range(1, 34):\n",
    "    try:\n",
    "        translated_seq = translate(dna, table=index)\n",
    "        table = translated_seq.index(protein)\n",
    "        print(index)\n",
    "        break\n",
    "    except (ValueError, KeyError):\n",
    "        continue\n"
   ]
  },
  {
   "cell_type": "markdown",
   "id": "ff04c372-9ea8-42a4-84c0-5c2730cdfb12",
   "metadata": {},
   "source": [
    "## 4. Complementing a Strand of DNA\n",
    "\n",
    "https://rosalind.info/problems/rvco/"
   ]
  },
  {
   "cell_type": "code",
   "execution_count": 69,
   "id": "0f626ce3-d706-4ab0-b1c1-0a3858199fc7",
   "metadata": {},
   "outputs": [],
   "source": [
    "from Bio import SeqIO"
   ]
  },
  {
   "cell_type": "code",
   "execution_count": 70,
   "id": "546f7fe1-fa5a-447a-b1e9-16b8d0398638",
   "metadata": {},
   "outputs": [
    {
     "name": "stdout",
     "output_type": "stream",
     "text": [
      "3\n"
     ]
    }
   ],
   "source": [
    "count = 0\n",
    "for record in SeqIO.parse(\"rosalind_rvco.txt\", \"fasta\"):\n",
    "    revc = record.seq.reverse_complement()\n",
    "    if revc == record.seq:\n",
    "        count += 1\n",
    "print(count)\n"
   ]
  },
  {
   "cell_type": "markdown",
   "id": "f4f3b88f-eb69-409c-9c7a-44d1697d51a0",
   "metadata": {},
   "source": [
    "## 5. Finding Genes with ORFs\n",
    "\n",
    "https://rosalind.info/problems/orfr/"
   ]
  },
  {
   "cell_type": "code",
   "execution_count": 79,
   "id": "27d233cd-bac9-47a2-9ac0-8d19442e8e62",
   "metadata": {},
   "outputs": [],
   "source": [
    "import re\n",
    "from Bio.Seq import translate, reverse_complement"
   ]
  },
  {
   "cell_type": "code",
   "execution_count": 81,
   "id": "580cafa5-0630-402d-9a57-d121e342b2f0",
   "metadata": {},
   "outputs": [
    {
     "name": "stdout",
     "output_type": "stream",
     "text": [
      "MLRSTVAQTSVSRSIRLYRRRGCLSESLYGRGGCLTRCHPALYLLGNR\n"
     ]
    }
   ],
   "source": [
    "dna = \"AGCCATGTAGCTAACTCAGGTTACATGGGGATGACCCCGCGACTTGGATTAGAGTCTCTTTTGGAATAAGCCTGAATGATCCGAGTAGCATCTCAG\"\n",
    "\n",
    "with open(\"rosalind_orfr.txt\", \"r\") as fi:\n",
    "    dna = fi.read().strip().replace(\"\\n\", \"\")\n",
    "\n",
    "rev_dna = reverse_complement(dna)\n",
    "\n",
    "pattern = \"(ATG(?:.{3})+?)(?:TAA|TAG|TGA|$)\"\n",
    "orfs1 = re.findall(pattern, dna, re.S|re.I)\n",
    "orfs2 = re.findall(pattern, rev_dna, re.S|re.I)\n",
    "\n",
    "if orfs:\n",
    "    largest_orf = max(orfs1 + orfs2, key=len)\n",
    "    protein = translate(largest_orf)\n",
    "    print(protein)\n"
   ]
  },
  {
   "cell_type": "code",
   "execution_count": null,
   "id": "51d5e534-1030-4e06-838f-4ce2db4a419c",
   "metadata": {},
   "outputs": [],
   "source": []
  }
 ],
 "metadata": {
  "kernelspec": {
   "display_name": "Python 3 (ipykernel)",
   "language": "python",
   "name": "python3"
  },
  "language_info": {
   "codemirror_mode": {
    "name": "ipython",
    "version": 3
   },
   "file_extension": ".py",
   "mimetype": "text/x-python",
   "name": "python",
   "nbconvert_exporter": "python",
   "pygments_lexer": "ipython3",
   "version": "3.11.8"
  }
 },
 "nbformat": 4,
 "nbformat_minor": 5
}
