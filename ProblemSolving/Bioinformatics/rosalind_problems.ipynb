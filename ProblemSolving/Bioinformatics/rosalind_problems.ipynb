{
 "cells": [
  {
   "cell_type": "markdown",
   "id": "df2238fc",
   "metadata": {},
   "source": [
    "\"(ATG(?:.{3})+?)(?:TAA|TAG|TGA)\"  # multiple of 3  <br>\n",
    "\"ATG.*?(?:TAA|TAG|TGA)\"  # not multiple of 3  <br>\n",
    "\"GT.*?AG\"  # intron finding  <br>"
   ]
  },
  {
   "cell_type": "code",
   "execution_count": 1,
   "id": "b1b87881",
   "metadata": {},
   "outputs": [],
   "source": [
    "import re\n",
    "from Bio import SeqIO\n",
    "#from Bio.Seq import translate"
   ]
  },
  {
   "cell_type": "markdown",
   "id": "8c145795",
   "metadata": {},
   "source": [
    "# RNA Splicing\n",
    "https://rosalind.info/problems/splc/"
   ]
  },
  {
   "cell_type": "code",
   "execution_count": 2,
   "id": "663492a9",
   "metadata": {},
   "outputs": [
    {
     "name": "stdout",
     "output_type": "stream",
     "text": [
      "ATGTCATCTGCTTCGCATTCAACAACATTCCTAATGTTCTATCTCAGGCCCCAGCTCGTCGGCCGTCCACCAGCCTGCATAGTGGCTTGATCTCACTTCGACCACGAATAGAAGGTCAAAAGTACTTGGTCGAAACTTGAAGGTGGGGAACTCTGTTTGGAGCAGGGCCCTCCGCTTCTCCGTGGCTTTGGCGACAGTAATATGCTACATCCTCGCCCGGCGAATATTCTTCAGGTTAGGAGGGGATTCGAGAGATAGGCCGTCTTGAGATGTTTAGGCACGGGCTCTCGACGGCCGATTAAATGAGGATAAGCTCGGTCCTGATTGCTACCTAATACCAGTGGATGGTGCGCCGTGCTCTCTATCGCATTAGCGACTAGCTAACAATCTGTTTCGAGGTCGGATACGAGTAAGGGGCATTATTTCATCTGAACGCTTGCGTCGCAGCCGTTAAATTCTGGCGCCTGCAGCTGGGGGATAATAGTCTAAATGCTGCGACGCCCCCGCCCTATCACCATCTCCAAGCACTCGACGCTTTCCGCTCAGCAGCGAACAACTCATTGGCTAGTAAAAACCATTCACGAAAGGCCCACCTGGTGCGCCAATCAGAGGAGGCCAGGAAGACCACACGGGTCGCCGCGTCAAAACCTATTTCGTGTTATGCTGCCAGACGTTCGGCACTGCAGGTCCACGAGAAGAGTACAGTTAGCCGACTGGCGTCAAAGCTCTGCCGAGATATATACAGGCATTTCTATGTCTGTATCACGTTAAGTTTGACACTGACGTTTAAGTGTTTAATATTAGGTTTTGGAGACAAAGTCTCTCAGTTCTCTCGTGCCCAACTGTGGGCACTGCTATACGTCGCCGGTGGGAGAGGGAATTACTGGACGCAATGACGGTAGATATCTACTCGCAAGACTGTACATTCCTGGAATCTTATATTAG ['TCACCATCTCCAAGCACTCGACGCTTTCCGCTCAGCAGCG', 'GCGACTAGCTAACAATCTGTTTCGAGGTCGGATACGAGTA', 'AGAGTACAGTTAGCCGACTGGCGTCAAAGCTCTGCCGAGA', 'ACACGGGTCG', 'TTAGGAGGGGATTCGAGAGATAGGCCGTCTTGAGATGTTTAGGCA', 'TAAATTCTGGCGCCTGCAGCTGGGGGATAATAGTCTAAATGC', 'CGAAAGGCCCACCTGGTGCGCCAATCA', 'TTTGACACTGACGTTTAAGTGTTTA', 'GGCCGTCCACCAGCCTGCAT', 'AAGTACTTGGTCG', 'TTGGAGCAGGGCCCTCCGCTTCTCCGTGGCTTTGGCGACAGTAATA', 'TTAAATGAGGATAAGCTCGGTCCTGATTG', 'CTATACGTCGCCGGTGGGAGAGGGAATTACTGGACGC']\n"
     ]
    }
   ],
   "source": [
    "seqs = [str(record.seq) for record in SeqIO.parse(\"data/rosalind_splc.txt\", \"fasta\")]\n",
    "s, introns = seqs[0], seqs[1:]\n",
    "print(s, introns)"
   ]
  },
  {
   "cell_type": "code",
   "execution_count": 3,
   "id": "c099bbad",
   "metadata": {},
   "outputs": [
    {
     "data": {
      "text/plain": [
       "'MSSASHSTTFLMFYLRPQLVSGLISLRPRIEGQKLEGGELCCYILARRIFFRRALDGRLPNTSGWCAVLSIALRGIISSERLRRSRCDAPALNNSLASKNHSEEARKTPRQNLFRVMLPDVRHCRSTRYIQAFLCLYHVKILGFGDKVSQFSRAQLWALNDGRYLLARLYIPGILY'"
      ]
     },
     "execution_count": 3,
     "metadata": {},
     "output_type": "execute_result"
    }
   ],
   "source": [
    "def translate(dna):\n",
    "    rna = dna.upper().replace(\"T\", \"U\")\n",
    "    codonTable = {\"UUU\": \"F\", \"UUC\": \"F\", \"UUA\": \"L\", \"UUG\": \"L\", \"UCU\": \"S\",\n",
    "                 \"UCC\": \"S\", \"UCA\": \"S\", \"UCG\": \"S\", \"UAU\": \"Y\", \"UAC\": \"Y\",\n",
    "                 \"UAA\": \"*\", \"UAG\": \"*\", \"UGA\": \"*\", \"UGU\": \"C\", \"UGC\": \"C\",\n",
    "                 \"UGG\": \"W\", \"CUU\": \"L\", \"CUC\": \"L\", \"CUA\": \"L\", \"CUG\": \"L\",\n",
    "                 \"CCU\": \"P\", \"CCC\": \"P\", \"CCA\": \"P\", \"CCG\": \"P\", \"CAU\": \"H\",\n",
    "                 \"CAC\": \"H\", \"CAA\": \"Q\", \"CAG\": \"Q\", \"CGU\": \"R\", \"CGC\": \"R\",\n",
    "                 \"CGA\": \"R\", \"CGG\": \"R\", \"AUU\": \"I\", \"AUC\": \"I\", \"AUA\": \"I\",\n",
    "                 \"AUG\": \"M\", \"ACU\": \"T\", \"ACC\": \"T\", \"ACA\": \"T\", \"ACG\": \"T\",\n",
    "                 \"AAU\": \"N\", \"AAC\": \"N\", \"AAA\": \"K\", \"AAG\": \"K\", \"AGU\": \"S\",\n",
    "                 \"AGC\": \"S\", \"AGA\": \"R\", \"AGG\": \"R\", \"GUU\": \"V\", \"GUC\": \"V\",\n",
    "                 \"GUA\": \"V\", \"GUG\": \"V\", \"GCU\": \"A\", \"GCC\": \"A\", \"GCA\": \"A\",\n",
    "                 \"GCG\": \"A\", \"GAU\": \"D\", \"GAC\": \"D\", \"GAA\": \"E\", \"GAG\": \"E\",\n",
    "                 \"GGU\": \"G\", \"GGC\": \"G\", \"GGA\": \"G\", \"GGG\": \"G\"}\n",
    "    \n",
    "    index = (len(rna)//3) * 3\n",
    "    rna = rna[:index]\n",
    "    return \"\".join([codonTable[rna[i:i+3]] for i in range(0, len(rna), 3) if codonTable[rna[i:i+3]] != \"*\"])\n",
    "\n",
    "def rna_splicing(s, introns):\n",
    "    for intron in introns:\n",
    "        s = s.replace(intron, \"\")\n",
    "    return translate(s)\n",
    "\n",
    "rna_splicing(s, introns)"
   ]
  },
  {
   "cell_type": "code",
   "execution_count": null,
   "id": "e9db5a73",
   "metadata": {},
   "outputs": [],
   "source": []
  },
  {
   "cell_type": "markdown",
   "id": "d878f744",
   "metadata": {},
   "source": [
    "# Transitions and Transversions\n",
    "https://rosalind.info/problems/tran/"
   ]
  },
  {
   "cell_type": "code",
   "execution_count": 4,
   "id": "e16418df",
   "metadata": {},
   "outputs": [
    {
     "name": "stdout",
     "output_type": "stream",
     "text": [
      "AAGTGTCAGGTCCTGGACTGAATTGGATCGCTCTTGGGAAGGCGACTCGGTATATATGACTGGGGACAAGGTGGGTACAACGCATAGATATAAAGACCGAAGCCTCAATCCTCATACGCATGCTTCTAGCTTAATTTCAAGGTCGGAACCTCTATCCCTCTTATCCTTCACAGGCCCCACAGCGTTGACATTAAATGGTTTTCCTCAGTCCTAGTTAATTCATCTTCTCGAAACTAGGTGGGAGGATCTGACTCGCAACATAATTTGGAAAATAGCTAACTGCATTTTGTAATACTGGTTCCAGTTTTCACCAAGCCCACTTATTCTTGTCTTCAAGGCTGCAATAAAACCGTAGATGCCGTTCCAGGTCTTTCACCCACAGACGGCGCCGTGATCACTACCAGGCATAAGAGACTCCAGGTACGCACCGTGCACCATCGCGCTGTCCGGGCTAAAGAGTTTGTATCTCGGGGAGGACGCCGGCTTGCCATTGGGAACCTCCAAGAGGGGTATGGATAATCAAATGAAATATACTCCACGTCACCGTTAACAGCTTTTGCGATTGTGGACAATGCTTTGTAACGTCCTCTCTGCTTCAGCCTTATAACCAACATAGGGATTTTCCCACGACCCTTCCACTACGGTAGGCCTGGCAGAAGCTGCTGGCTCGACTTCGCCGGTCCGGATTCGTGCCCGCTCAGGTGAGTTACGCCTTGGGTCCTTCGGAAGCCCGGTTGTACATAGATGATGAGCCTGTGTACGGTAACGATGTTTCCCATGTGTACTCCTACCCTGTGACGCTCCGCACTACGGGTTATAAGTAGTTGGCCAGACGATTTATCCATGCATCCAGTCATTGCTAACTTGAAGACTATGGGAGCAGGACTCTACTTAGCTGG \n",
      " GAACGCAAAGTCCTCAACGAAACTGGATCGCTCTGGAGGAGATAGTTGAGTGTGTATAAATGAAGACAAAGTGAGCGCAACGCATAGACATAAAGGTTGAAGTCTCTATCTCCCTATGTTTGCTCCTAGCTTTATTTCAAAACTGGAACTTCTATCCTTTTTGTTCCTTACACGCCCCACGGTGTTGCGATTAAACGGTTGTTATCAGTTCCAGCTAATGCACCTTCTCGAGGCTAGATGAAAACACCTGACTCGCAACATAATCTGGAAGAGAGCTAACTGCATTTTGTAGTATTGGTGCCAATTTTCACCGAGCCTACTCATCTTTGTCTTCCAAACGGCAATACAACCGTACATACGGTTCCAGTCGTTTCACCACCAGGCGGTGTTAGGATCGTTATCAAGCATAAGAAAATCCGGATAAACTCCGAGTATTCTCGCACTGTCCGAGTTAGAGAGTTTGTTTTTAGTGGCGGGCGGTGGCGTGACGTCAAGGACCTTCGGAAGGGATGCAGATAATCAGATGAAATGTATTCCTCGTGACTACCAACACCGCTTGCGAGTGTTCTTGATGCTCTATTGCATTCTCTCTACTTCCGCTCTATAGCCGACACGGCTATTTCTTCACGACCGTTCTACTTCGGTAGCCCTACCAGAAGCTGCCGACTCCAATTCGCCAGTCCGGTTTCGGGTACGTTCAGGTGAATTACACCCTGGCCCCTGCAAAAGCCCGCACGTACATAGATAGCAAGCTTGTATGCAAGAATGATGCATTCCATACGTACTTCCACTCGGTGGCGGTCCATACTGCAAGTCATAGGTCATTGGCCTGGCAGTCCATCCATGCATCCACTTATCGTTAATCTGAAGGTTATGACAGCAAGACACCATTCGGCTAG\n"
     ]
    }
   ],
   "source": [
    "seq1, seq2 = [str(record.seq) for record in SeqIO.parse(\"data/rosalind_tran.txt\", \"fasta\")]\n",
    "print(seq1, \"\\n\", seq2)"
   ]
  },
  {
   "cell_type": "code",
   "execution_count": 5,
   "id": "573154eb",
   "metadata": {},
   "outputs": [
    {
     "name": "stdout",
     "output_type": "stream",
     "text": [
      "2.6\n"
     ]
    }
   ],
   "source": [
    "def count_trans(seq1, seq2):   \n",
    "    transition_set = [('A', 'G'), ('C', 'T'), ('G', 'A'), ('T', 'C')]\n",
    "    transitions, transversions = 0, 0\n",
    "    for x, y in zip(seq1, seq2):\n",
    "        if x != y:\n",
    "            if (x, y) in transition_set:\n",
    "                transitions += 1\n",
    "            else:\n",
    "                transversions += 1\n",
    "    return transitions/transversions\n",
    "\n",
    "print(count_trans(seq1, seq2))"
   ]
  },
  {
   "cell_type": "code",
   "execution_count": null,
   "id": "e2df1355",
   "metadata": {},
   "outputs": [],
   "source": []
  },
  {
   "cell_type": "markdown",
   "id": "0d2bcff6",
   "metadata": {},
   "source": [
    "# Compute the Hamming Distance Between Two Strings\n",
    "https://rosalind.info/problems/ba1g/"
   ]
  },
  {
   "cell_type": "code",
   "execution_count": 8,
   "id": "0f2a2f08",
   "metadata": {},
   "outputs": [
    {
     "name": "stdout",
     "output_type": "stream",
     "text": [
      "CCTCTGATTGTTCTTTTTGTAGTACTCGAGACATTGCCGACTGGATCGAAATTGAACATCCTGAGGCCGGAGTAGGGGAGTGACAGCCGGACTCAGCCGGAGACATTAGCCCCGGGGATGCAGGAGCGATAGCACGACCTCTGCTTCTCCGACACCAAGCCGATCGCGTAGCAACATGTACAAGAGGCCGGAATGCGGGCACGCATCGCACCCCAATGAATGTCAATATTTCGGGCTCCGTTATTCAGTAGAATTTAGGCCGAGTGACTCGCGCGTGCATTATGTTTATCGTTTGGAAGCAAGCAGTCAGTCGAGATCATACCCGGAATAGTCGGGAGATCAAAGTCGCTTCCTGTAGCGAATAACAGTGACAGTTACGATCAGCTATGAATATACTTCCTTCACATCCGTTCCTGATGTGGCGGTTGGTAATGACTACTGCGGATGGAAGCCCGGCTTCTACGTTCGCTCCCATTTACGGTCGAGGCTTGTAAGGTCTGGGTCTTGACACGCTCGCTTTTGATTTGCTTACGGTCTTATCAGCTTAAGAACCACTCCCTCGTCTTGCCTTGGGTAAGCCTCATCCCAAACGGCCTGAGATCGATATCGTCAAAAGGAAAAAAGGGACCCGTGTTAGAAAGCTCGTTCGCAAGTAAAAATCTATTCAGCCTGTTTCTTCTGTTCGTCTCGGCTCAACCCACGAAACTATGCGTACACATTAATCATGCTTCTGTTAACGGAGATCATGACGTCCTTTAAGTCATGAAGGCGGGAGAATTAGGGTATACGTGCTATAGAATTTGGTTAGTAATCGCGTTCCTCACGGCCTGGCCTCGCCACCGGGGGTTCAGTGCTCTTAAAAAGTCGCAGAGGGAGGCAGGTCAACTTTCCAACTCTCTCTGGCTTCGGGGTGCTCTTGTTTCACGAGGAGCGCCTGATTATAGTACCGTACATGGTCATCATGAGTATTGTTGGAAAAAACAGCAAATCGTAGGTGTATTGAAGAGCGGATGTTTGTACGTCAAGTACGGCTCCGGATATTCGCTCCTATGAGGTCCCCTACAGAATTCGACGTTAGGGGTCTCAAGATGTATATGACATTGGGAAGCTCGCGTTACCAGAATTAAGTGTATCCAGCCTT AACAGTGCATGGGGAGGTCCTGGAGGGCTTCCTATTATTTGCGGTTCGGCCGACATCGATAAACGGCGGGATGTTAACGCCCGTTGTGGCACGCTGATCGGCAACACTCGCCTACCCTTCTTCAGGTGGCGGGTATTCTATAGGGAGCCCCATCCGTTTTCCTTCTGAATGTCCTACTGCAGGCCGCAACCCCGCCCGAGCAGTGGGATTAGTTACCCGTTCCCTTTATATACCAATTCCGGTTCTCAACGGAGGGCGCTCCTGAGGTCAGCGTTGAGCATTGGTTTCACCTCCCACTTAGATCCTCCGCGAGAGGATGAAGAAAAACTGGCCTCTACATCTCCGATTAGTCGAGTTGGACCCAAGGTCTGGTCTAGAGATTCAAAATGGTGTAAGCATTTACTTTTGTTCATAAAGACTCAATTTTGGGACGGCTTATAGCACTGTGGCAGTGGTGTGCGTGGTCAATCTTCCCTGCGTATGAACCGCCGGTTGTCTACCATTACAATGCCTGCAGATATTTGACATTATTTGATGTCCACAGTCTTCGTCACAAGCCACTAGTCCTACGACGTATCTTTATTCTCCAACGGAGGGTGTGTAACTCAAGACTCCCGGGAGCATTTAGGAATAGATTTCGCCAGGTACGGGCTGTCAGATCCTCAAGACTGCTTGGGCTTAGTAAAGCCTGATCGGGTCGGCCGACAACATCCCCCGAATCATCACGGTAATGAAAGGCTATTGCCTGATTAGCCGGGGGCACTTTGAGGTTTACCGGGACAGACTCCGAAACTCGAACAACTATACAGTCTTCGACGACCCGGTTCCCGGGTAGCAGTGCTAAATGAGGACGTCATAGACCCGGACGCATTACGGCTATGAATACTCACATGGGTGAAGCTTTTTCATATGTTGGCATCCGTTGGGGTAGAGAGACCGGGTGGCGATGCATTCGCCTACCCGTAGTCGAGCGGTTTGAGATTGGGACCCACACGTCCAGAGCATATTACTTTTTATTCAATGCGCAAGCGACATTAAGACCAAGCACCCTACATGAGCGGTTTGATGGTGATTCGTTACGCCGCAGTATCAACTGCGCCATGCGCAGGGCGCCAGAAAACGATATTCGGATGTACAGGTG\n"
     ]
    }
   ],
   "source": [
    "with open(\"data/rosalind_ba1g.txt\", \"r\") as f:\n",
    "    seq1 = f.readline().replace(\"\\n\", \"\")\n",
    "    seq2 = f.readline().replace(\"\\n\", \"\")\n",
    "print(seq1, seq2)"
   ]
  },
  {
   "cell_type": "code",
   "execution_count": 10,
   "id": "0fc7c334",
   "metadata": {},
   "outputs": [
    {
     "name": "stdout",
     "output_type": "stream",
     "text": [
      "836\n"
     ]
    }
   ],
   "source": [
    "ham_dist = sum([1 for x, y in zip(seq1, seq2) if x!=y])\n",
    "print(ham_dist)"
   ]
  },
  {
   "cell_type": "code",
   "execution_count": null,
   "id": "ff89da7b",
   "metadata": {},
   "outputs": [],
   "source": []
  },
  {
   "cell_type": "markdown",
   "id": "96db5fd6",
   "metadata": {},
   "source": [
    "# Introduction to the Bioinformatics Armory\n",
    "https://rosalind.info/problems/ini/"
   ]
  },
  {
   "cell_type": "code",
   "execution_count": 11,
   "id": "6355f102",
   "metadata": {},
   "outputs": [
    {
     "name": "stdout",
     "output_type": "stream",
     "text": [
      "TGACCACTAGTTAGTACATAGTCCATTTGGTATTACATTCGTCACTTCAGTGTGCTTTGCCTCTCTATGGTCCAGAGGATCAGGCTATTTCTATTGTCCCGTCGGAAACTCACCTCAGAACTAGTGTCTTGTATCCTCAGCGTTAGCAGTCTAACGCAGAGCCGCGCCTTGACTGACATCACCACTTAATGACTGACCCTGATACTCCGGGCTCTCATGGTGCAGCGGATACAAACGCTTGACTTATGTAAATGTTAAACTCAAGTGCATTTTCCTCTTCCAAACGCCCCATGGCCGTGTGCGTTATCGCAACATGCACATGAGAAGGCCGTCGAGTAGGCACTACATCCATCAACAGCAGCGGACGCATCGTAAACCGTAGTGTCGAGAGCTCGCCGATTTCAGGCGGTTAACTGAGTCTTCTCGATAGAAGGCGCAAGTAAAACATGGGTACTAGTCCTGGCCGAAGATGTCGGTGGCTATTAACGCGTAACTCCATTGAGTGGCTGCGAGCCTACAAGAGAACGAGGCAGTTCGGAGACAGAGTTTCTGCAATCTGATACCGAGGAATACAGCTGAAGCGTGCCAGGTCCTCTATGACGACTAAAGGGGTTCTCGATGCCAAGAGTATTGTGAACCGACTGAAGCTTCAGTTGATAGAAATCCATGGCCTGTCCTCTGCCAGCAAATTTTAGGGGAATGGCTTCCGTGAACTATATTAGCGCTTGCCTAACCAGTACAGGATTTCAGACTTTATATCCTCACTAGCCCAGTCACGTGGACCACTGTCCTCAAATGGATTGCTGTGCTTTTTAATGGTTACACTTTAC\n"
     ]
    }
   ],
   "source": [
    "with open(\"data/rosalind_ini.txt\", \"r\") as f:\n",
    "    seq = f.read().replace(\"\\n\", \"\")\n",
    "    print(seq)"
   ]
  },
  {
   "cell_type": "code",
   "execution_count": 12,
   "id": "9ab889c6",
   "metadata": {},
   "outputs": [
    {
     "name": "stdout",
     "output_type": "stream",
     "text": [
      "209 207 195 219\n"
     ]
    }
   ],
   "source": [
    "seq = seq.upper()\n",
    "a = seq.count(\"A\")\n",
    "c = seq.count(\"C\")\n",
    "g = seq.count(\"G\")\n",
    "t = seq.count(\"T\")\n",
    "print(f\"{a} {c} {g} {t}\")"
   ]
  },
  {
   "cell_type": "code",
   "execution_count": null,
   "id": "ef96e22d",
   "metadata": {},
   "outputs": [],
   "source": []
  },
  {
   "cell_type": "markdown",
   "id": "009f3bf6",
   "metadata": {},
   "source": [
    "# GenBank Introduction\n",
    "https://rosalind.info/problems/gbk/"
   ]
  },
  {
   "cell_type": "code",
   "execution_count": null,
   "id": "70ae43a6-f5e7-4fbb-aea4-2d039bc9079d",
   "metadata": {},
   "outputs": [],
   "source": [
    "from Bio import Entrez\n",
    "from datetime import datetime"
   ]
  },
  {
   "cell_type": "code",
   "execution_count": 5,
   "id": "2fa0dae7",
   "metadata": {},
   "outputs": [
    {
     "name": "stdout",
     "output_type": "stream",
     "text": [
      "18\n"
     ]
    }
   ],
   "source": [
    "# Define the search parameters\n",
    "genus = \"Pectinaria\"\n",
    "start_date = \"2006/05/07\"\n",
    "end_date = \"2008/04/06\"\n",
    "\n",
    "# Set the email for NCBI Entrez\n",
    "Entrez.email = \"your.email@example.com\"\n",
    "\n",
    "# Search the Nucleotide database\n",
    "handle = Entrez.esearch(db=\"nucleotide\", term=f\"{genus}[Organism]\",\n",
    "                        datetype=\"pdat\", mindate=start_date, maxdate=end_date)\n",
    "record = Entrez.read(handle)\n",
    "handle.close()\n",
    "\n",
    "# Get the count of entries\n",
    "entry_count = int(record[\"Count\"])\n",
    "print(entry_count)\n"
   ]
  },
  {
   "cell_type": "markdown",
   "id": "25812863-4bc8-41cd-863f-f953c53efb48",
   "metadata": {},
   "source": [
    "# Data Formats\n",
    "\n",
    "https://rosalind.info/problems/frmt/\n",
    "\n",
    "To search for particular accession IDs, we can use the function __Bio.Entrez.efetch(db, rettype)__"
   ]
  },
  {
   "cell_type": "code",
   "execution_count": 6,
   "id": "c2069af7-3aeb-412f-acad-8e201a5a6a7a",
   "metadata": {},
   "outputs": [],
   "source": [
    "from Bio import Entrez\n",
    "from Bio import SeqIO"
   ]
  },
  {
   "cell_type": "code",
   "execution_count": 11,
   "id": "0b100045-87b8-4bf7-ab78-fdce000004a1",
   "metadata": {},
   "outputs": [
    {
     "name": "stdout",
     "output_type": "stream",
     "text": [
      "['JX469991', 'JX462669', 'JX308821', 'NM_001197168', 'NM_001251956', 'NM_002124', 'JQ712982', 'JX462666', 'FJ817486', 'NM_001081821']\n"
     ]
    }
   ],
   "source": [
    "with open(\"rosalind_frmt.txt\", \"r\") as fi:\n",
    "    accession_list = fi.read().strip().split()\n",
    "print(accession_list)"
   ]
  },
  {
   "cell_type": "code",
   "execution_count": 12,
   "id": "4f119bee-bc34-4f60-9977-c788b5fe4100",
   "metadata": {},
   "outputs": [],
   "source": [
    "Entrez.email = \"your_name@your_mail_server.com\"\n",
    "handle = Entrez.efetch(db=\"nucleotide\", id=accession_list, rettype=\"fasta\")\n",
    "records = {len(record.seq) : (record.description, str(record.seq)) for record in SeqIO.parse(handle, \"fasta\")}\n",
    "records = sorted(records.items(), key=lambda x:x[0])\n",
    "\n",
    "if records:\n",
    "    with open(\"output.fasta\", \"w\") as fw:\n",
    "        header = records[0][1][0]\n",
    "        seq = records[0][1][1]\n",
    "        fw.write(f\">{header}\\n{seq}\")\n"
   ]
  },
  {
   "cell_type": "markdown",
   "id": "8d740c51-1a8b-4bc9-aada-12be456e6ef1",
   "metadata": {},
   "source": [
    "# FASTQ format introduction\n",
    "\n",
    "https://rosalind.info/problems/tfsq/"
   ]
  },
  {
   "cell_type": "code",
   "execution_count": 15,
   "id": "d924bb57-2aa6-4dc2-93ea-d837f581402f",
   "metadata": {},
   "outputs": [],
   "source": [
    "with open(\"output_fasta.fasta\", \"w\") as fw:\n",
    "    for record in SeqIO.parse(\"rosalind_tfsq.txt\", \"fastq\"):\n",
    "        fw.write(f\">{record.description}\\n{str(record.seq)}\\n\")\n"
   ]
  },
  {
   "cell_type": "markdown",
   "id": "40124dfb-4d74-423c-bc81-b527fc2bad4b",
   "metadata": {},
   "source": [
    "# Read Quality Distribution\n",
    "\n",
    "https://rosalind.info/problems/phre/"
   ]
  },
  {
   "cell_type": "code",
   "execution_count": 18,
   "id": "a7ea432c-f835-4b3f-ab22-61565cf319ab",
   "metadata": {},
   "outputs": [],
   "source": [
    "from io import StringIO"
   ]
  },
  {
   "cell_type": "code",
   "execution_count": 26,
   "id": "e96ed3da-14c2-4ab9-9994-572130cbb9ae",
   "metadata": {},
   "outputs": [
    {
     "name": "stdout",
     "output_type": "stream",
     "text": [
      "44\n"
     ]
    }
   ],
   "source": [
    "with open(\"rosalind_phre.txt\", \"r\") as fi:\n",
    "    threshold = int(fi.readline().strip())\n",
    "    fastq_handle = StringIO(fi.read())\n",
    "    count = 0  # count #reads with  whose avg quality is below threshold\n",
    "    for record in SeqIO.parse(fastq_handle, \"fastq\"):\n",
    "        quality = record.letter_annotations['phred_quality']\n",
    "        avg_quality = sum(quality) / len(quality)\n",
    "        if avg_quality < threshold:\n",
    "            count += 1\n",
    "print(count)"
   ]
  },
  {
   "cell_type": "markdown",
   "id": "5fea06de-2252-4e90-bb8a-521d8ee44e01",
   "metadata": {},
   "source": [
    "# Read Filtration by Quality\n",
    "\n",
    "https://rosalind.info/problems/filt/"
   ]
  },
  {
   "cell_type": "code",
   "execution_count": 33,
   "id": "ab85657c-1468-4a72-920a-6901be858e37",
   "metadata": {},
   "outputs": [
    {
     "name": "stdout",
     "output_type": "stream",
     "text": [
      "67\n"
     ]
    }
   ],
   "source": [
    "with open(\"rosalind_filt.txt\", \"r\") as fi:\n",
    "    threshold, p = list(map(int, fi.readline().strip().split()))\n",
    "    fastq_handle = StringIO(fi.read())\n",
    "    count = 0  # count #filtered reads\n",
    "    for record in SeqIO.parse(fastq_handle, \"fastq\"):\n",
    "        quality = record.letter_annotations['phred_quality']\n",
    "        passed_quality = [qual for qual in quality if qual >= threshold]\n",
    "        read_percentage = (len(passed_quality) / len(quality)) * 100\n",
    "        if read_percentage >= p:\n",
    "            count += 1\n",
    "\n",
    "print(count)\n"
   ]
  },
  {
   "cell_type": "markdown",
   "id": "a45fd2a3-6c1d-4aef-b1e2-9dbdf9797408",
   "metadata": {},
   "source": [
    "# Base Quality Distribution\n",
    "\n",
    "https://rosalind.info/problems/bphr/"
   ]
  },
  {
   "cell_type": "code",
   "execution_count": 37,
   "id": "580fbccc-675e-4740-a1fb-46f0e45d4e1d",
   "metadata": {},
   "outputs": [
    {
     "name": "stdout",
     "output_type": "stream",
     "text": [
      "6\n"
     ]
    }
   ],
   "source": [
    "with open(\"rosalind_bphr.txt\", \"r\") as fi:\n",
    "    threshold = int(fi.readline().strip())\n",
    "    fastq_handle = StringIO(fi.read())\n",
    "    qualities = []\n",
    "    for record in SeqIO.parse(fastq_handle, \"fastq\"):\n",
    "        qualities.append(record.letter_annotations['phred_quality'])\n",
    "\n",
    "count = 0  # count #base with  whose mean quality is below threshold\n",
    "for per_pos_quals in zip(*qualities):\n",
    "    quality = sum(per_pos_quals) / len(per_pos_quals)\n",
    "    if quality < threshold:\n",
    "        count += 1\n",
    "print(count)"
   ]
  },
  {
   "cell_type": "markdown",
   "id": "2476c6d9-de64-42e1-822a-204df2c9cdd2",
   "metadata": {},
   "source": [
    "# Base Filtration by Quality\n",
    "\n",
    "https://rosalind.info/problems/bfil/"
   ]
  },
  {
   "cell_type": "code",
   "execution_count": 53,
   "id": "bd58035a-8ce0-4464-945e-430f9fb594f8",
   "metadata": {},
   "outputs": [],
   "source": [
    "from Bio import SeqIO\n",
    "from io import StringIO"
   ]
  },
  {
   "cell_type": "code",
   "execution_count": 52,
   "id": "3df4667d-0e85-4ed5-a208-fea7b083c20e",
   "metadata": {},
   "outputs": [],
   "source": [
    "def trim_read(record, quality_threshold):\n",
    "    \"\"\"\n",
    "    Trim the leading and trailing bases from a FASTQ read based on a quality threshold.\n",
    "\n",
    "    Parameters:\n",
    "    record (SeqRecord): A SeqRecord object from a FASTQ file.\n",
    "    quality_threshold (int): The quality score threshold below which bases are trimmed.\n",
    "\n",
    "    Returns:\n",
    "    tuple: A tuple containing the trimmed sequence (str) and the trimmed quality string (str).\n",
    "    \"\"\"\n",
    "    seq = str(record.seq)\n",
    "    quality_scores = record.letter_annotations[\"phred_quality\"]\n",
    "    \n",
    "    # Find the first base with quality >= threshold\n",
    "    start = 0\n",
    "    while start < len(quality_scores) and quality_scores[start] < quality_threshold:\n",
    "        start += 1\n",
    "\n",
    "    # Find the last base with quality >= threshold\n",
    "    end = len(quality_scores) - 1\n",
    "    while end >= 0 and quality_scores[end] < quality_threshold:\n",
    "        end -= 1\n",
    "\n",
    "    # Trim the sequence and quality scores\n",
    "    if start <= end:\n",
    "        trimmed_seq = seq[start:end+1]\n",
    "        trimmed_qualities = quality_scores[start:end+1]\n",
    "    else:\n",
    "        trimmed_seq = \"\"\n",
    "        trimmed_qualities = []\n",
    "\n",
    "    trimmed_qualities = ''.join(chr(score + 33) for score in trimmed_qualities)\n",
    "    return (trimmed_seq, trimmed_qualities)\n",
    "\n",
    "with open(\"rosalind_bfil.txt\", \"r\") as fi:\n",
    "    q = int(fi.readline().strip())\n",
    "    fastq_content = fi.read()\n",
    "\n",
    "# Write the trimmed records to the output file\n",
    "with open(\"output.fastq\", \"w\") as fw:\n",
    "    fastq_handle = StringIO(fastq_content)\n",
    "    for record in SeqIO.parse(fastq_handle, \"fastq\"):\n",
    "        trimmed_seq, trimmed_qualities = trim_read(record, q)\n",
    "        if trimmed_seq:  # Only write records with remaining sequence\n",
    "            fw.write(f\"@{record.description}\\n{trimmed_seq}\\n+\\n{trimmed_qualities}\\n\")\n"
   ]
  },
  {
   "cell_type": "markdown",
   "id": "3abf1cc4-7b21-4597-8d03-a79b7b9ab5cf",
   "metadata": {},
   "source": [
    "## Protein Translation\n",
    "\n",
    "https://rosalind.info/problems/ptra/"
   ]
  },
  {
   "cell_type": "code",
   "execution_count": 55,
   "id": "badbb8c3-aeea-47f0-a8d6-2fa22a189164",
   "metadata": {},
   "outputs": [],
   "source": [
    "from Bio.Seq import translate"
   ]
  },
  {
   "cell_type": "code",
   "execution_count": 68,
   "id": "95c353cc-e45f-4b8e-b4ef-8afdaadae601",
   "metadata": {},
   "outputs": [
    {
     "name": "stdout",
     "output_type": "stream",
     "text": [
      "13\n"
     ]
    }
   ],
   "source": [
    "dna = \"ATGGCCATGGCGCCCAGAACTGAGATCAATAGTACCCGTATTAACGGGTGA\"\n",
    "protein = \"MAMAPRTEINSTRING\"\n",
    "\n",
    "with open(\"rosalind_ptra.txt\", \"r\") as fi:\n",
    "    dna = fi.readline().strip()\n",
    "    protein = fi.readline().strip()\n",
    "\n",
    "for index in range(1, 34):\n",
    "    try:\n",
    "        translated_seq = translate(dna, table=index)\n",
    "        table = translated_seq.index(protein)\n",
    "        print(index)\n",
    "        break\n",
    "    except (ValueError, KeyError):\n",
    "        continue\n"
   ]
  },
  {
   "cell_type": "markdown",
   "id": "ff04c372-9ea8-42a4-84c0-5c2730cdfb12",
   "metadata": {},
   "source": [
    "## Complementing a Strand of DNA\n",
    "\n",
    "https://rosalind.info/problems/rvco/"
   ]
  },
  {
   "cell_type": "code",
   "execution_count": 69,
   "id": "0f626ce3-d706-4ab0-b1c1-0a3858199fc7",
   "metadata": {},
   "outputs": [],
   "source": [
    "from Bio import SeqIO"
   ]
  },
  {
   "cell_type": "code",
   "execution_count": 70,
   "id": "546f7fe1-fa5a-447a-b1e9-16b8d0398638",
   "metadata": {},
   "outputs": [
    {
     "name": "stdout",
     "output_type": "stream",
     "text": [
      "3\n"
     ]
    }
   ],
   "source": [
    "count = 0\n",
    "for record in SeqIO.parse(\"rosalind_rvco.txt\", \"fasta\"):\n",
    "    revc = record.seq.reverse_complement()\n",
    "    if revc == record.seq:\n",
    "        count += 1\n",
    "print(count)\n"
   ]
  },
  {
   "cell_type": "markdown",
   "id": "f4f3b88f-eb69-409c-9c7a-44d1697d51a0",
   "metadata": {},
   "source": [
    "## Finding Genes with ORFs\n",
    "\n",
    "https://rosalind.info/problems/orfr/"
   ]
  },
  {
   "cell_type": "code",
   "execution_count": 79,
   "id": "27d233cd-bac9-47a2-9ac0-8d19442e8e62",
   "metadata": {},
   "outputs": [],
   "source": [
    "import re\n",
    "from Bio.Seq import translate, reverse_complement"
   ]
  },
  {
   "cell_type": "code",
   "execution_count": 81,
   "id": "580cafa5-0630-402d-9a57-d121e342b2f0",
   "metadata": {},
   "outputs": [
    {
     "name": "stdout",
     "output_type": "stream",
     "text": [
      "MLRSTVAQTSVSRSIRLYRRRGCLSESLYGRGGCLTRCHPALYLLGNR\n"
     ]
    }
   ],
   "source": [
    "dna = \"AGCCATGTAGCTAACTCAGGTTACATGGGGATGACCCCGCGACTTGGATTAGAGTCTCTTTTGGAATAAGCCTGAATGATCCGAGTAGCATCTCAG\"\n",
    "\n",
    "with open(\"rosalind_orfr.txt\", \"r\") as fi:\n",
    "    dna = fi.read().strip().replace(\"\\n\", \"\")\n",
    "\n",
    "rev_dna = reverse_complement(dna)\n",
    "\n",
    "pattern = \"(ATG(?:.{3})+?)(?:TAA|TAG|TGA|$)\"\n",
    "orfs1 = re.findall(pattern, dna, re.S|re.I)\n",
    "orfs2 = re.findall(pattern, rev_dna, re.S|re.I)\n",
    "\n",
    "if orfs:\n",
    "    largest_orf = max(orfs1 + orfs2, key=len)\n",
    "    protein = translate(largest_orf)\n",
    "    print(protein)\n"
   ]
  },
  {
   "cell_type": "code",
   "execution_count": null,
   "id": "51d5e534-1030-4e06-838f-4ce2db4a419c",
   "metadata": {},
   "outputs": [],
   "source": []
  }
 ],
 "metadata": {
  "kernelspec": {
   "display_name": "Python 3 (ipykernel)",
   "language": "python",
   "name": "python3"
  },
  "language_info": {
   "codemirror_mode": {
    "name": "ipython",
    "version": 3
   },
   "file_extension": ".py",
   "mimetype": "text/x-python",
   "name": "python",
   "nbconvert_exporter": "python",
   "pygments_lexer": "ipython3",
   "version": "3.11.8"
  }
 },
 "nbformat": 4,
 "nbformat_minor": 5
}
