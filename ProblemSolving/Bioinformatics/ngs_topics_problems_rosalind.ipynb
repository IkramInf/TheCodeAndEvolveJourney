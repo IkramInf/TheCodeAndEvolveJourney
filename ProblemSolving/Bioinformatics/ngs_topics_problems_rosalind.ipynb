{
 "cells": [
  {
   "cell_type": "markdown",
   "id": "cc10e4d2-2ee7-45aa-ab08-85482d41aa16",
   "metadata": {},
   "source": [
    "# Problems: NGS\n",
    "https://rosalind.info/problems/topics/ngs/"
   ]
  },
  {
   "cell_type": "markdown",
   "id": "8d740c51-1a8b-4bc9-aada-12be456e6ef1",
   "metadata": {},
   "source": [
    "## 1. FASTQ format introduction\n",
    "\n",
    "https://rosalind.info/problems/tfsq/"
   ]
  },
  {
   "cell_type": "code",
   "execution_count": 15,
   "id": "d924bb57-2aa6-4dc2-93ea-d837f581402f",
   "metadata": {},
   "outputs": [],
   "source": [
    "with open(\"output_fasta.fasta\", \"w\") as fw:\n",
    "    for record in SeqIO.parse(\"rosalind_tfsq.txt\", \"fastq\"):\n",
    "        fw.write(f\">{record.description}\\n{str(record.seq)}\\n\")\n"
   ]
  },
  {
   "cell_type": "markdown",
   "id": "40124dfb-4d74-423c-bc81-b527fc2bad4b",
   "metadata": {},
   "source": [
    "## 2. Read Quality Distribution\n",
    "\n",
    "https://rosalind.info/problems/phre/"
   ]
  },
  {
   "cell_type": "code",
   "execution_count": 18,
   "id": "a7ea432c-f835-4b3f-ab22-61565cf319ab",
   "metadata": {},
   "outputs": [],
   "source": [
    "from io import StringIO"
   ]
  },
  {
   "cell_type": "code",
   "execution_count": 26,
   "id": "e96ed3da-14c2-4ab9-9994-572130cbb9ae",
   "metadata": {},
   "outputs": [
    {
     "name": "stdout",
     "output_type": "stream",
     "text": [
      "44\n"
     ]
    }
   ],
   "source": [
    "with open(\"rosalind_phre.txt\", \"r\") as fi:\n",
    "    threshold = int(fi.readline().strip())\n",
    "    fastq_handle = StringIO(fi.read())\n",
    "    count = 0  # count #reads with  whose avg quality is below threshold\n",
    "    for record in SeqIO.parse(fastq_handle, \"fastq\"):\n",
    "        quality = record.letter_annotations['phred_quality']\n",
    "        avg_quality = sum(quality) / len(quality)\n",
    "        if avg_quality < threshold:\n",
    "            count += 1\n",
    "print(count)"
   ]
  },
  {
   "cell_type": "markdown",
   "id": "5fea06de-2252-4e90-bb8a-521d8ee44e01",
   "metadata": {},
   "source": [
    "## 3. Read Filtration by Quality\n",
    "\n",
    "https://rosalind.info/problems/filt/"
   ]
  },
  {
   "cell_type": "code",
   "execution_count": 33,
   "id": "ab85657c-1468-4a72-920a-6901be858e37",
   "metadata": {},
   "outputs": [
    {
     "name": "stdout",
     "output_type": "stream",
     "text": [
      "67\n"
     ]
    }
   ],
   "source": [
    "with open(\"rosalind_filt.txt\", \"r\") as fi:\n",
    "    threshold, p = list(map(int, fi.readline().strip().split()))\n",
    "    fastq_handle = StringIO(fi.read())\n",
    "    count = 0  # count #filtered reads\n",
    "    for record in SeqIO.parse(fastq_handle, \"fastq\"):\n",
    "        quality = record.letter_annotations['phred_quality']\n",
    "        passed_quality = [qual for qual in quality if qual >= threshold]\n",
    "        read_percentage = (len(passed_quality) / len(quality)) * 100\n",
    "        if read_percentage >= p:\n",
    "            count += 1\n",
    "\n",
    "print(count)\n"
   ]
  },
  {
   "cell_type": "markdown",
   "id": "a45fd2a3-6c1d-4aef-b1e2-9dbdf9797408",
   "metadata": {},
   "source": [
    "## 4. Base Quality Distribution\n",
    "\n",
    "https://rosalind.info/problems/bphr/"
   ]
  },
  {
   "cell_type": "code",
   "execution_count": 37,
   "id": "580fbccc-675e-4740-a1fb-46f0e45d4e1d",
   "metadata": {},
   "outputs": [
    {
     "name": "stdout",
     "output_type": "stream",
     "text": [
      "6\n"
     ]
    }
   ],
   "source": [
    "with open(\"rosalind_bphr.txt\", \"r\") as fi:\n",
    "    threshold = int(fi.readline().strip())\n",
    "    fastq_handle = StringIO(fi.read())\n",
    "    qualities = []\n",
    "    for record in SeqIO.parse(fastq_handle, \"fastq\"):\n",
    "        qualities.append(record.letter_annotations['phred_quality'])\n",
    "\n",
    "count = 0  # count #base with  whose mean quality is below threshold\n",
    "for per_pos_quals in zip(*qualities):\n",
    "    quality = sum(per_pos_quals) / len(per_pos_quals)\n",
    "    if quality < threshold:\n",
    "        count += 1\n",
    "print(count)"
   ]
  },
  {
   "cell_type": "markdown",
   "id": "2476c6d9-de64-42e1-822a-204df2c9cdd2",
   "metadata": {},
   "source": [
    "## 5. Base Filtration by Quality\n",
    "\n",
    "https://rosalind.info/problems/bfil/"
   ]
  },
  {
   "cell_type": "code",
   "execution_count": 53,
   "id": "bd58035a-8ce0-4464-945e-430f9fb594f8",
   "metadata": {},
   "outputs": [],
   "source": [
    "from Bio import SeqIO\n",
    "from io import StringIO"
   ]
  },
  {
   "cell_type": "code",
   "execution_count": 52,
   "id": "3df4667d-0e85-4ed5-a208-fea7b083c20e",
   "metadata": {},
   "outputs": [],
   "source": [
    "def trim_read(record, quality_threshold):\n",
    "    \"\"\"\n",
    "    Trim the leading and trailing bases from a FASTQ read based on a quality threshold.\n",
    "\n",
    "    Parameters:\n",
    "    record (SeqRecord): A SeqRecord object from a FASTQ file.\n",
    "    quality_threshold (int): The quality score threshold below which bases are trimmed.\n",
    "\n",
    "    Returns:\n",
    "    tuple: A tuple containing the trimmed sequence (str) and the trimmed quality string (str).\n",
    "    \"\"\"\n",
    "    seq = str(record.seq)\n",
    "    quality_scores = record.letter_annotations[\"phred_quality\"]\n",
    "    \n",
    "    # Find the first base with quality >= threshold\n",
    "    start = 0\n",
    "    while start < len(quality_scores) and quality_scores[start] < quality_threshold:\n",
    "        start += 1\n",
    "\n",
    "    # Find the last base with quality >= threshold\n",
    "    end = len(quality_scores) - 1\n",
    "    while end >= 0 and quality_scores[end] < quality_threshold:\n",
    "        end -= 1\n",
    "\n",
    "    # Trim the sequence and quality scores\n",
    "    if start <= end:\n",
    "        trimmed_seq = seq[start:end+1]\n",
    "        trimmed_qualities = quality_scores[start:end+1]\n",
    "    else:\n",
    "        trimmed_seq = \"\"\n",
    "        trimmed_qualities = []\n",
    "\n",
    "    trimmed_qualities = ''.join(chr(score + 33) for score in trimmed_qualities)\n",
    "    return (trimmed_seq, trimmed_qualities)\n",
    "\n",
    "with open(\"rosalind_bfil.txt\", \"r\") as fi:\n",
    "    q = int(fi.readline().strip())\n",
    "    fastq_content = fi.read()\n",
    "\n",
    "# Write the trimmed records to the output file\n",
    "with open(\"output.fastq\", \"w\") as fw:\n",
    "    fastq_handle = StringIO(fastq_content)\n",
    "    for record in SeqIO.parse(fastq_handle, \"fastq\"):\n",
    "        trimmed_seq, trimmed_qualities = trim_read(record, q)\n",
    "        if trimmed_seq:  # Only write records with remaining sequence\n",
    "            fw.write(f\"@{record.description}\\n{trimmed_seq}\\n+\\n{trimmed_qualities}\\n\")\n"
   ]
  },
  {
   "cell_type": "code",
   "execution_count": null,
   "id": "92b708c5-b25c-4c36-8091-10e598ef0bd9",
   "metadata": {},
   "outputs": [],
   "source": []
  }
 ],
 "metadata": {
  "kernelspec": {
   "display_name": "Python 3 (ipykernel)",
   "language": "python",
   "name": "python3"
  },
  "language_info": {
   "codemirror_mode": {
    "name": "ipython",
    "version": 3
   },
   "file_extension": ".py",
   "mimetype": "text/x-python",
   "name": "python",
   "nbconvert_exporter": "python",
   "pygments_lexer": "ipython3",
   "version": "3.11.8"
  }
 },
 "nbformat": 4,
 "nbformat_minor": 5
}
