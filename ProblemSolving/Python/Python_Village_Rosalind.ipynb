{
 "cells": [
  {
   "cell_type": "markdown",
   "id": "92305caa",
   "metadata": {},
   "source": [
    "## Variables and Some Arithmetic\n",
    "https://rosalind.info/problems/ini2/ <br>\n",
    "\n",
    "__Problem__ <br>\n",
    "Given: Two positive integers a and b, each less than 1000.<br>\n",
    "\n",
    "Return: The integer corresponding to the square of the hypotenuse of the right triangle whose legs have lengths a and b."
   ]
  },
  {
   "cell_type": "code",
   "execution_count": 4,
   "id": "94fc9575",
   "metadata": {},
   "outputs": [
    {
     "name": "stdout",
     "output_type": "stream",
     "text": [
      "rosalind_ini2.txt\n",
      "1733401\n"
     ]
    }
   ],
   "source": [
    "with open(input(), \"r\") as f:  # rosalind_ini2.txt\n",
    "    a, b = list(map(int, f.read().strip().split()))\n",
    "    \n",
    "total = a**2 + b**2\n",
    "print(total)"
   ]
  },
  {
   "cell_type": "markdown",
   "id": "032e54ea",
   "metadata": {},
   "source": [
    "## Strings and Lists\n",
    "https://rosalind.info/problems/ini3/ <br>\n",
    "\n",
    "__Problem__ <br>\n",
    "Given: A string s of length at most 200 letters and four integers a, b, c and d.\n",
    "\n",
    "Return: The slice of this string from indices a through b and c through d (with space in between), inclusively. In other words, we should include elements s[b] and s[d] in our slice."
   ]
  },
  {
   "cell_type": "code",
   "execution_count": 8,
   "id": "20de9365",
   "metadata": {},
   "outputs": [
    {
     "name": "stdout",
     "output_type": "stream",
     "text": [
      "rosalind_ini3.txt\n",
      "Phormictopus atriceps\n"
     ]
    }
   ],
   "source": [
    "#string = \"HumptyDumptysatonawallHumptyDumptyhadagreatfallAlltheKingshorsesandalltheKingsmenCouldntputHumptyDumptyinhisplaceagain\"\n",
    "#a, b, c, d = 22, 27, 97, 102\n",
    "\n",
    "with open(input(), \"r\") as f:  # rosalind_ini3.txt\n",
    "    string = f.readline().strip()\n",
    "    a, b, c, d = list(map(int, f.readline().strip().split()))\n",
    "\n",
    "print(string[a:b+1], string[c:d+1])"
   ]
  },
  {
   "cell_type": "markdown",
   "id": "1c564fa5",
   "metadata": {},
   "source": [
    "## Conditions and Loops\n",
    "https://rosalind.info/problems/ini4/\n",
    "\n",
    "__Problem__ <br>\n",
    "\n",
    "Given: Two positive integers a and b (a<b<10000).\n",
    "\n",
    "Return: The sum of all odd integers from a through b, inclusively."
   ]
  },
  {
   "cell_type": "code",
   "execution_count": 10,
   "id": "5357f65a",
   "metadata": {},
   "outputs": [
    {
     "name": "stdout",
     "output_type": "stream",
     "text": [
      "rosalind_ini4.txt\n",
      "16831191\n"
     ]
    }
   ],
   "source": [
    "with open(input(), \"r\") as f:  # rosalind_ini4.txt\n",
    "    a, b = list(map(int, f.read().strip().split()))\n",
    "    \n",
    "total = sum([num for num in range(a, b+1) if num%2 != 0])\n",
    "print(total)"
   ]
  },
  {
   "cell_type": "markdown",
   "id": "89a63b10",
   "metadata": {},
   "source": [
    "## Working with Files \n",
    "https://rosalind.info/problems/ini5/ \n",
    "\n",
    "__Problem__\n",
    "\n",
    "Given: A file containing at most 1000 lines.\n",
    "\n",
    "Return: A file containing all the even-numbered lines from the original file. Assume 1-based numbering of lines."
   ]
  },
  {
   "cell_type": "code",
   "execution_count": 17,
   "id": "e114a494",
   "metadata": {},
   "outputs": [
    {
     "name": "stdout",
     "output_type": "stream",
     "text": [
      "rosalind_ini5.txt\n",
      "Some things in life are bad, they can really make you mad\n",
      "Other things just make you swear and curse\n",
      "When you're chewing on life's gristle, don't grumble give a whistle\n",
      "This will help things turn out for the best\n",
      "Always look on the bright side of life\n",
      "Always look on the right side of life\n",
      "If life seems jolly rotten, there's something you've forgotten\n",
      "And that's to laugh and smile and dance and sing\n",
      "When you're feeling in the dumps, don't be silly, chumps\n",
      "Just purse your lips and whistle, that's the thing\n",
      "So, always look on the bright side of death\n",
      "Just before you draw your terminal breath\n",
      "Life's a counterfeit and when you look at it\n",
      "Life's a laugh and death's the joke, it's true\n",
      "You see, it's all a show, keep them laughing as you go\n",
      "Just remember the last laugh is on you\n",
      "Always look on the bright side of life\n",
      "And always look on the right side of life\n",
      "Always look on the bright side of life\n",
      "And always look on the right side of life\n",
      "\n"
     ]
    }
   ],
   "source": [
    "with open(input(), \"r\") as f:  # rosalind_ini5.txt\n",
    "    print(\"\".join(f.readlines()[1::2]))"
   ]
  },
  {
   "cell_type": "markdown",
   "id": "47c45bce",
   "metadata": {},
   "source": [
    "## Dictionaries\n",
    "https://rosalind.info/problems/ini6/\n",
    "\n",
    "Problem\n",
    "\n",
    "Given: A string s of length at most 10000 letters.\n",
    "\n",
    "Return: The number of occurrences of each word in s, where words are separated by spaces. Words are case-sensitive, and the lines in the output can be in any order.\n",
    "\n"
   ]
  },
  {
   "cell_type": "code",
   "execution_count": 18,
   "id": "63089040",
   "metadata": {},
   "outputs": [
    {
     "name": "stdout",
     "output_type": "stream",
     "text": [
      "rosalind_ini6.txt\n",
      "When 1\n",
      "I 2\n",
      "find 1\n",
      "myself 1\n",
      "in 4\n",
      "times 1\n",
      "of 11\n",
      "trouble 1\n",
      "Mother 2\n",
      "Mary 2\n",
      "comes 2\n",
      "to 3\n",
      "me 4\n",
      "Speaking 3\n",
      "words 7\n",
      "wisdom 7\n",
      "let 30\n",
      "it 36\n",
      "be 41\n",
      "And 3\n",
      "my 1\n",
      "hour 1\n",
      "darkness 1\n",
      "she 1\n",
      "is 4\n",
      "standing 1\n",
      "right 1\n",
      "front 1\n",
      "Let 6\n",
      "Whisper 4\n",
      "when 2\n",
      "the 4\n",
      "broken 1\n",
      "hearted 1\n",
      "people 1\n",
      "living 1\n",
      "world 1\n",
      "agree 1\n",
      "There 4\n",
      "will 5\n",
      "an 4\n",
      "answer 4\n",
      "For 1\n",
      "though 1\n",
      "they 2\n",
      "may 1\n",
      "parted 1\n",
      "there 2\n",
      "still 2\n",
      "a 2\n",
      "chance 1\n",
      "that 2\n",
      "see 1\n",
      "night 1\n",
      "cloudy 1\n",
      "light 1\n",
      "shines 1\n",
      "on 1\n",
      "Shine 1\n",
      "until 1\n",
      "tomorrow 1\n",
      "wake 1\n",
      "up 1\n",
      "sound 1\n",
      "music 1\n",
      "yeah 2\n"
     ]
    }
   ],
   "source": [
    "with open(input(), \"r\") as f:  # rosalind_ini6.txt\n",
    "    words = f.read().strip().split()\n",
    "    \n",
    "count_dict = {}\n",
    "for word in words:\n",
    "    count_dict[word] = count_dict.get(word, 0) + 1\n",
    "    \n",
    "for word, count in count_dict.items():\n",
    "    print(word, count)"
   ]
  },
  {
   "cell_type": "code",
   "execution_count": null,
   "id": "c8f58002",
   "metadata": {},
   "outputs": [],
   "source": []
  }
 ],
 "metadata": {
  "kernelspec": {
   "display_name": "Python 3 (ipykernel)",
   "language": "python",
   "name": "python3"
  },
  "language_info": {
   "codemirror_mode": {
    "name": "ipython",
    "version": 3
   },
   "file_extension": ".py",
   "mimetype": "text/x-python",
   "name": "python",
   "nbconvert_exporter": "python",
   "pygments_lexer": "ipython3",
   "version": "3.9.12"
  }
 },
 "nbformat": 4,
 "nbformat_minor": 5
}
