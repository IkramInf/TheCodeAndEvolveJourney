{
 "cells": [
  {
   "cell_type": "markdown",
   "id": "adaed684-f8c4-4777-b013-7209ad9441a3",
   "metadata": {},
   "source": [
    "# Python Fundamentals\n",
    "#### Problem for Discussion: [204. Count Primes](https://leetcode.com/problems/count-primes/)"
   ]
  },
  {
   "cell_type": "markdown",
   "id": "68548655-ec93-4a2f-a34a-6bfffa5b390a",
   "metadata": {},
   "source": [
    "## Arithmetic Operations"
   ]
  },
  {
   "cell_type": "code",
   "execution_count": 25,
   "id": "b55bbd31-50b1-4b89-8c9c-254b096a5981",
   "metadata": {},
   "outputs": [
    {
     "data": {
      "text/plain": [
       "5.0"
      ]
     },
     "execution_count": 25,
     "metadata": {},
     "output_type": "execute_result"
    }
   ],
   "source": [
    "# +, -, *, /, %\n",
    "10 / 2"
   ]
  },
  {
   "cell_type": "code",
   "execution_count": 26,
   "id": "6bd000e9-4dc8-495e-afe7-5f8d118816ce",
   "metadata": {},
   "outputs": [
    {
     "data": {
      "text/plain": [
       "2"
      ]
     },
     "execution_count": 26,
     "metadata": {},
     "output_type": "execute_result"
    }
   ],
   "source": [
    "11 % 3\n"
   ]
  },
  {
   "cell_type": "code",
   "execution_count": 27,
   "id": "e36f69de-9248-447a-a000-df1ab6ff39b0",
   "metadata": {},
   "outputs": [
    {
     "data": {
      "text/plain": [
       "21"
      ]
     },
     "execution_count": 27,
     "metadata": {},
     "output_type": "execute_result"
    }
   ],
   "source": [
    "11 + 10\n"
   ]
  },
  {
   "cell_type": "markdown",
   "id": "d4295721-d433-4deb-84cd-20f8ff7d83d0",
   "metadata": {},
   "source": [
    "## Input/Output"
   ]
  },
  {
   "cell_type": "code",
   "execution_count": 28,
   "id": "af548935-4daf-4a43-b6f2-7b306284993d",
   "metadata": {},
   "outputs": [
    {
     "name": "stdout",
     "output_type": "stream",
     "text": [
      "Hello World!\n"
     ]
    }
   ],
   "source": [
    "print(\"Hello World!\")\n"
   ]
  },
  {
   "cell_type": "code",
   "execution_count": 29,
   "id": "d3f5d387-bb5d-4b76-8ba9-c004cc0a7f50",
   "metadata": {},
   "outputs": [
    {
     "name": "stdin",
     "output_type": "stream",
     "text": [
      "Enter a number:  10\n"
     ]
    },
    {
     "data": {
      "text/plain": [
       "'10'"
      ]
     },
     "execution_count": 29,
     "metadata": {},
     "output_type": "execute_result"
    }
   ],
   "source": [
    "input(\"Enter a number: \",)\n"
   ]
  },
  {
   "cell_type": "markdown",
   "id": "20c0494f-3197-43a3-89c8-f3a2939bb172",
   "metadata": {},
   "source": [
    "## Variables & Data Types"
   ]
  },
  {
   "cell_type": "code",
   "execution_count": 32,
   "id": "e4facf0c-2780-43a5-ab4f-3423ffbf3631",
   "metadata": {},
   "outputs": [
    {
     "name": "stdout",
     "output_type": "stream",
     "text": [
      "a + b:  30.25\n"
     ]
    }
   ],
   "source": [
    "a = 10.25\n",
    "b = 20\n",
    "\n",
    "print(\"a + b: \", a+b)\n"
   ]
  },
  {
   "cell_type": "code",
   "execution_count": 33,
   "id": "238f1881-a1cc-4f43-848f-2676df8a7bb2",
   "metadata": {},
   "outputs": [
    {
     "data": {
      "text/plain": [
       "float"
      ]
     },
     "execution_count": 33,
     "metadata": {},
     "output_type": "execute_result"
    }
   ],
   "source": [
    "type(a)"
   ]
  },
  {
   "cell_type": "code",
   "execution_count": 34,
   "id": "256d50ba-4f3c-4b6e-9d5d-0dbfc4b14196",
   "metadata": {},
   "outputs": [
    {
     "data": {
      "text/plain": [
       "str"
      ]
     },
     "execution_count": 34,
     "metadata": {},
     "output_type": "execute_result"
    }
   ],
   "source": [
    "s = \"python\"\n",
    "type(s)\n"
   ]
  },
  {
   "cell_type": "code",
   "execution_count": 35,
   "id": "3eea71fd-89d2-4102-9325-3392529f73e4",
   "metadata": {},
   "outputs": [],
   "source": [
    "# bool, list, tuple, set, dict"
   ]
  },
  {
   "cell_type": "code",
   "execution_count": 37,
   "id": "53096f2d-a5e2-4468-9e3f-37ede73a41f5",
   "metadata": {},
   "outputs": [
    {
     "name": "stdout",
     "output_type": "stream",
     "text": [
      "[1, 2, 3, 4, 5]\n"
     ]
    }
   ],
   "source": [
    "l = [1, 2, 3, 4, 5]  # third bracket\n",
    "print(l)\n"
   ]
  },
  {
   "cell_type": "code",
   "execution_count": 39,
   "id": "b838ae24-2a58-4334-badf-49a319dcecc1",
   "metadata": {},
   "outputs": [
    {
     "name": "stdout",
     "output_type": "stream",
     "text": [
      "(1, 2, 3, 4, 5)\n"
     ]
    }
   ],
   "source": [
    "t = (1, 2, 3, 4, 5)  # first bracket - parentheses\n",
    "print(t)\n"
   ]
  },
  {
   "cell_type": "code",
   "execution_count": 40,
   "id": "a5383d13-f104-47dc-aca3-408160954437",
   "metadata": {},
   "outputs": [
    {
     "name": "stdout",
     "output_type": "stream",
     "text": [
      "{1, 2, 3, 4, 5}\n"
     ]
    }
   ],
   "source": [
    "s = {1, 2, 3, 4, 5}  # second bracket - curly braces\n",
    "print(s)\n"
   ]
  },
  {
   "cell_type": "code",
   "execution_count": 42,
   "id": "1c5bf8b2-a92e-4696-9fa4-9964750476df",
   "metadata": {},
   "outputs": [
    {
     "data": {
      "text/plain": [
       "set"
      ]
     },
     "execution_count": 42,
     "metadata": {},
     "output_type": "execute_result"
    }
   ],
   "source": [
    "type(s)"
   ]
  },
  {
   "cell_type": "code",
   "execution_count": 43,
   "id": "06a6ab18-5104-4c47-b3a0-c31cc517a216",
   "metadata": {},
   "outputs": [
    {
     "name": "stdout",
     "output_type": "stream",
     "text": [
      "20 10.25\n"
     ]
    }
   ],
   "source": [
    "a, b = b, a\n",
    "print(a, b)\n"
   ]
  },
  {
   "cell_type": "code",
   "execution_count": 44,
   "id": "072aaba6-f415-478a-95f6-f86a0d43ed22",
   "metadata": {},
   "outputs": [
    {
     "name": "stdout",
     "output_type": "stream",
     "text": [
      "{'name': 'Ikram', 'hobby': 'coding'}\n"
     ]
    },
    {
     "data": {
      "text/plain": [
       "dict"
      ]
     },
     "execution_count": 44,
     "metadata": {},
     "output_type": "execute_result"
    }
   ],
   "source": [
    "d = {\"name\": \"Ikram\", \"hobby\": \"coding\"}  # key : value\n",
    "print(d)\n",
    "type(d)\n"
   ]
  },
  {
   "cell_type": "markdown",
   "id": "7c726546-fe75-4ca9-8997-39a77eb8531d",
   "metadata": {},
   "source": [
    "# Conditionals"
   ]
  },
  {
   "cell_type": "code",
   "execution_count": 48,
   "id": "be5b25fc-16e8-404d-8171-d6a9f71afde6",
   "metadata": {},
   "outputs": [
    {
     "name": "stdout",
     "output_type": "stream",
     "text": [
      "negative\n"
     ]
    }
   ],
   "source": [
    "n = -5\n",
    "if n > 0:\n",
    "    print(\"Positive\")\n",
    "elif n == 0:\n",
    "    print(\"zero\")\n",
    "else:\n",
    "    print(\"negative\")\n"
   ]
  },
  {
   "cell_type": "code",
   "execution_count": null,
   "id": "4a6a3924-284c-4526-b6d4-8210883a136b",
   "metadata": {},
   "outputs": [],
   "source": []
  },
  {
   "cell_type": "markdown",
   "id": "4ec6980a-1079-4cc3-8a63-77c0f220e121",
   "metadata": {},
   "source": [
    "## Loops"
   ]
  },
  {
   "cell_type": "code",
   "execution_count": 50,
   "id": "afb35983-bf74-491f-bd7d-e496b271ad7a",
   "metadata": {},
   "outputs": [
    {
     "data": {
      "text/plain": [
       "[1, 2, 3, 4, 5, 6, 7, 8, 9]"
      ]
     },
     "execution_count": 50,
     "metadata": {},
     "output_type": "execute_result"
    }
   ],
   "source": [
    "list(range(1, 10))  # [1, 10)\n"
   ]
  },
  {
   "cell_type": "code",
   "execution_count": 51,
   "id": "2af0311c-5a39-412a-b2a0-d7189288a9f2",
   "metadata": {},
   "outputs": [
    {
     "data": {
      "text/plain": [
       "[1, 3, 5, 7, 9]"
      ]
     },
     "execution_count": 51,
     "metadata": {},
     "output_type": "execute_result"
    }
   ],
   "source": [
    "list(range(1, 10, 2))  # [1, 10)\n"
   ]
  },
  {
   "cell_type": "code",
   "execution_count": 52,
   "id": "d1619751-6739-487c-8cb0-7bc6f1df76e9",
   "metadata": {},
   "outputs": [
    {
     "name": "stdout",
     "output_type": "stream",
     "text": [
      "0\n",
      "1\n",
      "2\n",
      "3\n",
      "4\n",
      "5\n",
      "6\n",
      "7\n",
      "8\n",
      "9\n"
     ]
    }
   ],
   "source": [
    "# for loop\n",
    "for i in range(10):\n",
    "    print(i)\n"
   ]
  },
  {
   "cell_type": "code",
   "execution_count": 54,
   "id": "45b9088e-dc5a-4382-ace7-0f0aa3885c26",
   "metadata": {},
   "outputs": [
    {
     "name": "stdout",
     "output_type": "stream",
     "text": [
      "0\n",
      "1\n",
      "2\n",
      "3\n",
      "4\n",
      "5\n",
      "6\n",
      "7\n",
      "8\n",
      "9\n"
     ]
    }
   ],
   "source": [
    "i = 0\n",
    "while i < 10:\n",
    "    print(i)\n",
    "    i += 1\n"
   ]
  },
  {
   "cell_type": "markdown",
   "id": "dd1c28a5-ed96-4d2e-a376-e21c752c2da4",
   "metadata": {},
   "source": [
    "## Function"
   ]
  },
  {
   "cell_type": "code",
   "execution_count": 56,
   "id": "61982ed7-542f-43e4-a4af-da9eed8bcefc",
   "metadata": {},
   "outputs": [
    {
     "name": "stdout",
     "output_type": "stream",
     "text": [
      "Hello Python\n"
     ]
    }
   ],
   "source": [
    "def greet(name):\n",
    "    print(f\"Hello {name}\")\n",
    "\n",
    "greet(\"Python\")\n"
   ]
  },
  {
   "cell_type": "code",
   "execution_count": 60,
   "id": "6348ac97-e5de-4d90-9825-ae148be029cb",
   "metadata": {},
   "outputs": [
    {
     "data": {
      "text/plain": [
       "50"
      ]
     },
     "execution_count": 60,
     "metadata": {},
     "output_type": "execute_result"
    }
   ],
   "source": [
    "def add(a, b=10):\n",
    "    return a + b\n",
    "\n",
    "add(20, 30)\n"
   ]
  },
  {
   "cell_type": "code",
   "execution_count": null,
   "id": "b23db1f7-9b26-4328-b510-91514819ddc0",
   "metadata": {},
   "outputs": [],
   "source": []
  },
  {
   "cell_type": "markdown",
   "id": "28fb5a57-9d04-4c38-9083-4b88b529f99d",
   "metadata": {},
   "source": [
    "## File Handling"
   ]
  },
  {
   "cell_type": "code",
   "execution_count": 61,
   "id": "369d5b60-5a4a-427e-b5a8-65946f00dc0a",
   "metadata": {},
   "outputs": [],
   "source": [
    "file = open(\"file.txt\", \"w\")\n",
    "file.write(\"Python is a high level language.\")\n",
    "file.close()\n"
   ]
  },
  {
   "cell_type": "code",
   "execution_count": 62,
   "id": "4df372ab-a057-4404-b31f-84bbb04e3c14",
   "metadata": {},
   "outputs": [
    {
     "name": "stdout",
     "output_type": "stream",
     "text": [
      "Python is a high level language.\n"
     ]
    }
   ],
   "source": [
    "with open(\"file.txt\", \"r\") as f:\n",
    "    print(f.read())\n"
   ]
  },
  {
   "cell_type": "code",
   "execution_count": null,
   "id": "0a191553-1c84-47d7-b5b0-f5c537d49684",
   "metadata": {},
   "outputs": [],
   "source": []
  },
  {
   "cell_type": "code",
   "execution_count": 73,
   "id": "ca247891-cde4-4581-9c92-163df67bb14b",
   "metadata": {},
   "outputs": [
    {
     "name": "stdout",
     "output_type": "stream",
     "text": [
      "29 is prime\n"
     ]
    }
   ],
   "source": [
    "n = 29\n",
    "is_prime = True\n",
    "if n % 2 == 0:\n",
    "    is_prime = False\n",
    "for i in range(3, int(n ** 0.5 + 1), 2):\n",
    "    if n % i == 0:\n",
    "        is_prime = False\n",
    "\n",
    "if is_prime:\n",
    "    print(f\"{n} is prime\")\n",
    "else:\n",
    "    print(f\"{n} is not prime\")\n"
   ]
  },
  {
   "cell_type": "code",
   "execution_count": 68,
   "id": "96f7cee0-d3d2-4028-8303-9c60b7bb2b22",
   "metadata": {},
   "outputs": [],
   "source": [
    "# 24: 1, 2, 3, 4, 6, 8, 12, 24\n"
   ]
  },
  {
   "cell_type": "code",
   "execution_count": 69,
   "id": "842de2e9-04c6-4aed-8e3b-116cd748d661",
   "metadata": {},
   "outputs": [
    {
     "data": {
      "text/plain": [
       "4.898979485566356"
      ]
     },
     "execution_count": 69,
     "metadata": {},
     "output_type": "execute_result"
    }
   ],
   "source": [
    "24 ** 0.5"
   ]
  },
  {
   "cell_type": "code",
   "execution_count": 71,
   "id": "03227752-29e8-43c6-bbc2-588efe697c69",
   "metadata": {},
   "outputs": [
    {
     "data": {
      "text/plain": [
       "8"
      ]
     },
     "execution_count": 71,
     "metadata": {},
     "output_type": "execute_result"
    }
   ],
   "source": [
    "2 ** 3\n"
   ]
  },
  {
   "cell_type": "code",
   "execution_count": null,
   "id": "efc5b420-c3d7-4070-a339-5abf9581acad",
   "metadata": {},
   "outputs": [],
   "source": []
  },
  {
   "cell_type": "markdown",
   "id": "539f1396-69fa-482b-8924-1ee22615fb37",
   "metadata": {},
   "source": [
    "__Key Idea Behind the Sieve of Eratosthenes:__  \n",
    "If a number is not prime, then it must be divisible by a smaller number (a prime)."
   ]
  },
  {
   "cell_type": "code",
   "execution_count": 76,
   "id": "e2fd4be7-95a3-424e-a88c-1c90ad57f9c1",
   "metadata": {},
   "outputs": [
    {
     "data": {
      "text/plain": [
       "['py', 'py', 'py', 'py', 'py']"
      ]
     },
     "execution_count": 76,
     "metadata": {},
     "output_type": "execute_result"
    }
   ],
   "source": [
    "[\"py\"] * 5\n"
   ]
  },
  {
   "cell_type": "code",
   "execution_count": 77,
   "id": "80a8b7ba-396d-43de-a356-f09e408a518d",
   "metadata": {},
   "outputs": [
    {
     "name": "stdout",
     "output_type": "stream",
     "text": [
      "[False, False, True, True, False, True, False, True, False, False, False]\n"
     ]
    }
   ],
   "source": [
    "n = 10\n",
    "primes = [True] * (n+1)\n",
    "primes[0:2] = [False, False]\n",
    "\n",
    "# If a number is composite (not prime), it must have a factor less than or equal to √n.\n",
    "# Beyond √n, smaller factors would have already marked any multiple.\n",
    "for i in range(2, int(n ** 0.5 + 1)):\n",
    "    if primes[i]:\n",
    "        # Eliminate all multiples of each prime\n",
    "        for j in range(i*i, n+1, i):\n",
    "            primes[j] = False\n",
    "\n",
    "print(primes)\n"
   ]
  },
  {
   "cell_type": "code",
   "execution_count": 78,
   "id": "03bf8c75-e6e9-4c8f-b014-2b2090f4d7ae",
   "metadata": {},
   "outputs": [
    {
     "name": "stdout",
     "output_type": "stream",
     "text": [
      "{0: False, 1: False, 2: True, 3: True, 4: False, 5: True, 6: False, 7: True, 8: False, 9: False, 10: False}\n"
     ]
    }
   ],
   "source": [
    "primes = {i: True for i in range(n+1)}\n",
    "primes[0], primes[1] = False, False\n",
    "\n",
    "for i in range(2, int(n ** 0.5 + 1)):\n",
    "    if primes[i]:\n",
    "        # Eliminate all multiples of each prime\n",
    "        for j in range(i*i, n+1, i):\n",
    "            primes[j] = False\n",
    "\n",
    "print(primes)\n"
   ]
  },
  {
   "cell_type": "code",
   "execution_count": null,
   "id": "c004fb36-cb29-40bf-a78e-9288d89d6a38",
   "metadata": {},
   "outputs": [],
   "source": []
  },
  {
   "cell_type": "markdown",
   "id": "f70111ad-3d53-435b-aeed-4f387d217a10",
   "metadata": {},
   "source": [
    "![Big-O Complexity Chart](complexity_chart.png)"
   ]
  },
  {
   "cell_type": "code",
   "execution_count": 11,
   "id": "87c25195-3043-4583-a69c-ab120916fea7",
   "metadata": {},
   "outputs": [
    {
     "data": {
      "image/png": "[encoded data removed]",
      "text/plain": [
       "<Figure size 1000x600 with 1 Axes>"
      ]
     },
     "metadata": {},
     "output_type": "display_data"
    }
   ],
   "source": [
    "import timeit\n",
    "import matplotlib.pyplot as plt\n",
    "import numpy as np\n",
    "\n",
    "# Sieve of Eratosthenes implementation\n",
    "def sieve_of_eratosthenes(n):\n",
    "    primes = [True] * (n + 1)\n",
    "    primes[0:2] = [False, False]\n",
    "    for i in range(2, int(n**0.5) + 1):\n",
    "        if primes[i]:\n",
    "            for j in range(i*i, n+1, i):\n",
    "                primes[j] = False\n",
    "    return [i for i, is_p in enumerate(primes) if is_p]\n",
    "\n",
    "# Benchmarking\n",
    "input_sizes = [10**i for i in range(1, 6)]  # n = 10, 100, 1000, 10000, 100000\n",
    "times = []\n",
    "\n",
    "for n in input_sizes:\n",
    "    t = timeit.timeit(lambda: sieve_of_eratosthenes(n), number=3)\n",
    "    times.append(t/3)\n",
    "\n",
    "# Plotting\n",
    "plt.figure(figsize=(10, 6))\n",
    "plt.plot(input_sizes, times, marker='o')\n",
    "plt.xscale('log')\n",
    "plt.yscale('log')\n",
    "plt.title('Sieve of Eratosthenes: n vs Time')\n",
    "plt.xlabel('Input Size (n)')\n",
    "plt.ylabel('Time Taken (seconds)')\n",
    "plt.grid(True, which='both', linestyle='--', linewidth=0.5)\n",
    "plt.tight_layout()\n",
    "plt.show()\n"
   ]
  },
  {
   "cell_type": "code",
   "execution_count": 10,
   "id": "cb58b7a3-45e2-4795-9fcf-a3e5b388a8c7",
   "metadata": {},
   "outputs": [
    {
     "name": "stdout",
     "output_type": "stream",
     "text": [
      "Help on function timeit in module timeit:\n",
      "\n",
      "timeit(stmt='pass', setup='pass', timer=<built-in function perf_counter>, number=1000000, globals=None)\n",
      "    Convenience function to create Timer object and call timeit method.\n",
      "\n"
     ]
    }
   ],
   "source": [
    "help(timeit.timeit)\n"
   ]
  },
  {
   "cell_type": "code",
   "execution_count": 12,
   "id": "95936f33-a4e3-499f-9735-b1490eb51a5b",
   "metadata": {},
   "outputs": [],
   "source": [
    "# %time, %timeit, %%time, %%timeit"
   ]
  },
  {
   "cell_type": "code",
   "execution_count": 82,
   "id": "a70cfb42-cbd3-4663-bf3f-6c8b3109f8d7",
   "metadata": {},
   "outputs": [
    {
     "name": "stdout",
     "output_type": "stream",
     "text": [
      "47.4 ms ± 839 μs per loop (mean ± std. dev. of 7 runs, 10 loops each)\n"
     ]
    }
   ],
   "source": [
    "%%timeit\n",
    "\n",
    "# Sieve of Eratosthenes implementation\n",
    "def sieve_of_eratosthenes(n):\n",
    "    primes = [True] * (n + 1)\n",
    "    primes[0:2] = [False, False]\n",
    "    for i in range(2, int(n**0.5) + 1):\n",
    "        if primes[i]:\n",
    "            for j in range(i*i, n+1, i):\n",
    "                primes[j] = False\n",
    "    return [i for i, is_p in enumerate(primes) if is_p]\n",
    "\n",
    "primes = sieve_of_eratosthenes(1000000)\n"
   ]
  },
  {
   "cell_type": "code",
   "execution_count": null,
   "id": "e130da5d-6c28-49a2-9106-acbd45dec779",
   "metadata": {},
   "outputs": [],
   "source": []
  }
 ],
 "metadata": {
  "kernelspec": {
   "display_name": "Python 3 (ipykernel)",
   "language": "python",
   "name": "python3"
  },
  "language_info": {
   "codemirror_mode": {
    "name": "ipython",
    "version": 3
   },
   "file_extension": ".py",
   "mimetype": "text/x-python",
   "name": "python",
   "nbconvert_exporter": "python",
   "pygments_lexer": "ipython3",
   "version": "3.12.2"
  }
 },
 "nbformat": 4,
 "nbformat_minor": 5
}
