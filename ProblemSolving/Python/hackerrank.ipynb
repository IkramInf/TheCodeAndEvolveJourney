{
 "cells": [
  {
   "cell_type": "markdown",
   "id": "0ea4b386-d6e8-4e1a-94fb-792a7ea59ee3",
   "metadata": {},
   "source": [
    "## [Maximum Element](https://www.hackerrank.com/challenges/maximum-element/problem?isFullScreen=false)\n"
   ]
  },
  {
   "cell_type": "code",
   "execution_count": 1,
   "id": "8c860a87-bbce-4076-b6fc-e7d5527b753b",
   "metadata": {},
   "outputs": [
    {
     "name": "stdout",
     "output_type": "stream",
     "text": [
      "26\n",
      "91\n"
     ]
    }
   ],
   "source": [
    "#!/bin/python3\n",
    "\n",
    "import math\n",
    "import os\n",
    "import random\n",
    "import re\n",
    "import sys\n",
    "\n",
    "def getMax(operations):\n",
    "    # Write your code here\n",
    "    stack = []\n",
    "    max_stack = [0]\n",
    "    res = []\n",
    "    for op in operations:\n",
    "        ops = op.split()\n",
    "        if int(ops[0]) == 1:\n",
    "            num = int(ops[1])\n",
    "            stack.append(num)\n",
    "            if max_stack[-1] > num:\n",
    "                max_stack.append(max_stack[-1])\n",
    "            else:\n",
    "                max_stack.append(num)\n",
    "        elif int(ops[0]) == 2:\n",
    "            stack.pop()\n",
    "            max_stack.pop()\n",
    "        else:\n",
    "            res.append(max_stack[-1])\n",
    "    return res\n",
    "\n",
    "if __name__ == '__main__':\n",
    "    n = 10  # int(input().strip())\n",
    "    ops = ['1 97', '2', '1 20', '2', '1 26', '1 20', '2', '3', '1 91', '3']\n",
    "    res = getMax(ops)\n",
    "    print('\\n'.join(map(str, res)))\n"
   ]
  },
  {
   "cell_type": "markdown",
   "id": "b3948168-123e-4bba-b02b-9eeb108e4f63",
   "metadata": {},
   "source": [
    "## [Balanced Brackets](https://www.hackerrank.com/challenges/balanced-brackets/problem?isFullScreen=false)\n"
   ]
  },
  {
   "cell_type": "code",
   "execution_count": 3,
   "id": "3620b33f-ec7d-4546-85ed-47c3ccd7cea1",
   "metadata": {},
   "outputs": [
    {
     "name": "stdout",
     "output_type": "stream",
     "text": [
      "YES\n",
      "NO\n",
      "YES\n"
     ]
    }
   ],
   "source": [
    "#!/bin/python3\n",
    "\n",
    "import math\n",
    "import os\n",
    "import random\n",
    "import re\n",
    "import sys\n",
    "\n",
    "def isBalanced(s):\n",
    "    # Write your code here\n",
    "    stack = []\n",
    "    bracket_map = {')': '(', '}': '{', ']': '['}\n",
    "    for bracket in s:\n",
    "        if bracket in bracket_map.values():\n",
    "            stack.append(bracket)\n",
    "        elif bracket in bracket_map:\n",
    "            if not stack or stack[-1] != bracket_map[bracket]:\n",
    "                return \"NO\"\n",
    "            stack.pop()\n",
    "    return \"YES\" if not stack else \"NO\" \n",
    "\n",
    "if __name__ == '__main__':\n",
    "    t = 3  #  int(input().strip())\n",
    "    strings = ['{[()]}', '{[(])}', '{{[[(())]]}}']\n",
    "    for s in strings:\n",
    "        result = isBalanced(s)\n",
    "        print(result)\n"
   ]
  },
  {
   "cell_type": "code",
   "execution_count": 4,
   "id": "94c51951-03e4-43a3-ac57-5893b800a4df",
   "metadata": {},
   "outputs": [
    {
     "data": {
      "text/plain": [
       "[5, 4, 3, 2]"
      ]
     },
     "execution_count": 4,
     "metadata": {},
     "output_type": "execute_result"
    }
   ],
   "source": [
    "list(range(5, 1, -1))\n"
   ]
  },
  {
   "cell_type": "markdown",
   "id": "0fe601a2-b9d7-4347-a3ff-29ebdb9a2b76",
   "metadata": {},
   "source": [
    "## [Print the Elements of a Linked List](https://www.hackerrank.com/challenges/print-the-elements-of-a-linked-list/problem?isFullScreen=false)\n"
   ]
  },
  {
   "cell_type": "code",
   "execution_count": 14,
   "id": "11184820-11cb-40a4-bb3a-002600ec3069",
   "metadata": {},
   "outputs": [
    {
     "name": "stdout",
     "output_type": "stream",
     "text": [
      "16\n",
      "13\n"
     ]
    }
   ],
   "source": [
    "#!/bin/python3\n",
    "\n",
    "import math\n",
    "import os\n",
    "import random\n",
    "import re\n",
    "import sys\n",
    "\n",
    "class SinglyLinkedListNode:\n",
    "    def __init__(self, node_data):\n",
    "        self.data = node_data\n",
    "        self.next = None\n",
    "\n",
    "class SinglyLinkedList:\n",
    "    def __init__(self):\n",
    "        self.head = None\n",
    "        self.tail = None\n",
    "\n",
    "    def insert_node(self, node_data):\n",
    "        node = SinglyLinkedListNode(node_data)\n",
    "\n",
    "        if not self.head:\n",
    "            self.head = node\n",
    "        else:\n",
    "            self.tail.next = node\n",
    "\n",
    "        self.tail = node\n",
    "\n",
    "def printLinkedList(head):\n",
    "    while head:\n",
    "        print(head.data)\n",
    "        head = head.next\n",
    "\n",
    "if __name__ == '__main__':\n",
    "    llist_count = 2\n",
    "    llist = SinglyLinkedList()\n",
    "    for llist_item in [16, 13]:\n",
    "        llist.insert_node(llist_item)\n",
    "    printLinkedList(llist.head)\n"
   ]
  },
  {
   "cell_type": "code",
   "execution_count": 16,
   "id": "75d367fc-89d5-42f1-89ea-362c7203f026",
   "metadata": {},
   "outputs": [
    {
     "name": "stdout",
     "output_type": "stream",
     "text": [
      "16\n",
      "13\n",
      "16 -> 13\n",
      "SinglyLinkedListNode(16) -> SinglyLinkedListNode(13)\n"
     ]
    }
   ],
   "source": [
    "class SinglyLinkedListNode:\n",
    "    def __init__(self, node_data):\n",
    "        self.data = node_data\n",
    "        self.next = None\n",
    "\n",
    "    def __repr__(self):\n",
    "        return f\"SinglyLinkedListNode({self.data})\"\n",
    "\n",
    "    def __str__(self):\n",
    "        return str(self.data)\n",
    "\n",
    "class SinglyLinkedList:\n",
    "    def __init__(self):\n",
    "        self.head = None\n",
    "        self.tail = None\n",
    "\n",
    "    def insert_node(self, node_data):\n",
    "        node = SinglyLinkedListNode(node_data)\n",
    "\n",
    "        if not self.head:\n",
    "            self.head = node\n",
    "        else:\n",
    "            self.tail.next = node\n",
    "\n",
    "        self.tail = node\n",
    "\n",
    "    def __repr__(self):\n",
    "        \"\"\"Returns a string representation of the linked list for debugging.\"\"\"\n",
    "        nodes = []\n",
    "        current = self.head\n",
    "        while current:\n",
    "            nodes.append(repr(current))  # Calls __repr__ of SinglyLinkedListNode\n",
    "            current = current.next\n",
    "        return \" -> \".join(nodes)\n",
    "\n",
    "    def __str__(self):\n",
    "        \"\"\"Returns a user-friendly string representation of the linked list.\"\"\"\n",
    "        nodes = []\n",
    "        current = self.head\n",
    "        while current:\n",
    "            nodes.append(str(current.data))  # Calls __str__ of SinglyLinkedListNode\n",
    "            current = current.next\n",
    "        return \" -> \".join(nodes)\n",
    "\n",
    "def printLinkedList(head):\n",
    "    while head:\n",
    "        print(head)  # Calls __str__ of SinglyLinkedListNode\n",
    "        head = head.next\n",
    "\n",
    "if __name__ == '__main__':\n",
    "    llist = SinglyLinkedList()\n",
    "    for llist_item in [16, 13]:\n",
    "        llist.insert_node(llist_item)\n",
    "\n",
    "    printLinkedList(llist.head)\n",
    "    print(llist)       # Calls __str__\n",
    "    print(repr(llist)) # Calls __repr__\n"
   ]
  },
  {
   "cell_type": "markdown",
   "id": "4f1fb1a2-651e-419d-bbae-287f8cbb857d",
   "metadata": {},
   "source": [
    "## [Insert a node at the head of a linked list](https://www.hackerrank.com/challenges/insert-a-node-at-the-head-of-a-linked-list/problem?isFullScreen=false)\n"
   ]
  },
  {
   "cell_type": "code",
   "execution_count": 20,
   "id": "a7947d36-4faa-4856-bc6e-0accfc2cf1d9",
   "metadata": {},
   "outputs": [
    {
     "name": "stdout",
     "output_type": "stream",
     "text": [
      "321\n",
      "975\n",
      "392\n",
      "484\n",
      "383\n"
     ]
    }
   ],
   "source": [
    "#!/bin/python3\n",
    "\n",
    "import math\n",
    "import os\n",
    "import random\n",
    "import re\n",
    "import sys\n",
    "\n",
    "class SinglyLinkedListNode:\n",
    "    def __init__(self, node_data):\n",
    "        self.data = node_data\n",
    "        self.next = None\n",
    "\n",
    "class SinglyLinkedList:\n",
    "    def __init__(self):\n",
    "        self.head = None\n",
    "        self.tail = None\n",
    "\n",
    "def print_singly_linked_list(node):\n",
    "    while node:\n",
    "        print(str(node.data))\n",
    "        node = node.next\n",
    "\n",
    "def insertNodeAtHead(llist, data):\n",
    "    # Write your code here\n",
    "    node = SinglyLinkedListNode(data)\n",
    "    node.next = llist\n",
    "    return node\n",
    "\n",
    "if __name__ == '__main__':\n",
    "    llist_count = 5\n",
    "    llist = SinglyLinkedList()\n",
    "\n",
    "    for llist_item in [383, 484, 392, 975, 321]:\n",
    "        llist_head = insertNodeAtHead(llist.head, llist_item)\n",
    "        llist.head = llist_head\n",
    "    \n",
    "    print_singly_linked_list(llist.head)\n"
   ]
  },
  {
   "cell_type": "markdown",
   "id": "97529b04-77c9-447d-ba0e-8ca6b9b10cd8",
   "metadata": {},
   "source": [
    "## [Insert a Node at the Tail of a Linked List](https://www.hackerrank.com/challenges/insert-a-node-at-the-tail-of-a-linked-list/problem?isFullScreen=false)\n"
   ]
  },
  {
   "cell_type": "code",
   "execution_count": 22,
   "id": "4d244fda-d5e1-4ad1-af11-9d6d06e9f5ea",
   "metadata": {},
   "outputs": [
    {
     "name": "stdout",
     "output_type": "stream",
     "text": [
      "383\n",
      "484\n",
      "392\n",
      "975\n",
      "321\n"
     ]
    }
   ],
   "source": [
    "#!/bin/python3\n",
    "\n",
    "import math\n",
    "import os\n",
    "import random\n",
    "import re\n",
    "import sys\n",
    "\n",
    "class SinglyLinkedListNode:\n",
    "    def __init__(self, node_data):\n",
    "        self.data = node_data\n",
    "        self.next = None\n",
    "\n",
    "class SinglyLinkedList:\n",
    "    def __init__(self):\n",
    "        self.head = None\n",
    "\n",
    "def print_singly_linked_list(node):\n",
    "    while node:\n",
    "        print(str(node.data))\n",
    "        node = node.next\n",
    "\n",
    "def insertNodeAtTail(head, data):\n",
    "    node = SinglyLinkedListNode(data)\n",
    "    if not head:\n",
    "        return node\n",
    "    current = head\n",
    "    while current.next:\n",
    "        current = current.next\n",
    "    current.next = node\n",
    "    return head  \n",
    "\n",
    "if __name__ == '__main__':\n",
    "    llist_count = 5\n",
    "    llist = SinglyLinkedList()\n",
    "\n",
    "    for llist_item in [383, 484, 392, 975, 321]:\n",
    "        llist_head = insertNodeAtTail(llist.head, llist_item)\n",
    "        llist.head = llist_head\n",
    "\n",
    "    print_singly_linked_list(llist.head)\n"
   ]
  },
  {
   "cell_type": "markdown",
   "id": "990b2db9-0ec7-4395-add1-c9c86e8fa7e4",
   "metadata": {},
   "source": [
    "## [Tree: Preorder Traversal](https://www.hackerrank.com/challenges/tree-preorder-traversal/problem?isFullScreen=false)\n"
   ]
  },
  {
   "cell_type": "code",
   "execution_count": 1,
   "id": "4d32f383-d35d-49fe-8090-c5b183c7254f",
   "metadata": {},
   "outputs": [
    {
     "name": "stdout",
     "output_type": "stream",
     "text": [
      "1 2 5 3 4 6 "
     ]
    }
   ],
   "source": [
    "class Node:\n",
    "    def __init__(self, info): \n",
    "        self.info = info  \n",
    "        self.left = None  \n",
    "        self.right = None \n",
    "        self.level = None \n",
    "\n",
    "    def __str__(self):\n",
    "        return str(self.info) \n",
    "\n",
    "class BinarySearchTree:\n",
    "    def __init__(self): \n",
    "        self.root = None\n",
    "\n",
    "    def create(self, val):  \n",
    "        if self.root == None:\n",
    "            self.root = Node(val)\n",
    "        else:\n",
    "            current = self.root\n",
    "         \n",
    "            while True:\n",
    "                if val < current.info:\n",
    "                    if current.left:\n",
    "                        current = current.left\n",
    "                    else:\n",
    "                        current.left = Node(val)\n",
    "                        break\n",
    "                elif val > current.info:\n",
    "                    if current.right:\n",
    "                        current = current.right\n",
    "                    else:\n",
    "                        current.right = Node(val)\n",
    "                        break\n",
    "                else:\n",
    "                    break\n",
    "\n",
    "\"\"\"\n",
    "Node is defined as\n",
    "self.left (the left child of the node)\n",
    "self.right (the right child of the node)\n",
    "self.info (the value of the node)\n",
    "\"\"\"\n",
    "def preOrder(root):\n",
    "    #Write your code here\n",
    "    if root:\n",
    "        print(root.info, end=\" \")\n",
    "        preOrder(root.left)\n",
    "        preOrder(root.right)\n",
    "\n",
    "tree = BinarySearchTree()\n",
    "t = 6\n",
    "arr = [1, 2, 5, 3, 6, 4]\n",
    "\n",
    "for i in range(t):\n",
    "    tree.create(arr[i])\n",
    "\n",
    "preOrder(tree.root)\n"
   ]
  },
  {
   "cell_type": "markdown",
   "id": "4d3ba9ec-12ec-4948-8f6a-58e4ce4b870a",
   "metadata": {},
   "source": [
    "## [Tree: Postorder Traversal](https://www.hackerrank.com/challenges/tree-postorder-traversal/problem?isFullScreen=false)\n"
   ]
  },
  {
   "cell_type": "code",
   "execution_count": 2,
   "id": "f2581be5-9330-4862-bd1e-d69ec4f696ad",
   "metadata": {},
   "outputs": [
    {
     "name": "stdout",
     "output_type": "stream",
     "text": [
      "4 3 6 5 2 1 "
     ]
    }
   ],
   "source": [
    "class Node:\n",
    "    def __init__(self, info): \n",
    "        self.info = info  \n",
    "        self.left = None  \n",
    "        self.right = None \n",
    "        self.level = None \n",
    "\n",
    "    def __str__(self):\n",
    "        return str(self.info) \n",
    "\n",
    "class BinarySearchTree:\n",
    "    def __init__(self): \n",
    "        self.root = None\n",
    "\n",
    "    def create(self, val):  \n",
    "        if self.root == None:\n",
    "            self.root = Node(val)\n",
    "        else:\n",
    "            current = self.root\n",
    "         \n",
    "            while True:\n",
    "                if val < current.info:\n",
    "                    if current.left:\n",
    "                        current = current.left\n",
    "                    else:\n",
    "                        current.left = Node(val)\n",
    "                        break\n",
    "                elif val > current.info:\n",
    "                    if current.right:\n",
    "                        current = current.right\n",
    "                    else:\n",
    "                        current.right = Node(val)\n",
    "                        break\n",
    "                else:\n",
    "                    break\n",
    "\n",
    "\"\"\"\n",
    "Node is defined as\n",
    "self.left (the left child of the node)\n",
    "self.right (the right child of the node)\n",
    "self.info (the value of the node)\n",
    "\"\"\"\n",
    "def postOrder(root):\n",
    "    #Write your code here\n",
    "    if root:\n",
    "        postOrder(root.left)\n",
    "        postOrder(root.right)\n",
    "        print(root.info, end=\" \")\n",
    "\n",
    "tree = BinarySearchTree()\n",
    "t = 6\n",
    "arr = [1, 2, 5, 3, 6, 4]\n",
    "\n",
    "for i in range(t):\n",
    "    tree.create(arr[i])\n",
    "\n",
    "postOrder(tree.root)\n"
   ]
  },
  {
   "cell_type": "markdown",
   "id": "6f163f18-f035-4371-9045-6e42a991eb31",
   "metadata": {},
   "source": [
    "## [Tree: Inorder Traversal](https://www.hackerrank.com/challenges/tree-inorder-traversal/problem?isFullScreen=false)\n"
   ]
  },
  {
   "cell_type": "code",
   "execution_count": 4,
   "id": "5e9fc7c6-ee53-4684-8566-ebe004e48d16",
   "metadata": {},
   "outputs": [
    {
     "name": "stdout",
     "output_type": "stream",
     "text": [
      "1 2 3 4 5 6 "
     ]
    }
   ],
   "source": [
    "class Node:\n",
    "    def __init__(self, info): \n",
    "        self.info = info  \n",
    "        self.left = None  \n",
    "        self.right = None \n",
    "        self.level = None \n",
    "\n",
    "    def __str__(self):\n",
    "        return str(self.info) \n",
    "\n",
    "class BinarySearchTree:\n",
    "    def __init__(self): \n",
    "        self.root = None\n",
    "\n",
    "    def create(self, val):  \n",
    "        if self.root == None:\n",
    "            self.root = Node(val)\n",
    "        else:\n",
    "            current = self.root\n",
    "         \n",
    "            while True:\n",
    "                if val < current.info:\n",
    "                    if current.left:\n",
    "                        current = current.left\n",
    "                    else:\n",
    "                        current.left = Node(val)\n",
    "                        break\n",
    "                elif val > current.info:\n",
    "                    if current.right:\n",
    "                        current = current.right\n",
    "                    else:\n",
    "                        current.right = Node(val)\n",
    "                        break\n",
    "                else:\n",
    "                    break\n",
    "\n",
    "\"\"\"\n",
    "Node is defined as\n",
    "self.left (the left child of the node)\n",
    "self.right (the right child of the node)\n",
    "self.info (the value of the node)\n",
    "\"\"\"\n",
    "def inOrder(root):\n",
    "    #Write your code here\n",
    "    if root:\n",
    "        inOrder(root.left)\n",
    "        print(root.info, end=\" \")\n",
    "        inOrder(root.right)\n",
    "\n",
    "tree = BinarySearchTree()\n",
    "t = 6\n",
    "arr = [1, 2, 5, 3, 6, 4]\n",
    "\n",
    "for i in range(t):\n",
    "    tree.create(arr[i])\n",
    "\n",
    "inOrder(tree.root)\n"
   ]
  },
  {
   "cell_type": "markdown",
   "id": "3abcd86f-8cd2-4f2a-abf2-28b5a1dad713",
   "metadata": {},
   "source": [
    "## [Tree: Height of a Binary Tree](https://www.hackerrank.com/challenges/tree-height-of-a-binary-tree/problem?isFullScreen=false)\n"
   ]
  },
  {
   "cell_type": "code",
   "execution_count": 5,
   "id": "e1f74b7b-0c3d-4db9-8e2a-b37aae4dd174",
   "metadata": {},
   "outputs": [
    {
     "name": "stdout",
     "output_type": "stream",
     "text": [
      "4\n"
     ]
    }
   ],
   "source": [
    "class Node:\n",
    "    def __init__(self, info): \n",
    "        self.info = info  \n",
    "        self.left = None  \n",
    "        self.right = None \n",
    "        self.level = None \n",
    "\n",
    "    def __str__(self):\n",
    "        return str(self.info) \n",
    "\n",
    "class BinarySearchTree:\n",
    "    def __init__(self): \n",
    "        self.root = None\n",
    "\n",
    "    def create(self, val):  \n",
    "        if self.root == None:\n",
    "            self.root = Node(val)\n",
    "        else:\n",
    "            current = self.root\n",
    "         \n",
    "            while True:\n",
    "                if val < current.info:\n",
    "                    if current.left:\n",
    "                        current = current.left\n",
    "                    else:\n",
    "                        current.left = Node(val)\n",
    "                        break\n",
    "                elif val > current.info:\n",
    "                    if current.right:\n",
    "                        current = current.right\n",
    "                    else:\n",
    "                        current.right = Node(val)\n",
    "                        break\n",
    "                else:\n",
    "                    break\n",
    "\n",
    "# Enter your code here. Read input from STDIN. Print output to STDOUT\n",
    "from collections import deque\n",
    "'''\n",
    "class Node:\n",
    "      def __init__(self,info): \n",
    "          self.info = info  \n",
    "          self.left = None  \n",
    "          self.right = None \n",
    "           \n",
    "\n",
    "       // this is a node of the tree , which contains info as data, left , right\n",
    "'''\n",
    "def height(root):\n",
    "    if not root:\n",
    "        return -1\n",
    "    \n",
    "    queue = deque([root])\n",
    "    level = -1\n",
    "    while queue:\n",
    "        level += 1\n",
    "        for _ in range(len(queue)):\n",
    "            node = queue.popleft()\n",
    "\n",
    "            if node.left:\n",
    "                queue.append(node.left)\n",
    "            if node.right:\n",
    "                queue.append(node.right)\n",
    "    return level\n",
    "\n",
    "\n",
    "\n",
    "tree = BinarySearchTree()\n",
    "t = 6\n",
    "arr = [1, 2, 5, 3, 6, 4]\n",
    "\n",
    "for i in range(t):\n",
    "    tree.create(arr[i])\n",
    "\n",
    "print(height(tree.root))\n"
   ]
  },
  {
   "cell_type": "markdown",
   "id": "a53f895b-a0c7-4d8e-b420-a6e2229d4f28",
   "metadata": {},
   "source": [
    "## [Tree: Level Order Traversal](https://www.hackerrank.com/challenges/tree-level-order-traversal/problem?isFullScreen=false)\n"
   ]
  },
  {
   "cell_type": "code",
   "execution_count": 6,
   "id": "839399c6-3f32-4cd3-8e01-68e28dbf28ce",
   "metadata": {},
   "outputs": [
    {
     "name": "stdout",
     "output_type": "stream",
     "text": [
      "1 2 5 3 6 4 "
     ]
    }
   ],
   "source": [
    "class Node:\n",
    "    def __init__(self, info): \n",
    "        self.info = info  \n",
    "        self.left = None  \n",
    "        self.right = None \n",
    "        self.level = None \n",
    "\n",
    "    def __str__(self):\n",
    "        return str(self.info) \n",
    "\n",
    "class BinarySearchTree:\n",
    "    def __init__(self): \n",
    "        self.root = None\n",
    "\n",
    "    def create(self, val):  \n",
    "        if self.root == None:\n",
    "            self.root = Node(val)\n",
    "        else:\n",
    "            current = self.root\n",
    "         \n",
    "            while True:\n",
    "                if val < current.info:\n",
    "                    if current.left:\n",
    "                        current = current.left\n",
    "                    else:\n",
    "                        current.left = Node(val)\n",
    "                        break\n",
    "                elif val > current.info:\n",
    "                    if current.right:\n",
    "                        current = current.right\n",
    "                    else:\n",
    "                        current.right = Node(val)\n",
    "                        break\n",
    "                else:\n",
    "                    break\n",
    "\n",
    "\"\"\"\n",
    "Node is defined as\n",
    "self.left (the left child of the node)\n",
    "self.right (the right child of the node)\n",
    "self.info (the value of the node)\n",
    "\"\"\"\n",
    "from collections import deque\n",
    "\n",
    "def levelOrder(root):\n",
    "    #Write your code here\n",
    "    if not root:\n",
    "        return\n",
    "        \n",
    "    visited = set()\n",
    "    queue = deque([root])\n",
    "    \n",
    "    while queue:\n",
    "        node = queue.popleft()\n",
    "        if node not in visited:\n",
    "            visited.add(node)\n",
    "            print(node.info, end=\" \")\n",
    "        if node.left:\n",
    "            queue.append(node.left)\n",
    "        if node.right:\n",
    "            queue.append(node.right)\n",
    "\n",
    "tree = BinarySearchTree()\n",
    "t = 6\n",
    "arr = [1, 2, 5, 3, 6, 4]\n",
    "\n",
    "for i in range(t):\n",
    "    tree.create(arr[i])\n",
    "\n",
    "levelOrder(tree.root)"
   ]
  },
  {
   "cell_type": "code",
   "execution_count": null,
   "id": "7b2cc38a-59e0-4bff-a631-5c54efb3749c",
   "metadata": {},
   "outputs": [],
   "source": []
  },
  {
   "cell_type": "code",
   "execution_count": null,
   "id": "abed6565-0deb-44ef-8954-41ccf16356c0",
   "metadata": {},
   "outputs": [],
   "source": []
  },
  {
   "cell_type": "code",
   "execution_count": null,
   "id": "b3dc5adc-da4f-4ac1-8284-59d991093864",
   "metadata": {},
   "outputs": [],
   "source": []
  },
  {
   "cell_type": "code",
   "execution_count": null,
   "id": "bb9cbdfd-c9bf-418b-8eb5-f6c6df668093",
   "metadata": {},
   "outputs": [],
   "source": []
  },
  {
   "cell_type": "code",
   "execution_count": null,
   "id": "3ce135f4-3af3-447e-81ca-f2562e200edb",
   "metadata": {},
   "outputs": [],
   "source": []
  },
  {
   "cell_type": "code",
   "execution_count": null,
   "id": "aab7531d-bfbd-41b0-8aa1-df451428b7c1",
   "metadata": {},
   "outputs": [],
   "source": []
  },
  {
   "cell_type": "code",
   "execution_count": null,
   "id": "1d054022-676f-4645-87cc-39e401d5f982",
   "metadata": {},
   "outputs": [],
   "source": []
  },
  {
   "cell_type": "code",
   "execution_count": null,
   "id": "1c8b116d-fb07-4225-875e-9a0fa247ad81",
   "metadata": {},
   "outputs": [],
   "source": []
  }
 ],
 "metadata": {
  "kernelspec": {
   "display_name": "Python 3 (ipykernel)",
   "language": "python",
   "name": "python3"
  },
  "language_info": {
   "codemirror_mode": {
    "name": "ipython",
    "version": 3
   },
   "file_extension": ".py",
   "mimetype": "text/x-python",
   "name": "python",
   "nbconvert_exporter": "python",
   "pygments_lexer": "ipython3",
   "version": "3.12.7"
  }
 },
 "nbformat": 4,
 "nbformat_minor": 5
}
