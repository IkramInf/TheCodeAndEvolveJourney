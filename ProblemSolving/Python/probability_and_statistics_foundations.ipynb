{
 "cells": [
  {
   "cell_type": "markdown",
   "id": "f8604360-f3fd-41db-831b-2c4a15dcbb88",
   "metadata": {},
   "source": [
    "## Basic Statistics Warmup\n",
    "https://www.hackerrank.com/challenges/stat-warmup/problem"
   ]
  },
  {
   "cell_type": "code",
   "execution_count": 17,
   "id": "e03cf163-3940-458f-9b3b-b9582de58161",
   "metadata": {},
   "outputs": [
    {
     "name": "stdout",
     "output_type": "stream",
     "text": [
      "43900.6\n",
      "44627.5\n",
      "4978\n",
      "30466.9\n",
      "25017.0 62784.2\n"
     ]
    }
   ],
   "source": [
    "#n = int(input())\n",
    "n = 10\n",
    "m = n // 2\n",
    "#arr = sorted(map(int, input().split()))\n",
    "arr = sorted(map(int, \"64630 11735 14216 99233 14470 4978 73429 38120 51135 67060\".split()))\n",
    "\n",
    "# mean\n",
    "mean = sum(arr) / n\n",
    "\n",
    "# median\n",
    "median = (arr[m-1] + arr[m]) / 2 if n%2 == 0 else arr[m]\n",
    "\n",
    "# mode\n",
    "mode_dict = {}\n",
    "for num in arr:\n",
    "    mode_dict[num] = mode_dict.get(num, 0) + 1\n",
    "mode = sorted(mode_dict.items(), key=lambda x: x[1], reverse=True)[0][0]\n",
    "\n",
    "# std\n",
    "std = (sum([(mean - x)**2 for x in arr]) / n) ** 0.5\n",
    "\n",
    "# 95% confidence interval\n",
    "margin_err = 1.96 * (std / n**0.5)\n",
    "lb = mean - margin_err\n",
    "hb = mean + margin_err\n",
    "\n",
    "print(f\"{mean:.1f}\")\n",
    "print(f\"{median:.1f}\")\n",
    "print(f\"{mode}\")\n",
    "print(f\"{std:.1f}\")\n",
    "print(f\"{lb:.1f} {hb:.1f}\")\n"
   ]
  },
  {
   "cell_type": "markdown",
   "id": "f7ed3576-6e77-465c-aa59-77f7d9f36748",
   "metadata": {},
   "source": [
    "## Day 1: Standard Deviation Puzzles #1\n",
    "https://www.hackerrank.com/challenges/standard-deviation-puzzles-1/problem"
   ]
  },
  {
   "cell_type": "code",
   "execution_count": 20,
   "id": "b3c5b29f-26af-4ba3-ba4b-ae667e51c923",
   "metadata": {},
   "outputs": [
    {
     "name": "stdout",
     "output_type": "stream",
     "text": [
      "2.94\n"
     ]
    }
   ],
   "source": [
    "import sympy as sp\n",
    "\n",
    "# Define the variable N\n",
    "N = sp.symbols('N')\n",
    "\n",
    "values1 = {1, 2, 3, N}\n",
    "n1 = len(values1)\n",
    "values2 = {1, 2, 3}\n",
    "n2 = len(values2)\n",
    "\n",
    "mu2 = sum(values2) / n2\n",
    "std2 = (sum([(x - mu2) ** 2 for x in values2]) / n2) ** 0.5\n",
    "\n",
    "mu1 = sum(values1) / n1\n",
    "std1 = (sum([(x - mu1) ** 2 for x in values1]) / n1) ** 0.5\n",
    "\n",
    "# Set the standard deviation to std2\n",
    "equation = sp.Eq(std1, std2)\n",
    "\n",
    "# Solve for N\n",
    "solution = sp.solve(equation, N)\n",
    "print(f\"{max(solution):.2f}\")\n"
   ]
  },
  {
   "cell_type": "markdown",
   "id": "1834f2f0-cc42-4e8d-9b08-4eca8dd4e0fc",
   "metadata": {},
   "source": [
    "## Day 1: Standard Deviation Puzzles #2\n",
    "https://www.hackerrank.com/challenges/standard-deviation-puzzles-2/problem?isFullScreen=false\n",
    "\n",
    "z-score: $Z = (x - \\mu) / \\sigma $\n"
   ]
  },
  {
   "cell_type": "code",
   "execution_count": 43,
   "id": "21afbf14-c3d7-465f-8d7e-e0b2ea71df02",
   "metadata": {},
   "outputs": [
    {
     "name": "stdout",
     "output_type": "stream",
     "text": [
      "3.5\n"
     ]
    }
   ],
   "source": [
    "mu = 0.675\n",
    "sigma = 0.065\n",
    "x = 90.25 / 100  # convert cm to meter\n",
    "\n",
    "z = (x - mu) / sigma\n",
    "print(round(z, 2))\n"
   ]
  },
  {
   "cell_type": "markdown",
   "id": "2bd9c4ce-9936-4f23-9048-2b4ed8474e32",
   "metadata": {},
   "source": [
    "## Standard Deviation Puzzles - 3\n",
    "https://www.hackerrank.com/challenges/standard-deviation-puzzles-3/problem"
   ]
  },
  {
   "cell_type": "code",
   "execution_count": 46,
   "id": "fcd9c855-b401-4d17-9800-23c32bce89c0",
   "metadata": {},
   "outputs": [
    {
     "name": "stdout",
     "output_type": "stream",
     "text": [
      "5.0\n"
     ]
    }
   ],
   "source": [
    "mu1, mu2 = 10, 20\n",
    "sigma1, sigma2 = 3, 4\n",
    "\n",
    "sigma = (sigma1**2 + sigma2**2) ** 0.5\n",
    "print(round(sigma, 2))\n"
   ]
  },
  {
   "cell_type": "markdown",
   "id": "49d34e34-bb36-4965-9e25-c23d02be703d",
   "metadata": {},
   "source": [
    "## Standard Deviation Puzzles - 4\n",
    "https://www.hackerrank.com/challenges/standard-deviation-puzzles-4/problem"
   ]
  },
  {
   "cell_type": "code",
   "execution_count": 53,
   "id": "9aadc538-d386-4d0e-9c86-06c521152028",
   "metadata": {},
   "outputs": [
    {
     "name": "stdout",
     "output_type": "stream",
     "text": [
      "5.0\n"
     ]
    }
   ],
   "source": [
    "# By variance sum law: (SD of x-y)^2 = (SD of x)^2 + (SD of y)^2\n",
    "mu1, mu2 = 10, 20\n",
    "sigma1, sigma2 = 3, 4\n",
    "\n",
    "sigma = abs(sigma1**2 + sigma2**2) ** 0.5\n",
    "print(round(sigma, 2))\n"
   ]
  },
  {
   "cell_type": "markdown",
   "id": "5231c136-99fd-4425-bed2-bac7e1e95616",
   "metadata": {},
   "source": [
    "## Standard Deviation Puzzles - 5\n",
    "https://www.hackerrank.com/challenges/standard-deviation-puzzles-5/problem"
   ]
  },
  {
   "cell_type": "code",
   "execution_count": 85,
   "id": "c6a78bfb-5063-4002-a80a-4e1a87964ed4",
   "metadata": {},
   "outputs": [
    {
     "name": "stdout",
     "output_type": "stream",
     "text": [
      "9.98\n"
     ]
    }
   ],
   "source": [
    "import numpy as np\n",
    "\n",
    "np.random.seed(0)\n",
    "mu, sigma, size = 45, 10, 500\n",
    "x = np.random.normal(loc = mu, scale = sigma, size = size) \n",
    "x1 =[num + 10 for num in x]\n",
    "S = np.std(x1)\n",
    "print(round(S, 2))\n"
   ]
  },
  {
   "cell_type": "markdown",
   "id": "a383665d-7c02-4fcb-b3d0-b5c8689a55ef",
   "metadata": {},
   "source": [
    "## Standard Deviation Puzzles - 6\n",
    "https://www.hackerrank.com/challenges/standard-deviation-puzzles-6/problem"
   ]
  },
  {
   "cell_type": "code",
   "execution_count": 89,
   "id": "25beb217-4774-4639-8131-4f17109df2ee",
   "metadata": {},
   "outputs": [
    {
     "name": "stdout",
     "output_type": "stream",
     "text": [
      "19.96\n"
     ]
    }
   ],
   "source": [
    "import numpy as np\n",
    "\n",
    "np.random.seed(0)\n",
    "mu, sigma, size = 45, 10, 500\n",
    "x = np.random.normal(loc = mu, scale = sigma, size = size) \n",
    "x1 =[2 * x for x in x]\n",
    "S = np.std(x1)\n",
    "print(round(S, 2))\n"
   ]
  },
  {
   "cell_type": "markdown",
   "id": "1f3c38dc-cb06-48b6-9243-2e0555dbf4eb",
   "metadata": {},
   "source": [
    "## Day 2: Basic Probability Puzzles #1\n",
    "https://www.hackerrank.com/challenges/basic-probability-puzzles-1/problem"
   ]
  },
  {
   "cell_type": "code",
   "execution_count": 35,
   "id": "3037957f-3258-47c1-a206-c26bfccb9753",
   "metadata": {},
   "outputs": [
    {
     "name": "stdout",
     "output_type": "stream",
     "text": [
      "5/6\n"
     ]
    }
   ],
   "source": [
    "from math import gcd\n",
    "from itertools import product\n",
    "\n",
    "possibilities = list(product(range(1, 7), repeat=2))\n",
    "A = 0\n",
    "B = len(possibilities)\n",
    "\n",
    "for pair in possibilities:\n",
    "    if pair[0] + pair[1] <= 9:\n",
    "        A += 1\n",
    "\n",
    "C = gcd(A, B)\n",
    "A = A // C\n",
    "B = B // C\n",
    "\n",
    "print(f\"{A}/{B}\")\n"
   ]
  },
  {
   "cell_type": "markdown",
   "id": "44bb5734-9e7b-4612-b62d-2abaad2650e2",
   "metadata": {},
   "source": [
    "## Day 2: Basic Probability Puzzles #2\n",
    "https://www.hackerrank.com/challenges/basic-probability-puzzles-2/problem"
   ]
  },
  {
   "cell_type": "code",
   "execution_count": 32,
   "id": "94ca987a-ace9-4c15-b1c4-c2ac10a0a20e",
   "metadata": {},
   "outputs": [
    {
     "name": "stdout",
     "output_type": "stream",
     "text": [
      "1/9\n"
     ]
    }
   ],
   "source": [
    "from math import gcd\n",
    "from itertools import product\n",
    "\n",
    "possibilities = list(product(range(1, 7), repeat=2))\n",
    "A = 0\n",
    "B = len(possibilities)\n",
    "\n",
    "for pair in possibilities:\n",
    "    if (pair[0] != pair[1]) and (pair[0] + pair[1] == 6):\n",
    "        A += 1\n",
    "\n",
    "C = gcd(A, B)\n",
    "A = A // C\n",
    "B = B // C\n",
    "\n",
    "print(f\"{A}/{B}\")\n"
   ]
  },
  {
   "cell_type": "markdown",
   "id": "691ecae8-7dfd-4b2c-a2c9-9d961ea63eda",
   "metadata": {},
   "source": [
    "## Day 2: Basic Probability Puzzles #3\n",
    "https://www.hackerrank.com/challenges/basic-probability-puzzles-3/problem"
   ]
  },
  {
   "cell_type": "code",
   "execution_count": 29,
   "id": "f84a29a5-93bb-439b-9fc6-f4545274405d",
   "metadata": {},
   "outputs": [
    {
     "name": "stdout",
     "output_type": "stream",
     "text": [
      "17/42\n"
     ]
    }
   ],
   "source": [
    "from fractions import Fraction\n",
    "\n",
    "# Define the sums\n",
    "S_X = 4 + 3\n",
    "S_Y = 5 + 4\n",
    "S_Z = 4 + 4\n",
    "S = S_X * S_Y * S_Z\n",
    "\n",
    "# Calculate individual probabilities as fractions\n",
    "P1 = Fraction(4, S_X) * Fraction(5, S_Y) * Fraction(4, S_Z)  # Z black\n",
    "P2 = Fraction(4, S_X) * Fraction(4, S_Y) * Fraction(4, S_Z)  # Y black\n",
    "P3 = Fraction(3, S_X) * Fraction(5, S_Y) * Fraction(4, S_Z)  # X black\n",
    "\n",
    "# Sum of the probabilities\n",
    "P = P1 + P2 + P3\n",
    "print(P)\n"
   ]
  },
  {
   "cell_type": "markdown",
   "id": "889050ee-08e8-4637-944a-62a686d23268",
   "metadata": {},
   "source": [
    "## Day 2: Basic Probability Puzzles #4\n",
    "https://www.hackerrank.com/challenges/basic-probability-puzzles-4/problem"
   ]
  },
  {
   "cell_type": "code",
   "execution_count": 25,
   "id": "a0833bea-9845-4be6-8a2c-d7b5130a2eb1",
   "metadata": {},
   "outputs": [
    {
     "name": "stdout",
     "output_type": "stream",
     "text": [
      "7/15\n"
     ]
    }
   ],
   "source": [
    "from fractions import Fraction\n",
    "\n",
    "# Sum = red + black\n",
    "bag1 = 4 + 5\n",
    "bag2 = 3 + 7\n",
    "\n",
    "P1 = Fraction(4, bag1) * Fraction(7, bag2) * Fraction(6, bag2-1)  # Bag1 red\n",
    "P2 = Fraction(5, bag1) * Fraction(3, bag2) * Fraction(7, bag2-1)  # Bag1 black and Bag2 first red\n",
    "P3 = Fraction(5, bag1) * Fraction(7, bag2) * Fraction(3, bag2-1)  # Bag1 black and Bag2 first black\n",
    "\n",
    "# Sum of the probabilities\n",
    "P = P1 + P2 + P3\n",
    "print(P)\n"
   ]
  },
  {
   "cell_type": "markdown",
   "id": "bc475bed-5683-4183-a2a8-664b9ed9cf4f",
   "metadata": {},
   "source": [
    "## Day 3: Basic Probability Puzzles #5\n",
    "https://www.hackerrank.com/challenges/basic-probability-puzzles-5/problem"
   ]
  },
  {
   "cell_type": "code",
   "execution_count": 23,
   "id": "a1683e11-76fc-4c40-a950-35a22c9a874c",
   "metadata": {},
   "outputs": [
    {
     "name": "stdout",
     "output_type": "stream",
     "text": [
      "2/9\n"
     ]
    }
   ],
   "source": [
    "from math import factorial\n",
    "from fractions import Fraction\n",
    "\n",
    "n = 10 - 1\n",
    "P = Fraction(factorial(n-1)*2, factorial(n))\n",
    "print(P)\n"
   ]
  },
  {
   "cell_type": "markdown",
   "id": "20c8fb8d-4373-42b8-a9b8-a29ba1b09d2c",
   "metadata": {},
   "source": [
    "## Day 3: Basic Probability Puzzles #6\n",
    "https://www.hackerrank.com/challenges/basic-probability-puzzles-6/problem"
   ]
  },
  {
   "cell_type": "code",
   "execution_count": 13,
   "id": "4cdaadf1-36d1-423a-8e70-5406e9fcdc96",
   "metadata": {},
   "outputs": [
    {
     "name": "stdout",
     "output_type": "stream",
     "text": [
      "29/63\n"
     ]
    }
   ],
   "source": [
    "from fractions import Fraction\n",
    "\n",
    "p1 = Fraction(5, 9) * Fraction(6, 14)\n",
    "p2 = Fraction(4, 9) * Fraction(7, 14)\n",
    "\n",
    "p = p1 + p2\n",
    "print(p)\n"
   ]
  },
  {
   "cell_type": "markdown",
   "id": "0c551c02-caaa-478d-8e01-285766d4f633",
   "metadata": {},
   "source": [
    "## Day 3: Basic Probability Puzzles #7\n",
    "https://www.hackerrank.com/challenges/basic-probability-puzzles-7/problem"
   ]
  },
  {
   "cell_type": "code",
   "execution_count": 11,
   "id": "e36dd347-c2d2-4e1d-900d-6c841a01e642",
   "metadata": {},
   "outputs": [
    {
     "name": "stdout",
     "output_type": "stream",
     "text": [
      "5/61\n"
     ]
    }
   ],
   "source": [
    "from fractions import Fraction\n",
    "\n",
    "A = 500 * Fraction(5, 1000)\n",
    "B = 1000 * Fraction(8, 1000)\n",
    "C = 2000 * Fraction(1, 100)\n",
    "\n",
    "P = Fraction(A, A + B + C)\n",
    "print(P)\n"
   ]
  },
  {
   "cell_type": "markdown",
   "id": "3a94dd90-1893-43bb-882d-e10885c3d925",
   "metadata": {},
   "source": [
    "## Day 3: Basic Probability Puzzles #8\n",
    "https://www.hackerrank.com/challenges/basic-probability-puzzles-8/problem"
   ]
  },
  {
   "cell_type": "code",
   "execution_count": 8,
   "id": "6016e0fd-fd82-4ba6-a9a1-10cb82b21fb0",
   "metadata": {},
   "outputs": [
    {
     "name": "stdout",
     "output_type": "stream",
     "text": [
      "9/10\n"
     ]
    }
   ],
   "source": [
    "from fractions import Fraction\n",
    "\n",
    "pM = Fraction(1, 2)\n",
    "pE = 1 - Fraction(2, 5)\n",
    "pME = Fraction(1, 5)\n",
    "\n",
    "P = pM + pE - pME\n",
    "print(P)\n"
   ]
  },
  {
   "cell_type": "markdown",
   "id": "2d0a1c46-fe02-4359-a02b-86b7c7094e53",
   "metadata": {},
   "source": [
    "## Basic Probability Puzzles #9\n",
    "https://www.hackerrank.com/challenges/basic-probability-puzzles-9/problem"
   ]
  },
  {
   "cell_type": "code",
   "execution_count": 5,
   "id": "57ccdbad-19f8-4579-8339-86436d863bf4",
   "metadata": {},
   "outputs": [
    {
     "name": "stdout",
     "output_type": "stream",
     "text": [
      "23/100\n"
     ]
    }
   ],
   "source": [
    "from fractions import Fraction\n",
    "\n",
    "p1 = Fraction(11, 12)\n",
    "p2 = Fraction(14, 15)\n",
    "p3 = Fraction(9, 10)\n",
    "P = 1 - (p1 * p2 * p3)\n",
    "print(P)\n"
   ]
  },
  {
   "cell_type": "markdown",
   "id": "203c5a16-eefb-4e9c-a09d-e3928d8a5d64",
   "metadata": {},
   "source": [
    "## Basic Probability Puzzles #10\n",
    "https://www.hackerrank.com/challenges/basic-probability-puzzles-10/problem"
   ]
  },
  {
   "cell_type": "code",
   "execution_count": 2,
   "id": "47a82e5a-8998-4fb6-8f40-ef31e7f09dad",
   "metadata": {},
   "outputs": [
    {
     "name": "stdout",
     "output_type": "stream",
     "text": [
      "2/5\n"
     ]
    }
   ],
   "source": [
    "from fractions import Fraction\n",
    "\n",
    "pB = Fraction(1, 3)\n",
    "pN = Fraction(1, 5)\n",
    "p1 = pB * (1 - pN)\n",
    "p2 = pN * (1 - pB)\n",
    "P = p1 + p2\n",
    "print(P)\n"
   ]
  },
  {
   "cell_type": "code",
   "execution_count": null,
   "id": "f7a2986d-99a1-4ebc-a5cd-dc7ae71f9ab7",
   "metadata": {},
   "outputs": [],
   "source": []
  }
 ],
 "metadata": {
  "kernelspec": {
   "display_name": "Python 3 (ipykernel)",
   "language": "python",
   "name": "python3"
  },
  "language_info": {
   "codemirror_mode": {
    "name": "ipython",
    "version": 3
   },
   "file_extension": ".py",
   "mimetype": "text/x-python",
   "name": "python",
   "nbconvert_exporter": "python",
   "pygments_lexer": "ipython3",
   "version": "3.12.4"
  }
 },
 "nbformat": 4,
 "nbformat_minor": 5
}
