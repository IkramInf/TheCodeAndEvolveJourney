{
 "cells": [
  {
   "cell_type": "markdown",
   "id": "4bdc189c-00f7-4834-8cf6-c16c27a4d857",
   "metadata": {},
   "source": [
    "## [509. Fibonacci Number](https://leetcode.com/problems/fibonacci-number/)\n"
   ]
  },
  {
   "cell_type": "code",
   "execution_count": 1,
   "id": "345f608a-1d0d-478d-a1bf-ce1a87cee8c7",
   "metadata": {},
   "outputs": [
    {
     "data": {
      "text/plain": [
       "5"
      ]
     },
     "execution_count": 1,
     "metadata": {},
     "output_type": "execute_result"
    }
   ],
   "source": [
    "class Solution:\n",
    "    def fib(self, n: int) -> int:\n",
    "        if n < 0:\n",
    "            return None\n",
    "        elif n == 0:\n",
    "            return 0\n",
    "        elif n == 1:\n",
    "            return 1\n",
    "        return self.fib(n-1) + self.fib(n-2)\n",
    "    \n",
    "fibo = Solution()\n",
    "fibo.fib(5)\n"
   ]
  },
  {
   "cell_type": "code",
   "execution_count": 3,
   "id": "706d56c9-3353-44e7-803c-474177843879",
   "metadata": {},
   "outputs": [
    {
     "data": {
      "text/plain": [
       "5"
      ]
     },
     "execution_count": 3,
     "metadata": {},
     "output_type": "execute_result"
    }
   ],
   "source": [
    "class Solution:\n",
    "    def fib(self, n: int) -> int:\n",
    "        if n < 0:\n",
    "            return None\n",
    "        elif n == 0:\n",
    "            return 0\n",
    "        elif n == 1:\n",
    "            return 1\n",
    "        series = [0, 1]\n",
    "        for i in range(2, n+1):\n",
    "            series.append(series[i-1] + series[i-2])\n",
    "        return series[n]\n",
    "    \n",
    "fibo = Solution()\n",
    "fibo.fib(5)\n"
   ]
  },
  {
   "cell_type": "code",
   "execution_count": 4,
   "id": "7ab8e66f-d7f6-4032-8dc8-ddb6b3634113",
   "metadata": {},
   "outputs": [
    {
     "data": {
      "text/plain": [
       "5"
      ]
     },
     "execution_count": 4,
     "metadata": {},
     "output_type": "execute_result"
    }
   ],
   "source": [
    "class Solution:\n",
    "    def fib(self, n: int) -> int:\n",
    "        if n < 0:\n",
    "            return None\n",
    "        elif n == 0:\n",
    "            return 0\n",
    "        elif n == 1:\n",
    "            return 1\n",
    "        fib1, fib2 = 0, 1\n",
    "        for i in range(2, n+1):\n",
    "            fib1, fib2 = fib2, fib1 + fib2\n",
    "        return fib2\n",
    "    \n",
    "fibo = Solution()\n",
    "fibo.fib(5)\n"
   ]
  },
  {
   "cell_type": "markdown",
   "id": "45f5f8f4-4f43-4db4-8a93-636b055ed1ec",
   "metadata": {},
   "source": [
    "## [2364. Count Number of Bad Pairs](https://leetcode.com/problems/count-number-of-bad-pairs/description/)\n"
   ]
  },
  {
   "cell_type": "code",
   "execution_count": 6,
   "id": "be1b167a-b45f-4b5c-b76b-ea882002c594",
   "metadata": {},
   "outputs": [
    {
     "data": {
      "text/plain": [
       "5"
      ]
     },
     "execution_count": 6,
     "metadata": {},
     "output_type": "execute_result"
    }
   ],
   "source": [
    "from typing import List\n",
    "\n",
    "class Solution:\n",
    "    def countBadPairs(self, nums: List[int]) -> int:\n",
    "        freq = dict()\n",
    "        good_pairs = 0\n",
    "        n = len(nums)\n",
    "\n",
    "        for i, num in enumerate(nums):\n",
    "            diff = num - i\n",
    "            good_pairs += freq.get(diff, 0)  # Count previous occurrences of this diff\n",
    "            freq[diff] = freq.get(diff, 0) + 1  # Update the frequency of diff\n",
    "\n",
    "        total_pairs = (n * (n - 1)) // 2  # Total number of pairs\n",
    "        return total_pairs - good_pairs  # Bad pairs = total - good pairs\n",
    "\n",
    "sol = Solution()\n",
    "nums = [4,1,3,3]\n",
    "sol.countBadPairs(nums)\n"
   ]
  },
  {
   "cell_type": "markdown",
   "id": "14f06d73-f1e3-4323-907d-ba55fb86bc73",
   "metadata": {},
   "source": [
    "## [2427. Number of Common Factors](https://leetcode.com/problems/number-of-common-factors/description/)"
   ]
  },
  {
   "cell_type": "code",
   "execution_count": 7,
   "id": "faf45fb8-c37b-4c9d-b5e0-e15e9660270b",
   "metadata": {},
   "outputs": [
    {
     "data": {
      "text/plain": [
       "2"
      ]
     },
     "execution_count": 7,
     "metadata": {},
     "output_type": "execute_result"
    }
   ],
   "source": [
    "class Solution:\n",
    "    def commonFactors(self, a: int, b: int) -> int:\n",
    "        c = min(a, b)\n",
    "        c_mid = c // 2\n",
    "        count = 0\n",
    "        for i in range(1, c_mid+1):\n",
    "            if (a % i == 0) and (b % i == 0):\n",
    "                count += 1\n",
    "        \n",
    "        if (a % c == 0) and (b % c == 0):\n",
    "            count += 1\n",
    "\n",
    "        return count\n",
    "\n",
    "sol = Solution()\n",
    "a, b = 25, 30\n",
    "sol.commonFactors(a, b)\n"
   ]
  },
  {
   "cell_type": "markdown",
   "id": "f11565ad-1fdf-4c9e-8aa2-27f66a2232da",
   "metadata": {},
   "source": [
    "## [1475. Final Prices With a Special Discount in a Shop](https://leetcode.com/problems/final-prices-with-a-special-discount-in-a-shop/description/)\n"
   ]
  },
  {
   "cell_type": "code",
   "execution_count": 2,
   "id": "539a2d6e-f616-49d8-bc22-5fbfcf8888fb",
   "metadata": {},
   "outputs": [
    {
     "data": {
      "text/plain": [
       "[4, 2, 4, 2, 3]"
      ]
     },
     "execution_count": 2,
     "metadata": {},
     "output_type": "execute_result"
    }
   ],
   "source": [
    "from typing import List\n",
    "\n",
    "class Solution:\n",
    "    def finalPrices(self, prices: List[int]) -> List[int]:\n",
    "        n = len(prices)\n",
    "        answer = prices\n",
    "        for i in range(n - 1):\n",
    "            for j in range(i + 1, n):\n",
    "                if prices[j] <= prices[i]:\n",
    "                    answer[i] = prices[i] - prices[j]\n",
    "                    break\n",
    "        return answer\n",
    "\n",
    "sol = Solution()\n",
    "prices = [8,4,6,2,3]\n",
    "sol.finalPrices(prices)\n"
   ]
  },
  {
   "cell_type": "markdown",
   "id": "033f1950-b25c-4e92-848c-edd6494cc14c",
   "metadata": {},
   "source": [
    "## [2521. Distinct Prime Factors of Product of Array](https://leetcode.com/problems/distinct-prime-factors-of-product-of-array/description/)\n"
   ]
  },
  {
   "cell_type": "code",
   "execution_count": 18,
   "id": "4a7d6a1c-e4d4-48da-b3f6-7cdb8d8db795",
   "metadata": {},
   "outputs": [
    {
     "data": {
      "text/plain": [
       "4"
      ]
     },
     "execution_count": 18,
     "metadata": {},
     "output_type": "execute_result"
    }
   ],
   "source": [
    "class Solution:\n",
    "    def distinctPrimeFactors(self, nums: List[int]) -> int:\n",
    "        factors = {}\n",
    "        for n in nums:\n",
    "            while n % 2 == 0:\n",
    "                factors[2] = factors.get(2, 0) + 1\n",
    "                n //= 2\n",
    "            limit = int(n ** 0.5) + 1\n",
    "            for i in range(3, limit + 1, 2):\n",
    "                while n % i == 0:\n",
    "                    factors[i] = factors.get(i, 0) + 1\n",
    "                    n //= i\n",
    "\n",
    "            # If n is still greater than 2, it must be prime\n",
    "            if n > 2:\n",
    "                factors[n] = factors.get(n, 0) + 1\n",
    "\n",
    "        return len(factors)\n",
    "        \n",
    "sol = Solution()\n",
    "nums = [2,4,3,7,10,6]\n",
    "sol.distinctPrimeFactors(nums)\n"
   ]
  },
  {
   "cell_type": "code",
   "execution_count": 19,
   "id": "46de458f-e554-4299-8634-1ff29478bd30",
   "metadata": {},
   "outputs": [
    {
     "data": {
      "text/plain": [
       "4"
      ]
     },
     "execution_count": 19,
     "metadata": {},
     "output_type": "execute_result"
    }
   ],
   "source": [
    "class Solution:\n",
    "    def distinctPrimeFactors(self, nums: List[int]) -> int:\n",
    "        factors = set()\n",
    "        for n in nums:\n",
    "            while n % 2 == 0:\n",
    "                factors.add(2)\n",
    "                n //= 2\n",
    "            limit = int(n ** 0.5) + 1\n",
    "            for i in range(3, limit + 1, 2):\n",
    "                while n % i == 0:\n",
    "                    factors.add(i)\n",
    "                    n //= i\n",
    "\n",
    "            # If n is still greater than 2, it must be prime\n",
    "            if n > 2:\n",
    "                factors.add(n)\n",
    "\n",
    "        return len(factors)\n",
    "\n",
    "sol = Solution()\n",
    "nums = [2,4,3,7,10,6]\n",
    "sol.distinctPrimeFactors(nums)\n"
   ]
  },
  {
   "cell_type": "code",
   "execution_count": null,
   "id": "93db610b-b68c-48a8-a2de-b358e91f2dd0",
   "metadata": {},
   "outputs": [],
   "source": []
  },
  {
   "cell_type": "code",
   "execution_count": 21,
   "id": "4722e2e3-3bda-4262-8eab-5f0e283a766c",
   "metadata": {},
   "outputs": [
    {
     "data": {
      "text/plain": [
       "17"
      ]
     },
     "execution_count": 21,
     "metadata": {},
     "output_type": "execute_result"
    }
   ],
   "source": [
    "class Solution:\n",
    "    def diagonalPrime(self, nums: List[List[int]]) -> int:\n",
    "        def isPrime(n):\n",
    "            if n < 2:\n",
    "                return False\n",
    "            elif n == 2:\n",
    "                return True\n",
    "            elif n % 2 == 0:\n",
    "                return False\n",
    "            limit = int(n ** 0.5) + 2\n",
    "            for k in range(3, limit, 2):\n",
    "                if n % k == 0:\n",
    "                    return False\n",
    "            return True\n",
    "\n",
    "        primes = set()\n",
    "        length = len(nums)\n",
    "        for i in range(length):\n",
    "            d1, d2 = nums[i][i], nums[i][length-i-1]\n",
    "            if isPrime(d1):\n",
    "                primes.add(d1)\n",
    "            if isPrime(d2):\n",
    "                primes.add(d2)\n",
    "        if primes:\n",
    "            return max(primes)\n",
    "        return 0\n",
    "\n",
    "sol = Solution()\n",
    "nums = nums = [[1,2,3],[5,17,7],[9,11,10]]\n",
    "sol.diagonalPrime(nums)\n"
   ]
  },
  {
   "cell_type": "code",
   "execution_count": 22,
   "id": "80ea634f-f888-4ba8-bca0-a848ef8834e2",
   "metadata": {},
   "outputs": [
    {
     "data": {
      "text/plain": [
       "17"
      ]
     },
     "execution_count": 22,
     "metadata": {},
     "output_type": "execute_result"
    }
   ],
   "source": [
    "class Solution:\n",
    "    def diagonalPrime(self, nums: List[List[int]]) -> int:\n",
    "        def isPrime(n):\n",
    "            if n < 2:\n",
    "                return False\n",
    "            elif n == 2:\n",
    "                return True\n",
    "            elif n % 2 == 0:\n",
    "                return False\n",
    "            limit = int(n ** 0.5) + 2\n",
    "            for k in range(3, limit, 2):\n",
    "                if n % k == 0:\n",
    "                    return False\n",
    "            return True\n",
    "\n",
    "        max_prime = 0\n",
    "        length = len(nums)\n",
    "        for i in range(length):\n",
    "            d1, d2 = nums[i][i], nums[i][length-i-1]\n",
    "            if isPrime(d1):\n",
    "                max_prime = max(d1, max_prime)\n",
    "            if isPrime(d2):\n",
    "                max_prime = max(d2, max_prime)\n",
    "        return max_prime\n",
    "\n",
    "sol = Solution()\n",
    "nums = nums = [[1,2,3],[5,17,7],[9,11,10]]\n",
    "sol.diagonalPrime(nums)\n"
   ]
  },
  {
   "cell_type": "markdown",
   "id": "86a9bd2a-cf0f-4ed5-acdc-5be907b9662e",
   "metadata": {},
   "source": [
    "## [1998. GCD Sort of an Array](https://leetcode.com/problems/gcd-sort-of-an-array/description/)\n"
   ]
  },
  {
   "cell_type": "code",
   "execution_count": 25,
   "id": "461cff96-f4f8-4b49-b2ed-8c9c4077666c",
   "metadata": {},
   "outputs": [
    {
     "data": {
      "text/plain": [
       "5"
      ]
     },
     "execution_count": 25,
     "metadata": {},
     "output_type": "execute_result"
    }
   ],
   "source": [
    "def gcd(a, b):\n",
    "    if a % b == 0:\n",
    "        return b\n",
    "    return gcd(b, a%b)\n",
    "\n",
    "gcd(5, 15)\n"
   ]
  },
  {
   "cell_type": "code",
   "execution_count": 27,
   "id": "bfb4a113-40f1-41fd-82cc-78eb9d3a4b5d",
   "metadata": {},
   "outputs": [
    {
     "data": {
      "text/plain": [
       "True"
      ]
     },
     "execution_count": 27,
     "metadata": {},
     "output_type": "execute_result"
    }
   ],
   "source": [
    "from typing import List\n",
    "import math\n",
    "\n",
    "class Solution:\n",
    "    def gcdSort(self, nums: List[int]) -> bool:\n",
    "        max_num = max(nums)\n",
    "        parent = {}  # Use dictionary for Union-Find to reduce space usage\n",
    "\n",
    "        def find(x):\n",
    "            if parent[x] != x:\n",
    "                parent[x] = find(parent[x])  # Path compression\n",
    "            return parent[x]\n",
    "\n",
    "        def union(x, y):\n",
    "            parent.setdefault(x, x)  # Initialize if not present\n",
    "            parent.setdefault(y, y)\n",
    "            parent[find(x)] = find(y)\n",
    "\n",
    "        # Function to factorize and connect factors\n",
    "        def prime_factorization(n):\n",
    "            factors = set()\n",
    "            while n % 2 == 0:\n",
    "                factors.add(2)\n",
    "                n //= 2\n",
    "            for i in range(3, int(math.sqrt(n)) + 1, 2):\n",
    "                while n % i == 0:\n",
    "                    factors.add(i)\n",
    "                    n //= i\n",
    "            if n > 1:\n",
    "                factors.add(n)\n",
    "            return factors\n",
    "\n",
    "        # Connect numbers via their prime factors\n",
    "        for num in nums:\n",
    "            factors = prime_factorization(num)\n",
    "            for factor in factors:\n",
    "                union(num, factor)\n",
    "\n",
    "        # Check if sorting is possible\n",
    "        sorted_nums = sorted(nums)\n",
    "        for a, b in zip(nums, sorted_nums):\n",
    "            if find(a) != find(b):\n",
    "                return False\n",
    "        return True\n",
    "\n",
    "sol = Solution()\n",
    "nums = [10,5,9,3,15]\n",
    "sol.gcdSort(nums)\n"
   ]
  },
  {
   "cell_type": "code",
   "execution_count": null,
   "id": "98e29cbb-8974-4951-9712-2edffec04e06",
   "metadata": {},
   "outputs": [],
   "source": []
  }
 ],
 "metadata": {
  "kernelspec": {
   "display_name": "Python 3 (ipykernel)",
   "language": "python",
   "name": "python3"
  },
  "language_info": {
   "codemirror_mode": {
    "name": "ipython",
    "version": 3
   },
   "file_extension": ".py",
   "mimetype": "text/x-python",
   "name": "python",
   "nbconvert_exporter": "python",
   "pygments_lexer": "ipython3",
   "version": "3.12.7"
  }
 },
 "nbformat": 4,
 "nbformat_minor": 5
}
